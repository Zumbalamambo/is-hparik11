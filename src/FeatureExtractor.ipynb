{
 "cells": [
  {
   "cell_type": "code",
   "execution_count": 9,
   "metadata": {
    "collapsed": true
   },
   "outputs": [],
   "source": [
    "import cv2\n",
    "import numpy as np\n",
    "import matplotlib.pyplot as plt\n",
    "import os"
   ]
  },
  {
   "cell_type": "code",
   "execution_count": 4,
   "metadata": {
    "collapsed": false
   },
   "outputs": [],
   "source": [
    "face_cascade = cv2.CascadeClassifier('haarcascade_frontalface_default.xml')\n",
    "eye_cascade = cv2.CascadeClassifier('haarcascade_eye.xml')\n",
    "smile_cascade = cv2.CascadeClassifier('haarcascade_smile.xml')"
   ]
  },
  {
   "cell_type": "code",
   "execution_count": null,
   "metadata": {
    "collapsed": false
   },
   "outputs": [],
   "source": [
    "img = cv2.imread('ankitanarula.jpg')\n",
    "gray = cv2.cvtColor(img, cv2.COLOR_BGR2GRAY)\n",
    "\n",
    "faces = face_cascade.detectMultiScale(gray, 1.1, 5)\n",
    "\n",
    "for (x,y,w,h) in faces:\n",
    "    cv2.rectangle(img,(x,y),(x+w,y+h),(255,0,0),2)\n",
    "    roi_gray = gray[y:y+h, x:x+w]\n",
    "    roi_color = img[y:y+h, x:x+w]\n",
    "    eyes = eye_cascade.detectMultiScale(roi_gray)\n",
    "    smiles = smile_cascade.detectMultiScale(roi_color)\n",
    "    for (ex,ey,ew,eh) in eyes:\n",
    "         cv2.rectangle(roi_color,(ex,ey),(ex+ew,ey+eh),(0,255,0),2)\n",
    "    \n",
    "    for (sx,sy,sw,sh) in smiles:\n",
    "         cv2.rectangle(roi_color,(sx,sy),(sx+sw,sy+sh),(255,0,255),2)\n",
    "\n",
    "cv2.imshow('img',img)\n",
    "cv2.waitKey(0)\n",
    "cv2.destroyAllWindows()"
   ]
  },
  {
   "cell_type": "code",
   "execution_count": 7,
   "metadata": {
    "collapsed": false
   },
   "outputs": [
    {
     "name": "stdout",
     "output_type": "stream",
     "text": [
      "Found 4 faces!\n"
     ]
    }
   ],
   "source": [
    "img = cv2.imread('Image.png')\n",
    "faceCascade = cv2.CascadeClassifier(\"haarcascade_frontalface_default.xml\")\n",
    "\n",
    "#image = cv2.imread('Image.png')\n",
    "gray = cv2.cvtColor(img, cv2.COLOR_BGR2GRAY)\n",
    "\n",
    "# Detect faces in the image\n",
    "faces = faceCascade.detectMultiScale(\n",
    "    gray,\n",
    "    scaleFactor=1.1,\n",
    "    minNeighbors=5,\n",
    "    \n",
    ")\n",
    "\n",
    "print \"Found {0} faces!\".format(len(faces))\n",
    "\n",
    "# Draw a rectangle around the faces\n",
    "for (x, y, w, h) in faces:\n",
    "    cv2.rectangle(img, (x, y), (x+w, y+h), (0, 255, 0), 2)\n",
    "    #cv2.imshow(\"Adding faces to traning set...\", img[y: y + h, x: x + w])\n",
    "\n",
    "cv2.imshow(\"Faces found\", img)\n",
    "cv2.waitKey(0)\n",
    "cv2.destroyAllWindows()"
   ]
  },
  {
   "cell_type": "code",
   "execution_count": 39,
   "metadata": {
    "collapsed": false
   },
   "outputs": [],
   "source": [
    "path = './Images'\n",
    "image_paths = [os.path.join(path, f) for f in os.listdir(path)]     #if f.endswith('.jpg')\n",
    "#print image_path\n",
    "# images will contains face images\n",
    "images = []\n",
    "# labels will contains the label that is assigned to the image\n",
    "labels = []\n",
    "for image_path in image_paths:\n",
    "    # Read the image and convert to grayscale\n",
    "    image_pil = Image.open(image_path).convert('L')\n",
    "    # Convert the image format into numpy array\n",
    "    image = np.array(image_pil, 'uint8')\n",
    "    # Get the label of the image\n",
    "    #nbr = int(os.path.split(image_path)[1].split(\".\")[0].replace(\"subject\", \"\"))\n",
    "    # Detect the face in the image\n",
    "    faces = faceCascade.detectMultiScale(image)\n",
    "    # If face is detected, append the face to images and the label to labels\n",
    "    for (x, y, w, h) in faces:\n",
    "        images.append(image[y: y + h, x: x + w])\n",
    "        #labels.append(nbr)\n",
    "        cv2.imshow(\"Adding faces to traning set...\", image[y: y + h, x: x + w])\n",
    "        cv2.waitKey(50)\n",
    "cv2.destroyAllWindows()"
   ]
  },
  {
   "cell_type": "code",
   "execution_count": 50,
   "metadata": {
    "collapsed": false
   },
   "outputs": [],
   "source": []
  },
  {
   "cell_type": "code",
   "execution_count": 59,
   "metadata": {
    "collapsed": false
   },
   "outputs": [],
   "source": [
    "x = images[1]\n",
    "cv2.imshow(\"sample\",x)\n",
    "cv2.waitKey(0)\n",
    "cv2.destroyAllWindows()"
   ]
  },
  {
   "cell_type": "code",
   "execution_count": 60,
   "metadata": {
    "collapsed": false
   },
   "outputs": [
    {
     "data": {
      "text/plain": [
       "array([[186, 204, 210, 203, 196, 180, 172, 170, 180, 193, 197, 196, 196,\n",
       "        195, 195, 187, 173, 163, 167, 181, 193, 232, 213, 207, 219, 225,\n",
       "        214],\n",
       "       [192, 199, 198, 190, 184, 181, 181, 189, 202, 208, 203, 198, 196,\n",
       "        200, 206, 205, 194, 182, 176, 179, 183, 208, 216, 221, 216, 205,\n",
       "        202],\n",
       "       [195, 181, 174, 177, 185, 188, 192, 200, 208, 209, 205, 200, 197,\n",
       "        203, 205, 203, 201, 199, 197, 192, 188, 185, 199, 215, 220, 210,\n",
       "        199],\n",
       "       [178, 165, 162, 178, 194, 208, 210, 212, 211, 212, 209, 203, 196,\n",
       "        199, 203, 210, 215, 218, 213, 200, 186, 186, 181, 190, 210, 215,\n",
       "        207],\n",
       "       [156, 156, 169, 189, 206, 211, 213, 210, 211, 216, 220, 216, 206,\n",
       "        213, 212, 210, 205, 203, 205, 208, 209, 184, 183, 181, 184, 196,\n",
       "        212],\n",
       "       [150, 171, 190, 206, 210, 217, 212, 211, 212, 215, 215, 213, 210,\n",
       "        214, 212, 206, 198, 195, 202, 213, 219, 203, 187, 182, 171, 166,\n",
       "        197],\n",
       "       [159, 179, 195, 208, 208, 211, 209, 210, 212, 215, 216, 213, 211,\n",
       "        214, 212, 207, 199, 196, 202, 211, 216, 210, 194, 187, 170, 159,\n",
       "        181],\n",
       "       [173, 192, 203, 210, 207, 208, 209, 210, 212, 214, 214, 214, 213,\n",
       "        215, 214, 209, 201, 198, 201, 207, 210, 217, 204, 195, 174, 157,\n",
       "        165],\n",
       "       [185, 200, 205, 208, 204, 204, 206, 209, 209, 209, 209, 211, 213,\n",
       "        215, 215, 210, 204, 201, 203, 207, 208, 218, 212, 203, 183, 162,\n",
       "        157],\n",
       "       [191, 201, 201, 202, 198, 197, 199, 199, 199, 199, 201, 206, 210,\n",
       "        213, 213, 210, 206, 204, 206, 208, 210, 214, 215, 210, 193, 173,\n",
       "        154],\n",
       "       [192, 199, 197, 200, 197, 193, 193, 192, 190, 193, 198, 205, 210,\n",
       "        213, 213, 210, 207, 205, 209, 211, 210, 211, 215, 212, 198, 182,\n",
       "        149],\n",
       "       [193, 199, 199, 203, 203, 198, 198, 196, 196, 196, 201, 207, 210,\n",
       "        213, 211, 209, 206, 206, 210, 212, 210, 208, 214, 212, 199, 187,\n",
       "        146],\n",
       "       [196, 202, 203, 209, 209, 210, 207, 205, 205, 205, 207, 210, 212,\n",
       "        213, 212, 209, 206, 205, 208, 211, 209, 207, 211, 210, 199, 190,\n",
       "        144],\n",
       "       [194, 206, 206, 205, 205, 207, 210, 212, 213, 214, 214, 212, 211,\n",
       "        213, 209, 206, 209, 209, 207, 207, 209, 213, 217, 211, 207, 187,\n",
       "        150],\n",
       "       [187, 206, 210, 204, 202, 207, 208, 211, 212, 212, 213, 212, 213,\n",
       "        208, 208, 210, 211, 207, 205, 209, 216, 213, 217, 210, 205, 187,\n",
       "        158],\n",
       "       [185, 204, 208, 206, 203, 206, 208, 210, 211, 209, 209, 208, 208,\n",
       "        213, 215, 215, 216, 213, 210, 211, 216, 209, 214, 206, 197, 183,\n",
       "        166],\n",
       "       [183, 198, 203, 205, 205, 210, 209, 206, 202, 201, 204, 212, 218,\n",
       "        212, 207, 204, 208, 212, 215, 212, 207, 208, 212, 201, 190, 179,\n",
       "        178],\n",
       "       [173, 190, 202, 202, 200, 200, 194, 187, 181, 179, 186, 197, 205,\n",
       "        199, 196, 196, 202, 211, 216, 215, 211, 214, 214, 198, 187, 184,\n",
       "        196],\n",
       "       [156, 177, 198, 200, 190, 189, 190, 189, 187, 183, 177, 174, 171,\n",
       "        173, 179, 183, 184, 186, 189, 191, 192, 214, 206, 188, 183, 187,\n",
       "        209],\n",
       "       [144, 157, 185, 197, 192, 204, 207, 209, 211, 207, 195, 180, 169,\n",
       "        194, 202, 206, 204, 199, 198, 199, 200, 205, 191, 172, 176, 187,\n",
       "        215],\n",
       "       [140, 142, 171, 196, 201, 213, 210, 207, 207, 207, 202, 196, 191,\n",
       "        207, 209, 210, 208, 209, 211, 206, 200, 197, 180, 162, 171, 189,\n",
       "        220],\n",
       "       [142, 134, 160, 187, 196, 211, 209, 208, 208, 212, 213, 213, 211,\n",
       "        207, 207, 206, 208, 212, 215, 210, 201, 190, 168, 158, 175, 205,\n",
       "        218],\n",
       "       [165, 142, 143, 163, 182, 194, 199, 205, 209, 211, 212, 209, 208,\n",
       "        217, 216, 210, 206, 207, 206, 203, 197, 166, 156, 161, 188, 216,\n",
       "        224],\n",
       "       [190, 163, 140, 140, 157, 174, 183, 197, 205, 210, 210, 209, 209,\n",
       "        204, 207, 209, 207, 205, 199, 189, 181, 147, 157, 179, 205, 219,\n",
       "        217],\n",
       "       [201, 193, 167, 144, 141, 152, 158, 170, 181, 189, 192, 195, 195,\n",
       "        195, 196, 194, 188, 177, 164, 151, 143, 161, 181, 206, 217, 211,\n",
       "        203],\n",
       "       [197, 206, 195, 171, 155, 145, 144, 146, 152, 161, 170, 173, 175,\n",
       "        179, 170, 158, 146, 138, 139, 144, 149, 196, 207, 219, 217, 207,\n",
       "        201],\n",
       "       [192, 201, 205, 195, 185, 170, 164, 159, 161, 168, 175, 178, 178,\n",
       "        167, 158, 149, 145, 147, 160, 177, 190, 215, 212, 209, 209, 209,\n",
       "        208]], dtype=uint8)"
      ]
     },
     "execution_count": 60,
     "metadata": {},
     "output_type": "execute_result"
    }
   ],
   "source": [
    "x"
   ]
  },
  {
   "cell_type": "code",
   "execution_count": 1,
   "metadata": {
    "collapsed": true
   },
   "outputs": [],
   "source": [
    "from PIL import Image, ImageFilter\n",
    "#Read image\n",
    "im = Image.open( 'ankitanarula.jpg' )\n",
    "#Display image\n",
    "im.show()\n",
    "\n",
    "#Applying a filter to the image\n",
    "im_sharp = im.filter( ImageFilter.SHARPEN )\n",
    "#Saving the filtered image to a new file\n",
    "im_sharp.save( 'image_sharpened.jpg', 'JPEG' )\n",
    "\n",
    "#Splitting the image into its respective bands, i.e. Red, Green,\n",
    "#and Blue for RGB\n",
    "r,g,b = im_sharp.split()\n",
    "\n",
    "#Viewing EXIF data embedded in image\n",
    "exif_data = im._getexif()\n",
    "exif_data"
   ]
  },
  {
   "cell_type": "code",
   "execution_count": null,
   "metadata": {
    "collapsed": true
   },
   "outputs": [],
   "source": []
  },
  {
   "cell_type": "code",
   "execution_count": null,
   "metadata": {
    "collapsed": true
   },
   "outputs": [],
   "source": [
    "from PIL import Image\n",
    "import glob, os\n",
    "\n",
    "size = 128, 128\n",
    "\n",
    "for infile in glob.glob(\"*.jpg\"):\n",
    "    file, ext = os.path.splitext(infile)\n",
    "    im = Image.open(infile)\n",
    "    im.thumbnail(size, Image.ANTIALIAS)\n",
    "    im.save(file + \".thumbnail\", \"JPEG\")"
   ]
  },
  {
   "cell_type": "code",
   "execution_count": null,
   "metadata": {
    "collapsed": true
   },
   "outputs": [],
   "source": []
  },
  {
   "cell_type": "code",
   "execution_count": null,
   "metadata": {
    "collapsed": true
   },
   "outputs": [],
   "source": []
  },
  {
   "cell_type": "raw",
   "metadata": {},
   "source": [
    "import sys, math, Image\n",
    "\n",
    "def Distance(p1,p2):\n",
    "  dx = p2[0] - p1[0]\n",
    "  dy = p2[1] - p1[1]\n",
    "  return math.sqrt(dx*dx+dy*dy)\n",
    "\n",
    "def ScaleRotateTranslate(image, angle, center = None, new_center = None, scale = None, resample=Image.BICUBIC):\n",
    "  if (scale is None) and (center is None):\n",
    "    return image.rotate(angle=angle, resample=resample)\n",
    "  nx,ny = x,y = center\n",
    "  sx=sy=1.0\n",
    "  if new_center:\n",
    "    (nx,ny) = new_center\n",
    "  if scale:\n",
    "    (sx,sy) = (scale, scale)\n",
    "  cosine = math.cos(angle)\n",
    "  sine = math.sin(angle)\n",
    "  a = cosine/sx\n",
    "  b = sine/sx\n",
    "  c = x-nx*a-ny*b\n",
    "  d = -sine/sy\n",
    "  e = cosine/sy\n",
    "  f = y-nx*d-ny*e\n",
    "  return image.transform(image.size, Image.AFFINE, (a,b,c,d,e,f), resample=resample)\n",
    "\n",
    "def CropFace(image, eye_left=(0,0), eye_right=(0,0), offset_pct=(0.2,0.2), dest_sz = (70,70)):\n",
    "  # calculate offsets in original image\n",
    "  offset_h = math.floor(float(offset_pct[0])*dest_sz[0])\n",
    "  offset_v = math.floor(float(offset_pct[1])*dest_sz[1])\n",
    "  # get the direction\n",
    "  eye_direction = (eye_right[0] - eye_left[0], eye_right[1] - eye_left[1])\n",
    "  # calc rotation angle in radians\n",
    "  rotation = -math.atan2(float(eye_direction[1]),float(eye_direction[0]))\n",
    "  # distance between them\n",
    "  dist = Distance(eye_left, eye_right)\n",
    "  # calculate the reference eye-width\n",
    "  reference = dest_sz[0] - 2.0*offset_h\n",
    "  # scale factor\n",
    "  scale = float(dist)/float(reference)\n",
    "  # rotate original around the left eye\n",
    "  image = ScaleRotateTranslate(image, center=eye_left, angle=rotation)\n",
    "  # crop the rotated image\n",
    "  crop_xy = (eye_left[0] - scale*offset_h, eye_left[1] - scale*offset_v)\n",
    "  crop_size = (dest_sz[0]*scale, dest_sz[1]*scale)\n",
    "  image = image.crop((int(crop_xy[0]), int(crop_xy[1]), int(crop_xy[0]+crop_size[0]), int(crop_xy[1]+crop_size[1])))\n",
    "  # resize it\n",
    "  image = image.resize(dest_sz, Image.ANTIALIAS)\n",
    "  return image\n",
    "\n",
    "if __name__ == \"__main__\":\n",
    "  image =  Image.open(\"arnie.jpg\")\n",
    "  CropFace(image, eye_left=(252,364), eye_right=(420,366), offset_pct=(0.1,0.1), dest_sz=(200,200)).save(\"arnie_10_10_200_200.jpg\")\n",
    "  CropFace(image, eye_left=(252,364), eye_right=(420,366), offset_pct=(0.2,0.2), dest_sz=(200,200)).save(\"arnie_20_20_200_200.jpg\")\n",
    "  CropFace(image, eye_left=(252,364), eye_right=(420,366), offset_pct=(0.3,0.3), dest_sz=(200,200)).save(\"arnie_30_30_200_200.jpg\")\n",
    "  CropFace(image, eye_left=(252,364), eye_right=(420,366), offset_pct=(0.2,0.2)).save(\"arnie_20_20_70_70.jpg\")"
   ]
  },
  {
   "cell_type": "code",
   "execution_count": null,
   "metadata": {
    "collapsed": true
   },
   "outputs": [],
   "source": []
  }
 ],
 "metadata": {
  "kernelspec": {
   "display_name": "Python 2",
   "language": "python",
   "name": "python2"
  },
  "language_info": {
   "codemirror_mode": {
    "name": "ipython",
    "version": 2
   },
   "file_extension": ".py",
   "mimetype": "text/x-python",
   "name": "python",
   "nbconvert_exporter": "python",
   "pygments_lexer": "ipython2",
   "version": "2.7.6"
  }
 },
 "nbformat": 4,
 "nbformat_minor": 0
}

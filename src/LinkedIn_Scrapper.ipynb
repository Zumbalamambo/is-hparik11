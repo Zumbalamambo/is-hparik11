{
 "cells": [
  {
   "cell_type": "code",
   "execution_count": 7,
   "metadata": {
    "collapsed": false
   },
   "outputs": [
    {
     "name": "stdout",
     "output_type": "stream",
     "text": [
      "SummaryCurrently pursuing Masters of Science degree in Computer Science from Illinois Institute of Technology, Chicago. My interests include Cloud Computing, Software Development and Data Analytic.\n"
     ]
    }
   ],
   "source": [
    "from bs4 import BeautifulSoup\n",
    "from selenium import webdriver\n",
    "driver = webdriver.Firefox() \n",
    "profile_link=\"https://www.linkedin.com/in/harshparikh1001\"\n",
    "\n",
    "driver.get(profile_link)\n",
    "html=driver.page_source\n",
    "soup=BeautifulSoup(html) #specify parser or it will auto-select for you\n",
    "\n",
    "summary=soup.find('section', { \"id\" : \"summary\" })\n",
    "\n",
    "print summary.getText()"
   ]
  },
  {
   "cell_type": "code",
   "execution_count": 11,
   "metadata": {
    "collapsed": false
   },
   "outputs": [
    {
     "ename": "TypeError",
     "evalue": "'NoneType' object has no attribute '__getitem__'",
     "output_type": "error",
     "traceback": [
      "\u001b[1;31m---------------------------------------------------------------------------\u001b[0m",
      "\u001b[1;31mTypeError\u001b[0m                                 Traceback (most recent call last)",
      "\u001b[1;32m<ipython-input-11-360bafa64c22>\u001b[0m in \u001b[0;36m<module>\u001b[1;34m()\u001b[0m\n\u001b[0;32m      9\u001b[0m \u001b[1;33m\u001b[0m\u001b[0m\n\u001b[0;32m     10\u001b[0m \u001b[0mlink\u001b[0m \u001b[1;33m=\u001b[0m \u001b[0msoup\u001b[0m\u001b[1;33m.\u001b[0m\u001b[0mfind\u001b[0m\u001b[1;33m(\u001b[0m\u001b[0mitemprop\u001b[0m\u001b[1;33m=\u001b[0m\u001b[1;34m\"image\"\u001b[0m\u001b[1;33m)\u001b[0m\u001b[1;33m\u001b[0m\u001b[0m\n\u001b[1;32m---> 11\u001b[1;33m \u001b[1;32mprint\u001b[0m\u001b[1;33m(\u001b[0m\u001b[0mlink\u001b[0m\u001b[1;33m[\u001b[0m\u001b[1;34m\"src\"\u001b[0m\u001b[1;33m]\u001b[0m\u001b[1;33m)\u001b[0m\u001b[1;33m\u001b[0m\u001b[0m\n\u001b[0m",
      "\u001b[1;31mTypeError\u001b[0m: 'NoneType' object has no attribute '__getitem__'"
     ]
    }
   ],
   "source": [
    "from bs4 import BeautifulSoup\n",
    "from selenium import webdriver\n",
    "driver = webdriver.Firefox() \n",
    "profile_link=\"https://www.linkedin.com/in/harshparikh1001\"\n",
    "\n",
    "driver.get(profile_link)\n",
    "html=driver.page_source\n",
    "soup=BeautifulSoup(html) #specify parser or it will auto-select for you\n",
    "\n",
    "link = soup.find(itemprop=\"image\")\n",
    "print(link[\"src\"])"
   ]
  },
  {
   "cell_type": "code",
   "execution_count": 5,
   "metadata": {
    "collapsed": false
   },
   "outputs": [
    {
     "name": "stdout",
     "output_type": "stream",
     "text": [
      "Found the URL: http://www.linkedin.com/\n",
      "Found the URL: http://www.linkedin.com/static?key=what_is_linkedin&trk=hb_what\n",
      "Found the URL: /start/join?trk=hb_join\n",
      "Found the URL: https://www.linkedin.com/uas/login?goback=&trk=hb_signin\n",
      "Found the URL: https://www.linkedin.com/start/view-full-profile?_ed=0_gawwgJD_FQrXYCTQaM9WKtl6n3aR8C_vn1pMtfmjP71NkVYykzSOgXyD7SRX4caN&trk=pprof-0-ts-view_full-0\n",
      "Found the URL: https://www.linkedin.com/company/siemens-healthineers?trk=ppro_cprof\n",
      "Found the URL: https://www.linkedin.com/company/illinois-institute-of-technology?trk=ppro_cprof\n",
      "Found the URL: https://www.linkedin.com/edu/illinois-institute-of-technology-18264?trk=ppro_sprof\n",
      "Found the URL: https://www.linkedin.com/redir/redirect?url=https%3A%2F%2Fabout%2Eme%2Fparikhharsh&urlhash=nMGI&trk=ppro_website\n",
      "Found the URL: https://www.linkedin.com/redir/redirect?url=https%3A%2F%2Fgithub%2Ecom%2Fhparik11&urlhash=OJIB&trk=ppro_website\n",
      "Found the URL: https://www.linkedin.com/start/view-full-profile?_ed=0_gawwgJD_FQrXYCTQaM9WKtl6n3aR8C_vn1pMtfmjP71NkVYykzSOgXyD7SRX4caN&trk=public_profile_advocate-cta-view-full\n",
      "Found the URL: https://www.linkedin.com/edu/illinois-institute-of-technology-18264?trk=ppro_sprof\n",
      "Found the URL: https://www.linkedin.com/edu/illinois-institute-of-technology-18264?trk=ppro_sprof\n",
      "Found the URL: https://www.linkedin.com/title/graduate-research-assistant?trk=pprofile_title\n",
      "Found the URL: https://www.linkedin.com/company/siemens-healthineers?trk=ppro_cprof\n",
      "Found the URL: https://www.linkedin.com/title/software-engineer-intern?trk=pprofile_title\n",
      "Found the URL: https://www.linkedin.com/company/siemens-healthineers?trk=ppro_cprof\n",
      "Found the URL: https://www.linkedin.com/company/illinois-institute-of-technology?trk=ppro_cprof\n",
      "Found the URL: https://www.linkedin.com/title/student?trk=pprofile_title\n",
      "Found the URL: https://www.linkedin.com/company/illinois-institute-of-technology?trk=ppro_cprof\n",
      "Found the URL: https://www.linkedin.com/redir/redirect?url=https%3A%2F%2Fgithub%2Ecom%2Fhparik11%2FHandwritten_Digits_Recognition_Classification&urlhash=hw5R&trk=prof-project-name-title\n",
      "Found the URL: https://www.linkedin.com/in/harshparikh1001\n",
      "Found the URL: https://www.linkedin.com/redir/redirect?url=https%3A%2F%2Fgithub%2Ecom%2Fhparik11%2FCloudKon-clone-with-Amazon-EC2-S3-SQS-and-DynamoDB%2Ftree%2Fmaster&urlhash=Gazv&trk=prof-project-name-title\n",
      "Found the URL: https://www.linkedin.com/in/harshparikh1001\n",
      "Found the URL: https://www.linkedin.com/redir/redirect?url=https%3A%2F%2Fgithub%2Ecom%2Fhparik11%2FTeraSort_on_Hadoop-Spark&urlhash=aWVb&trk=prof-project-name-title\n",
      "Found the URL: https://www.linkedin.com/in/harshparikh1001\n",
      "Found the URL: https://www.linkedin.com/redir/redirect?url=https%3A%2F%2Fgithub%2Ecom%2Fhparik11%2FAmazon_Product_Review_Analysis&urlhash=F8r4&trk=prof-project-name-title\n",
      "Found the URL: https://www.linkedin.com/in/harshparikh1001\n",
      "Found the URL: https://www.linkedin.com/in/shouviksdutta\n",
      "Found the URL: https://www.linkedin.com/redir/redirect?url=https%3A%2F%2Fgithub%2Ecom%2Fhparik11%2FCloud_Benchmarking&urlhash=D1T_&trk=prof-project-name-title\n",
      "Found the URL: https://www.linkedin.com/in/harshparikh1001\n",
      "Found the URL: https://www.linkedin.com/redir/redirect?url=https%3A%2F%2Fgithub%2Ecom%2Fhparik11%2FE-Commerce-Web-Application&urlhash=ii-n&trk=prof-project-name-title\n",
      "Found the URL: https://www.linkedin.com/in/harshparikh1001\n",
      "Found the URL: https://www.linkedin.com/in/harshparikh1001\n",
      "Found the URL: https://www.linkedin.com/in/harshparikh1001\n",
      "Found the URL: https://www.linkedin.com/in/harshparikh1001\n",
      "Found the URL: https://www.linkedin.com/in/chirag-parekh-b0240792\n",
      "Found the URL: https://www.linkedin.com/redir/redirect?url=https%3A%2F%2Fgithub%2Ecom%2Fhparik11%2FParametric_Regression&urlhash=ufUm&trk=prof-project-name-title\n",
      "Found the URL: https://www.linkedin.com/in/harshparikh1001\n",
      "Found the URL: https://www.linkedin.com/topic/python?trk=pprofile_topic\n",
      "Found the URL: https://www.linkedin.com/topic/machine-learning?trk=pprofile_topic\n",
      "Found the URL: https://www.linkedin.com/topic/amazon-web-services-%28aws%29?trk=pprofile_topic\n",
      "Found the URL: https://www.linkedin.com/topic/big-data-analytics?trk=pprofile_topic\n",
      "Found the URL: https://www.linkedin.com/topic/c?trk=pprofile_topic\n",
      "Found the URL: https://www.linkedin.com/topic/java?trk=pprofile_topic\n",
      "Found the URL: https://www.linkedin.com/topic/research?trk=pprofile_topic\n",
      "Found the URL: https://www.linkedin.com/topic/amazon-ec2?trk=pprofile_topic\n",
      "Found the URL: https://www.linkedin.com/topic/hadoop?trk=pprofile_topic\n",
      "Found the URL: https://www.linkedin.com/topic/apache-spark?trk=pprofile_topic\n",
      "Found the URL: https://www.linkedin.com/topic/amazon-sqs?trk=pprofile_topic\n",
      "Found the URL: https://www.linkedin.com/topic/android-development?trk=pprofile_topic\n",
      "Found the URL: https://www.linkedin.com/topic/sql?trk=pprofile_topic\n",
      "Found the URL: https://www.linkedin.com/topic/ccna?trk=pprofile_topic\n",
      "Found the URL: https://www.linkedin.com/topic/oracle-sql-developer?trk=pprofile_topic\n",
      "Found the URL: https://www.linkedin.com/topic/c++?trk=pprofile_topic\n",
      "Found the URL: https://www.linkedin.com/topic/pl%2Fsql?trk=pprofile_topic\n",
      "Found the URL: https://www.linkedin.com/topic/matlab?trk=pprofile_topic\n",
      "Found the URL: https://www.linkedin.com/topic/windows?trk=pprofile_topic\n",
      "Found the URL: https://www.linkedin.com/topic/microsoft-office?trk=pprofile_topic\n",
      "Found the URL: https://www.linkedin.com/topic/apache?trk=pprofile_topic\n",
      "Found the URL: https://www.linkedin.com/topic/django?trk=pprofile_topic\n",
      "Found the URL: https://www.linkedin.com/topic/javascript?trk=pprofile_topic\n",
      "Found the URL: https://www.linkedin.com/topic/microsoft-word?trk=pprofile_topic\n",
      "Found the URL: https://www.linkedin.com/company/cisco?trk=ppro_cprof\n",
      "Found the URL: https://drive.google.com/file/d/0B7RYDtJ4urGId3RaallPX0dhbk0/view?usp=sharing&trk=profile_certification_title\n",
      "Found the URL: https://www.linkedin.com/company/cisco?trk=ppro_cprof\n",
      "Found the URL: https://www.linkedin.com/groups?gid=8297310&trk=fulpro_grplogo\n",
      "Found the URL: https://www.linkedin.com/groups?gid=8297310&trk=prof-groups-membership-name\n",
      "Found the URL: https://www.linkedin.com/groups?gid=8291615&trk=fulpro_grplogo\n",
      "Found the URL: https://www.linkedin.com/groups?gid=8291615&trk=prof-groups-membership-name\n",
      "Found the URL: https://www.linkedin.com/start/view-full-profile?_ed=0_gawwgJD_FQrXYCTQaM9WKtl6n3aR8C_vn1pMtfmjP71NkVYykzSOgXyD7SRX4caN&trk=public_profile_advocate-cta-view-full\n",
      "Found the URL: https://www.linkedin.com/pub/dir/Harsh/Parikh\n",
      "Found the URL: https://www.linkedin.com/pub/dir/Harsh/Parikh\n",
      "Found the URL: https://www.linkedin.com/in/harshparikh?trk=prof-samename-picture\n",
      "Found the URL: https://www.linkedin.com/in/harshparikh?trk=prof-samename-name\n",
      "Found the URL: https://www.linkedin.com/in/parikhharsh?trk=prof-samename-picture\n",
      "Found the URL: https://www.linkedin.com/in/parikhharsh?trk=prof-samename-name\n",
      "Found the URL: https://www.linkedin.com/in/harsh-parikh-83976879?trk=prof-samename-picture\n",
      "Found the URL: https://www.linkedin.com/in/harsh-parikh-83976879?trk=prof-samename-name\n",
      "Found the URL: https://www.linkedin.com/in/parikhharsh86?trk=prof-samename-picture\n",
      "Found the URL: https://www.linkedin.com/in/parikhharsh86?trk=prof-samename-name\n",
      "Found the URL: https://www.linkedin.com/in/harshparikhhp?trk=prof-samename-picture\n",
      "Found the URL: https://www.linkedin.com/in/harshparikhhp?trk=prof-samename-name\n",
      "Found the URL: https://www.linkedin.com/pub/dir/Harsh/Parikh?trk=prof-samename-searchmore\n",
      "Found the URL: https://www.linkedin.com/badges/profile/create?vanityname=harshparikh1001&trk=profile-badge-public-profile\n",
      "Found the URL: https://www.linkedin.com/in/singhlatika?trk=pub-pbmap\n",
      "Found the URL: https://www.linkedin.com/in/singhlatika?trk=pub-pbmap\n",
      "Found the URL: https://www.linkedin.com/in/vivek-basavarajappa-81a270b1?trk=pub-pbmap\n",
      "Found the URL: https://www.linkedin.com/in/vivek-basavarajappa-81a270b1?trk=pub-pbmap\n",
      "Found the URL: https://www.linkedin.com/in/dktrivedi265?trk=pub-pbmap\n",
      "Found the URL: https://www.linkedin.com/in/dktrivedi265?trk=pub-pbmap\n",
      "Found the URL: https://www.linkedin.com/in/shouviksdutta?trk=pub-pbmap\n",
      "Found the URL: https://www.linkedin.com/in/shouviksdutta?trk=pub-pbmap\n",
      "Found the URL: https://www.linkedin.com/in/sanketwagh?trk=pub-pbmap\n",
      "Found the URL: https://www.linkedin.com/in/sanketwagh?trk=pub-pbmap\n",
      "Found the URL: https://www.linkedin.com/in/parthshah7?trk=pub-pbmap\n",
      "Found the URL: https://www.linkedin.com/in/parthshah7?trk=pub-pbmap\n",
      "Found the URL: https://www.linkedin.com/in/kumar-shrestha-a3955b111?trk=pub-pbmap\n",
      "Found the URL: https://www.linkedin.com/in/kumar-shrestha-a3955b111?trk=pub-pbmap\n",
      "Found the URL: https://www.linkedin.com/in/dpatel0220?trk=pub-pbmap\n",
      "Found the URL: https://www.linkedin.com/in/dpatel0220?trk=pub-pbmap\n",
      "Found the URL: https://www.linkedin.com/in/ramyamadhihallysreenidhi?trk=pub-pbmap\n",
      "Found the URL: https://www.linkedin.com/in/ramyamadhihallysreenidhi?trk=pub-pbmap\n",
      "Found the URL: https://www.linkedin.com/in/xulifeng?trk=pub-pbmap\n",
      "Found the URL: https://www.linkedin.com/in/xulifeng?trk=pub-pbmap\n",
      "Found the URL: https://www.linkedin.com/profinder/project/android-development?showRightRail=true&trk=pprof-profinder-rfp\n",
      "Found the URL: https://www.linkedin.com/profinder/android-development?trk=pprof-profinder-dir\n",
      "Found the URL: https://www.linkedin.com/directory/people-a/\n",
      "Found the URL: https://www.linkedin.com/directory/people-b/\n",
      "Found the URL: https://www.linkedin.com/directory/people-c/\n",
      "Found the URL: https://www.linkedin.com/directory/people-d/\n",
      "Found the URL: https://www.linkedin.com/directory/people-e/\n",
      "Found the URL: https://www.linkedin.com/directory/people-f/\n",
      "Found the URL: https://www.linkedin.com/directory/people-g/\n",
      "Found the URL: https://www.linkedin.com/directory/people-h/\n",
      "Found the URL: https://www.linkedin.com/directory/people-i/\n",
      "Found the URL: https://www.linkedin.com/directory/people-j/\n",
      "Found the URL: https://www.linkedin.com/directory/people-k/\n",
      "Found the URL: https://www.linkedin.com/directory/people-l/\n",
      "Found the URL: https://www.linkedin.com/directory/people-m/\n",
      "Found the URL: https://www.linkedin.com/directory/people-n/\n",
      "Found the URL: https://www.linkedin.com/directory/people-o/\n",
      "Found the URL: https://www.linkedin.com/directory/people-p/\n",
      "Found the URL: https://www.linkedin.com/directory/people-q/\n",
      "Found the URL: https://www.linkedin.com/directory/people-r/\n",
      "Found the URL: https://www.linkedin.com/directory/people-s/\n",
      "Found the URL: https://www.linkedin.com/directory/people-t/\n",
      "Found the URL: https://www.linkedin.com/directory/people-u/\n",
      "Found the URL: https://www.linkedin.com/directory/people-v/\n",
      "Found the URL: https://www.linkedin.com/directory/people-w/\n",
      "Found the URL: https://www.linkedin.com/directory/people-x/\n",
      "Found the URL: https://www.linkedin.com/directory/people-y/\n",
      "Found the URL: https://www.linkedin.com/directory/people-z/\n",
      "Found the URL: https://www.linkedin.com/directory/people-1/\n",
      "Found the URL: https://www.linkedin.com/directory/country_listing/\n",
      "Found the URL: http://www.linkedin.com/legal/user-agreement?trk=hb_ft_userag\n",
      "Found the URL: http://www.linkedin.com/legal/privacy-policy?trk=hb_ft_priv\n",
      "Found the URL: https://linkedin.com/help/linkedin/answer/34593?lang=en\n",
      "Found the URL: http://www.linkedin.com/legal/cookie-policy?trk=hb_ft_cookie\n",
      "Found the URL: http://www.linkedin.com/legal/copyright-policy?trk=hb_ft_copy\n",
      "Found the URL: /psettings/guest-email-unsubscribe?trk=hb_ft_gunsub\n"
     ]
    }
   ],
   "source": [
    "for a in soup.find_all('a', href=True):\n",
    "    print \"Found the URL:\", a['href']"
   ]
  }
 ],
 "metadata": {
  "kernelspec": {
   "display_name": "Python 2",
   "language": "python",
   "name": "python2"
  },
  "language_info": {
   "codemirror_mode": {
    "name": "ipython",
    "version": 2
   },
   "file_extension": ".py",
   "mimetype": "text/x-python",
   "name": "python",
   "nbconvert_exporter": "python",
   "pygments_lexer": "ipython2",
   "version": "2.7.6"
  }
 },
 "nbformat": 4,
 "nbformat_minor": 0
}

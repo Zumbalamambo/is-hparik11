{
 "cells": [
  {
   "cell_type": "markdown",
   "metadata": {
    "collapsed": false
   },
   "source": [
    "## Import Libraries"
   ]
  },
  {
   "cell_type": "code",
   "execution_count": 101,
   "metadata": {
    "collapsed": true
   },
   "outputs": [],
   "source": [
    "import urllib\n",
    "from bs4 import BeautifulSoup\n",
    "from selenium import webdriver\n",
    "import re\n",
    "import os,sys"
   ]
  },
  {
   "cell_type": "code",
   "execution_count": null,
   "metadata": {
    "collapsed": true
   },
   "outputs": [],
   "source": [
    "#driver = webdriver.Firefox() \n",
    "#profile_link=\"https://www.linkedin.com/in/harshparikh1001\"\n",
    "\n",
    "#driver.get(profile_link)\n",
    "#html=driver.page_source\n",
    "#soup=BeautifulSoup(html) #specify parser or it will auto-select for you\n",
    "\n",
    "#summary=soup.find_all('section', { \"id\" : \"summary\" })\n",
    "\n",
    "#print summary.getText()"
   ]
  },
  {
   "cell_type": "markdown",
   "metadata": {},
   "source": [
    "## Get Link of Profile Picture"
   ]
  },
  {
   "cell_type": "code",
   "execution_count": 85,
   "metadata": {
    "collapsed": true
   },
   "outputs": [],
   "source": [
    "def getProfilePicLink(profile_link):\n",
    "    \n",
    "    driver = webdriver.PhantomJS()\n",
    "    driver.get(profile_link)\n",
    "    html=driver.page_source    \n",
    "    soup=BeautifulSoup(html) \n",
    "    images = [x for x in soup.find_all('img')]\n",
    "    imageUrlString = str(images[0]).replace(\"shrinknp_200_200\", \"shrinknp_400_400\")\n",
    "\n",
    "    return imageUrlString"
   ]
  },
  {
   "cell_type": "markdown",
   "metadata": {},
   "source": [
    "## Store Profile Picture to Local Directory"
   ]
  },
  {
   "cell_type": "code",
   "execution_count": 102,
   "metadata": {
    "collapsed": true
   },
   "outputs": [],
   "source": [
    "def storeProfilePicture(profileUrl,profile_link):\n",
    "    \n",
    "    lst = profileUrl.split()\n",
    "    userId = profile_link.split('/')[-1]\n",
    "    regex=re.compile(r'.*(src).*')\n",
    "    img_url = re.sub('src=','', \"\".join([m.group(0) for l in lst for m in [regex.search(l)] if m]))\n",
    "    img_url = img_url.strip('\"\"')\n",
    "    urllib.urlretrieve(img_url, \"Images/\" + userId + \".jpg\")\n",
    "    \n",
    "    print userId + \".jpg is saved.\"  "
   ]
  },
  {
   "cell_type": "code",
   "execution_count": 105,
   "metadata": {
    "collapsed": true
   },
   "outputs": [],
   "source": [
    "def main():\n",
    "    \n",
    "    directory = \"Images\"\n",
    "    \n",
    "    if not os.path.exists(directory):\n",
    "        os.makedirs(directory)\n",
    "    \n",
    "    userIds = ['harshparikh1001','williamhgates']\n",
    "    \n",
    "    for usrid in userIds:\n",
    "        \n",
    "        profile_link = \"https://www.linkedin.com/in/\" + usrid\n",
    "        profileUrl = getProfilePicLink(profile_link)\n",
    "        storeProfilePicture(profileUrl,profile_link)\n",
    "    "
   ]
  },
  {
   "cell_type": "code",
   "execution_count": 106,
   "metadata": {
    "collapsed": false
   },
   "outputs": [
    {
     "name": "stdout",
     "output_type": "stream",
     "text": [
      "harshparikh1001.jpg is saved.\n",
      "williamhgates.jpg is saved.\n"
     ]
    }
   ],
   "source": [
    "if __name__ == '__main__':\n",
    "    main()"
   ]
  },
  {
   "cell_type": "code",
   "execution_count": null,
   "metadata": {
    "collapsed": false
   },
   "outputs": [],
   "source": []
  },
  {
   "cell_type": "code",
   "execution_count": 80,
   "metadata": {
    "collapsed": false
   },
   "outputs": [],
   "source": []
  },
  {
   "cell_type": "markdown",
   "metadata": {},
   "source": [
    "## Link to get all profiles with the first Name\n",
    "\n",
    "https://www.linkedin.com/pub/dir/Bill"
   ]
  }
 ],
 "metadata": {
  "kernelspec": {
   "display_name": "Python 2",
   "language": "python",
   "name": "python2"
  },
  "language_info": {
   "codemirror_mode": {
    "name": "ipython",
    "version": 2
   },
   "file_extension": ".py",
   "mimetype": "text/x-python",
   "name": "python",
   "nbconvert_exporter": "python",
   "pygments_lexer": "ipython2",
   "version": "2.7.6"
  }
 },
 "nbformat": 4,
 "nbformat_minor": 0
}

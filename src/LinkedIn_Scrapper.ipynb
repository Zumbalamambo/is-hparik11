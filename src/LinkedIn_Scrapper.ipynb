{
 "cells": [
  {
   "cell_type": "markdown",
   "metadata": {
    "collapsed": false
   },
   "source": [
    "## Import Libraries"
   ]
  },
  {
   "cell_type": "code",
   "execution_count": 1,
   "metadata": {
    "collapsed": true
   },
   "outputs": [],
   "source": [
    "import urllib\n",
    "from bs4 import BeautifulSoup\n",
    "from selenium import webdriver\n",
    "import re\n",
    "import os,sys\n",
    "import time\n",
    "from datetime import date\n",
    "\n",
    "#driver = webdriver.PhantomJS()"
   ]
  },
  {
   "cell_type": "markdown",
   "metadata": {},
   "source": [
    "## Loading Gender Predictor File to predict Gender of LinkedIn Profiles "
   ]
  },
  {
   "cell_type": "code",
   "execution_count": null,
   "metadata": {
    "collapsed": false
   },
   "outputs": [],
   "source": [
    "# %load Gender_Prediction.py\n",
    "\n",
    "# Import Libraries\n",
    "\n",
    "import os\n",
    "import re\n",
    "import urllib2\n",
    "from zipfile import ZipFile\n",
    "import csv\n",
    "import cPickle as pickle\n",
    "\n",
    "def downloadNames():\n",
    "    u = urllib2.urlopen('https://www.ssa.gov/oact/babynames/names.zip')\n",
    "    localFile = open('names.zip', 'w')\n",
    "    localFile.write(u.read())\n",
    "    localFile.close()\n",
    "\n",
    "def getNameList():\n",
    "    if not os.path.exists('names.pickle'):\n",
    "        print 'names.pickle does not exist, generating'\n",
    "        \n",
    "        # https://www.ssa.gov/oact/babynames/names.zip\n",
    "        \n",
    "        if not os.path.exists('names.zip'):\n",
    "            print 'names.zip does not exist, downloading from github'\n",
    "            downloadNames()\n",
    "        else:\n",
    "            print 'names.zip exists, not downloading'\n",
    "        \n",
    "        print 'Extracting names from names.zip'  \n",
    "        \n",
    "        namesDict=extractNamesDict()\n",
    "        \n",
    "        maleNames=list()\n",
    "        femaleNames=list()\n",
    "        \n",
    "        print 'Sorting Names'\n",
    "        \n",
    "        for name in namesDict:\n",
    "            counts=namesDict[name]\n",
    "            tuple=(name,counts[0],counts[1])\n",
    "            if counts[0]>counts[1]:\n",
    "                maleNames.append(tuple)\n",
    "            elif counts[1]>counts[0]:\n",
    "                femaleNames.append(tuple)\n",
    "        \n",
    "        names=(maleNames,femaleNames)\n",
    "        \n",
    "        print 'Saving names.pickle'\n",
    "        fw=open('names.pickle','wb')\n",
    "        pickle.dump(names,fw,-1)\n",
    "        fw.close()\n",
    "        print 'Saved names.pickle'\n",
    "    else:\n",
    "        print 'names.pickle exists, loading data'\n",
    "        f=open('names.pickle','rb')\n",
    "        names=pickle.load(f)\n",
    "        print 'names.pickle loaded'\n",
    "        \n",
    "    print '%d male names loaded, %d female names loaded'%(len(names[0]),len(names[1]))\n",
    "    \n",
    "    return names[0],names[1]\n",
    "\n",
    "def extractNamesDict():\n",
    "    zf=ZipFile('names.zip', 'r')\n",
    "    filenames=zf.namelist()\n",
    "    \n",
    "    names=dict()\n",
    "    genderMap={'M':0,'F':1}\n",
    "    \n",
    "    for filename in filenames:\n",
    "        fp = zf.open(filename,'rU')\n",
    "        rows=csv.reader(fp, delimiter=',', dialect=csv.excel_tab)\n",
    "        try:\n",
    "            for row in rows:\n",
    "            #print name,row[1]\n",
    "                try:\n",
    "                    name=row[0].upper()\n",
    "                    gender=genderMap[row[1]]\n",
    "                    count=int(row[2])\n",
    "\n",
    "                    if not names.has_key(name):\n",
    "                        names[name]=[0,0]\n",
    "\n",
    "                    names[name][gender]=names[name][gender]+count\n",
    "                except:\n",
    "                    pass\n",
    "        except:\n",
    "            pass\n",
    "            \n",
    "        fp.close()\n",
    "        \n",
    "        print '\\tImported %s'%filename\n",
    "    return names\n",
    "\n",
    "\n",
    "def find_gender_from_first_name(name):\n",
    "    if name.upper() in new_male_list:\n",
    "        return \"Male\"\n",
    "    elif name.upper() in new_female_list:\n",
    "        return \"Female\"\n",
    "    else:\n",
    "        return \"Unknown\"    \n",
    "\n",
    "if __name__ == '__main__':\n",
    "    \n",
    "\tmale_names, female_names = getNameList()\n",
    "\tnew_male_list = []\n",
    "\tnew_female_list = []\n",
    "\n",
    "\tfor index,name in enumerate(male_names):\n",
    "\t\ttry:\n",
    "\t\t    if (name[1]/name[2])>=4:\n",
    "\t\t        new_male_list.append(name[0])\n",
    "\t\texcept:\n",
    "\t\t    new_male_list.append(name[0])\n",
    "\t\t    \n",
    "\t#print \"Total number of Male Names after is %d.\" %len(new_male_list)\t\n",
    "\t\n",
    "\t\n",
    "\tfor index,name in enumerate(female_names):\n",
    "\t\ttry:\n",
    "\t\t    if (name[2]/name[1])>=4:\n",
    "\t\t        new_female_list.append(name[0])\n",
    "\t\texcept:\n",
    "\t\t    new_female_list.append(name[0])\n",
    "\t\t    \n",
    "\t#print \"Total number of Female Names after is %d.\" %len(new_female_list)\n",
    "\t\n",
    "\t#find_gender_from_first_name('Harsh')\n",
    "\t\n"
   ]
  },
  {
   "cell_type": "markdown",
   "metadata": {},
   "source": [
    "## Get Link of Profile Picture"
   ]
  },
  {
   "cell_type": "code",
   "execution_count": 3,
   "metadata": {
    "collapsed": false
   },
   "outputs": [],
   "source": [
    "def getProfilePicLink(profile_link):\n",
    "    \n",
    "    driver = webdriver.PhantomJS()\n",
    "    driver.get(profile_link)\n",
    "    html=driver.page_source    \n",
    "    soup=BeautifulSoup(html,\"lxml\") \n",
    "    images = [x for x in soup.find_all('img')]\n",
    "    try:\n",
    "        if \"shrinknp_200_200\" in str(images[0]):\n",
    "            imageUrlString = str(images[0]).replace(\"shrinknp_200_200\", \"shrinknp_400_400\")\n",
    "        else:\n",
    "            imageUrlString = \"\"\n",
    "    except:\n",
    "        imageUrlString = \"\"\n",
    "        \n",
    "    return imageUrlString"
   ]
  },
  {
   "cell_type": "markdown",
   "metadata": {},
   "source": [
    "## Store Profile Picture to Local Directory"
   ]
  },
  {
   "cell_type": "code",
   "execution_count": 4,
   "metadata": {
    "collapsed": false
   },
   "outputs": [],
   "source": [
    "def storeProfilePicture(profileUrl,profile_link):\n",
    "    \n",
    "    lst = profileUrl.split()\n",
    "    userId = profile_link.split('/')[-1]\n",
    "    regex=re.compile(r'(src).*')\n",
    "    img_url = re.sub('src=','', \"\".join([m.group(0) for l in lst for m in [regex.search(l)] if m]))\n",
    "    img_url = img_url.strip('\"\"')\n",
    "    #print img_url\n",
    "    if img_url:\n",
    "        urllib.urlretrieve(img_url, \"Images/\" + userId + \".jpg\")\n",
    "        print userId + \".jpg is saved.\"\n",
    "        return img_url\n",
    "    else:\n",
    "        with open('ghost_person.png', 'rb') as f:\n",
    "            data = f.read()\n",
    "\n",
    "        with open(\"Images/\" + userId + \".png\", 'wb') as f:\n",
    "            f.write(data)\n",
    "\n",
    "        print userId + \".png is saved.\"\n",
    "        return \"https://static.licdn.com/scds/common/u/images/themes/katy/ghosts/person/ghost_person_100x100_v1.png\".strip(\"\")"
   ]
  },
  {
   "cell_type": "markdown",
   "metadata": {},
   "source": [
    "## Scrap the UserID from Recommended Users' list. "
   ]
  },
  {
   "cell_type": "code",
   "execution_count": 5,
   "metadata": {
    "collapsed": true
   },
   "outputs": [],
   "source": [
    "def getRecommendedUserIds(profileLink):\n",
    "    \n",
    "    driver = webdriver.PhantomJS()\n",
    "    driver.get(profileLink)\n",
    "    html=driver.page_source    \n",
    "    soup=BeautifulSoup(html,\"lxml\")\n",
    "    #content = driver.page_source\n",
    "    #images = [x for x in soup.find_all('img')]\n",
    "    profLinks = [x for x in soup.find_all('li',{'class': 'profile-card'})]\n",
    "    \n",
    "    recUserIds = []\n",
    "    #print profLinks\n",
    "    for link in profLinks:\n",
    "        urls = re.findall('http[s]?://(?:[a-zA-Z]|[0-9]|[$-_@.&+]|[!*\\(\\),]|(?:%[0-9a-fA-F][0-9a-fA-F]))+', str(link))\n",
    "        recId = urls[0].split('?')[0].split('/')[-1]\n",
    "        recUserIds.append(recId)\n",
    "    \n",
    "    return recUserIds"
   ]
  },
  {
   "cell_type": "markdown",
   "metadata": {},
   "source": [
    "## Get Full Name from title in source"
   ]
  },
  {
   "cell_type": "code",
   "execution_count": 6,
   "metadata": {
    "collapsed": true
   },
   "outputs": [],
   "source": [
    "def getName(profileUrl):\n",
    "    \n",
    "    driver = webdriver.PhantomJS()\n",
    "    driver.get(profileUrl)\n",
    "    html=driver.page_source    \n",
    "    soup=BeautifulSoup(html,\"lxml\")\n",
    "    title = soup.find('title')\n",
    "    name = str(title).replace('<title>','')\n",
    "    full_name = name.replace(' | LinkedIn</title>','')\n",
    "    \n",
    "    return full_name"
   ]
  },
  {
   "cell_type": "code",
   "execution_count": 8,
   "metadata": {
    "collapsed": true
   },
   "outputs": [],
   "source": [
    "def getBachelorList():\n",
    "\n",
    "    BachelorDict = {}\n",
    "    regex = re.compile('[^a-zA-Z/]')\n",
    "    with open('bachelor_degrees.txt') as fp:\n",
    "        for line in fp.readlines():\n",
    "            lineSepator = line.split('(')\n",
    "            abbr = regex.sub('', lineSepator[1])\n",
    "            abbr = abbr.split('/')\n",
    "            for abrv in abbr:\n",
    "                BachelorDict[abrv] = lineSepator[0].strip()\n",
    "        fp.close()\n",
    "\n",
    "    return BachelorDict"
   ]
  },
  {
   "cell_type": "code",
   "execution_count": 9,
   "metadata": {
    "collapsed": true
   },
   "outputs": [],
   "source": [
    "def calculate_age(bachelor_year):\n",
    "    today = date.today()\n",
    "    return today.year - bachelor_year + 18"
   ]
  },
  {
   "cell_type": "code",
   "execution_count": 10,
   "metadata": {
    "collapsed": true
   },
   "outputs": [],
   "source": [
    "def get_Degree_Duration(profileUrl):\n",
    "    \n",
    "\n",
    "    driver = webdriver.PhantomJS()\n",
    "    driver.get(profileUrl)\n",
    "    html=driver.page_source    \n",
    "    soup=BeautifulSoup(html.encode(\"ascii\",\"ignore\"),\"lxml\")\n",
    "    schoolLinks = soup.find_all('li',{'class':'school'})\n",
    "    degreeList = []\n",
    "    time_range_list = []\n",
    "    \n",
    "    for soup1 in schoolLinks:\n",
    "\n",
    "        degreeLink = soup1.find('span',{'data-field-name':\"Education.DegreeName\"})\n",
    "        timeRange = soup1.find('span',{'class':\"date-range\"})\n",
    "\n",
    "        tempDegree = str(degreeLink).replace('<span class=\"translated translation\" data-field-name=\"Education.DegreeName\">','')\n",
    "        degree = tempDegree.replace('</span>','')\n",
    "\n",
    "        tempTime = str(timeRange).replace('<span class=\"date-range\">','')\n",
    "        time = tempTime.replace('<time>','')\n",
    "        temp_time = time.replace('</time>','')\n",
    "        time_range = temp_time.replace('</span>','')\n",
    "\n",
    "        degreeList.append(degree)\n",
    "        time_range_list.append(time_range)\n",
    "    \n",
    "    return degreeList,time_range_list"
   ]
  },
  {
   "cell_type": "code",
   "execution_count": 19,
   "metadata": {
    "collapsed": true
   },
   "outputs": [],
   "source": [
    "def find_bachelor_year(degree_list,time_list):\n",
    "    \n",
    "    bachelor_degree_duration = set()\n",
    "    \n",
    "    BachelorDict = getBachelorList()\n",
    "    \n",
    "    for index,dg in enumerate(degree_list):\n",
    "\n",
    "        for key in BachelorDict.keys():\n",
    "            if key in dg:\n",
    "                bachelor_degree_duration.add(time_list[index])\n",
    "                break\n",
    "\n",
    "        for value in BachelorDict.values():\n",
    "            if value in dg:\n",
    "                bachelor_degree_duration.add(time_list[index])\n",
    "                break\n",
    "        \n",
    "        \n",
    "    #print time_list   \n",
    "    bachelor_degree_duration = list(bachelor_degree_duration)\n",
    "    \n",
    "    print bachelor_degree_duration\n",
    "    \n",
    "    if bachelor_degree_duration:\n",
    "        if time_list:\n",
    "            #print time_list\n",
    "            bachelor_year = int(time_list[0].split()[0])\n",
    "        else:\n",
    "            bachelor_year = None\n",
    "        \n",
    "    else:\n",
    "        bachelor_year = int(bachelor_degree_duration[0].split()[0])    \n",
    "    \n",
    "    return bachelor_year"
   ]
  },
  {
   "cell_type": "code",
   "execution_count": 12,
   "metadata": {
    "collapsed": true
   },
   "outputs": [],
   "source": [
    "def age_from_linkedin_profile(profileUrl):\n",
    "    \n",
    "    degree_list, time_list = get_Degree_Duration(profileUrl)\n",
    "    \n",
    "    refined_degree_list = []\n",
    "    regex = re.compile('[^a-zA-Z\\s+]')\n",
    "\n",
    "    for degree in degree_list:\n",
    "        refined_degree_list.append(regex.sub('',degree))\n",
    "    \n",
    "    bachelor_year = find_bachelor_year(refined_degree_list,time_list)\n",
    "    \n",
    "    if bachelor_year:\n",
    "        age = calculate_age(bachelor_year)\n",
    "    else:\n",
    "        age = None\n",
    "    \n",
    "    return age"
   ]
  },
  {
   "cell_type": "code",
   "execution_count": null,
   "metadata": {
    "collapsed": true
   },
   "outputs": [],
   "source": []
  },
  {
   "cell_type": "code",
   "execution_count": null,
   "metadata": {
    "collapsed": true
   },
   "outputs": [],
   "source": []
  },
  {
   "cell_type": "markdown",
   "metadata": {},
   "source": [
    "## Main Method"
   ]
  },
  {
   "cell_type": "code",
   "execution_count": 22,
   "metadata": {
    "collapsed": false
   },
   "outputs": [],
   "source": [
    "def main():\n",
    "    \n",
    "    directory = \"Images\"\n",
    "    \n",
    "    if not os.path.exists(directory):\n",
    "        os.makedirs(directory)\n",
    "    \n",
    "    userIds = ['harshparikh1001','george-kramp-8422581','marry-abraham-2517a685','xulifeng','ramyamadhihallysreenidhi']\n",
    "    \n",
    "    newIDs = []\n",
    "    #names = []\n",
    "    profileDict = {}\n",
    "    \n",
    "    for index,usrid in enumerate(userIds):\n",
    "        \n",
    "        profileUrl = (\"https://www.linkedin.com/in/\" + usrid).strip(\"\")\n",
    "        newIDs.extend(getRecommendedUserIds(profileUrl))\n",
    "        #names.append(getName(profileUrl))\n",
    "        \n",
    "        profileDict[usrid] = {}\n",
    "        profileDict[usrid]['Full_Name'] = getName(profileUrl)\n",
    "        profileDict[usrid]['Gender'] = find_gender_from_first_name(getName(profileUrl).split()[0])\n",
    "        \n",
    "        #profile_link = \"https://www.linkedin.com/in/\" + usrid\n",
    "        profilePicUrl = getProfilePicLink(profileUrl)\n",
    "        \n",
    "        picUrl = storeProfilePicture(profilePicUrl,profileUrl)\n",
    "        \n",
    "        profileDict[usrid]['Profile_Url'] = picUrl\n",
    "        profileDict[usrid]['age'] = age_from_linkedin_profile(profileUrl)\n",
    "        \n",
    "        time.sleep(5) # delays for 5 seconds\n",
    "    \n",
    "    print \n",
    "    print newIDs\n",
    "    print\n",
    "    print profileDict"
   ]
  },
  {
   "cell_type": "code",
   "execution_count": null,
   "metadata": {
    "collapsed": true
   },
   "outputs": [],
   "source": [
    "if __name__ == '__main__':\n",
    "    \n",
    "    directory = \"Images\"\n",
    "    \n",
    "    if not os.path.exists(directory):\n",
    "        os.makedirs(directory)\n",
    "    \n",
    "    userIds = ['harshparikh1001','george-kramp-8422581','marissamayer','xulifeng','ramyamadhihallysreenidhi']\n",
    "    \n",
    "    recommended_profile_ids = []\n",
    "    profileDict = {}\n",
    "    \n",
    "    for index,usrid in enumerate(userIds):\n",
    "        \n",
    "        profileUrl = \"https://www.linkedin.com/in/\" + usrid\n",
    "        recommended_profile_ids.extend(getRecommendedUserIds(profileUrl))\n",
    "        \n",
    "        profileDict[usrid] = {}\n",
    "        profileDict[usrid]['Full_Name'] = getName(profileUrl)\n",
    "        profileDict[usrid]['Gender'] = find_gender_from_first_name(getName(profileUrl).split()[0])\n",
    "        \n",
    "        #profile_link = \"https://www.linkedin.com/in/\" + usrid\n",
    "        profilePicUrl = getProfilePicLink(profileUrl)\n",
    "        \n",
    "        picUrl = storeProfilePicture(profilePicUrl,profileUrl)\n",
    "        \n",
    "        profileDict[usrid]['Profile_Url'] = picUrl\n",
    "        profileDict[usrid]['age'] = age_from_linkedin_profile(profileUrl)\n",
    "        \n",
    "        time.sleep(5) # delays for 5 seconds"
   ]
  },
  {
   "cell_type": "code",
   "execution_count": 23,
   "metadata": {
    "collapsed": false
   },
   "outputs": [
    {
     "name": "stdout",
     "output_type": "stream",
     "text": [
      "harshparikh1001.png is saved.\n",
      "[]\n"
     ]
    },
    {
     "ename": "IndexError",
     "evalue": "list index out of range",
     "output_type": "error",
     "traceback": [
      "\u001b[1;31m---------------------------------------------------------------------------\u001b[0m",
      "\u001b[1;31mIndexError\u001b[0m                                Traceback (most recent call last)",
      "\u001b[1;32m<ipython-input-23-2436fc2ab63a>\u001b[0m in \u001b[0;36m<module>\u001b[1;34m()\u001b[0m\n\u001b[0;32m      1\u001b[0m \u001b[1;32mif\u001b[0m \u001b[0m__name__\u001b[0m \u001b[1;33m==\u001b[0m \u001b[1;34m'__main__'\u001b[0m\u001b[1;33m:\u001b[0m\u001b[1;33m\u001b[0m\u001b[0m\n\u001b[1;32m----> 2\u001b[1;33m     \u001b[0mmain\u001b[0m\u001b[1;33m(\u001b[0m\u001b[1;33m)\u001b[0m\u001b[1;33m\u001b[0m\u001b[0m\n\u001b[0m",
      "\u001b[1;32m<ipython-input-22-cd02e5c31cdc>\u001b[0m in \u001b[0;36mmain\u001b[1;34m()\u001b[0m\n\u001b[0;32m     28\u001b[0m \u001b[1;33m\u001b[0m\u001b[0m\n\u001b[0;32m     29\u001b[0m         \u001b[0mprofileDict\u001b[0m\u001b[1;33m[\u001b[0m\u001b[0musrid\u001b[0m\u001b[1;33m]\u001b[0m\u001b[1;33m[\u001b[0m\u001b[1;34m'Profile_Url'\u001b[0m\u001b[1;33m]\u001b[0m \u001b[1;33m=\u001b[0m \u001b[0mpicUrl\u001b[0m\u001b[1;33m\u001b[0m\u001b[0m\n\u001b[1;32m---> 30\u001b[1;33m         \u001b[0mprofileDict\u001b[0m\u001b[1;33m[\u001b[0m\u001b[0musrid\u001b[0m\u001b[1;33m]\u001b[0m\u001b[1;33m[\u001b[0m\u001b[1;34m'age'\u001b[0m\u001b[1;33m]\u001b[0m \u001b[1;33m=\u001b[0m \u001b[0mage_from_linkedin_profile\u001b[0m\u001b[1;33m(\u001b[0m\u001b[0mprofileUrl\u001b[0m\u001b[1;33m)\u001b[0m\u001b[1;33m\u001b[0m\u001b[0m\n\u001b[0m\u001b[0;32m     31\u001b[0m \u001b[1;33m\u001b[0m\u001b[0m\n\u001b[0;32m     32\u001b[0m         \u001b[0mtime\u001b[0m\u001b[1;33m.\u001b[0m\u001b[0msleep\u001b[0m\u001b[1;33m(\u001b[0m\u001b[1;36m5\u001b[0m\u001b[1;33m)\u001b[0m \u001b[1;31m# delays for 5 seconds\u001b[0m\u001b[1;33m\u001b[0m\u001b[0m\n",
      "\u001b[1;32m<ipython-input-12-d87a5d952095>\u001b[0m in \u001b[0;36mage_from_linkedin_profile\u001b[1;34m(profileUrl)\u001b[0m\n\u001b[0;32m      9\u001b[0m         \u001b[0mrefined_degree_list\u001b[0m\u001b[1;33m.\u001b[0m\u001b[0mappend\u001b[0m\u001b[1;33m(\u001b[0m\u001b[0mregex\u001b[0m\u001b[1;33m.\u001b[0m\u001b[0msub\u001b[0m\u001b[1;33m(\u001b[0m\u001b[1;34m''\u001b[0m\u001b[1;33m,\u001b[0m\u001b[0mdegree\u001b[0m\u001b[1;33m)\u001b[0m\u001b[1;33m)\u001b[0m\u001b[1;33m\u001b[0m\u001b[0m\n\u001b[0;32m     10\u001b[0m \u001b[1;33m\u001b[0m\u001b[0m\n\u001b[1;32m---> 11\u001b[1;33m     \u001b[0mbachelor_year\u001b[0m \u001b[1;33m=\u001b[0m \u001b[0mfind_bachelor_year\u001b[0m\u001b[1;33m(\u001b[0m\u001b[0mrefined_degree_list\u001b[0m\u001b[1;33m,\u001b[0m\u001b[0mtime_list\u001b[0m\u001b[1;33m)\u001b[0m\u001b[1;33m\u001b[0m\u001b[0m\n\u001b[0m\u001b[0;32m     12\u001b[0m \u001b[1;33m\u001b[0m\u001b[0m\n\u001b[0;32m     13\u001b[0m     \u001b[1;32mif\u001b[0m \u001b[0mbachelor_year\u001b[0m\u001b[1;33m:\u001b[0m\u001b[1;33m\u001b[0m\u001b[0m\n",
      "\u001b[1;32m<ipython-input-19-aba4200852bf>\u001b[0m in \u001b[0;36mfind_bachelor_year\u001b[1;34m(degree_list, time_list)\u001b[0m\n\u001b[0;32m     31\u001b[0m \u001b[1;33m\u001b[0m\u001b[0m\n\u001b[0;32m     32\u001b[0m     \u001b[1;32melse\u001b[0m\u001b[1;33m:\u001b[0m\u001b[1;33m\u001b[0m\u001b[0m\n\u001b[1;32m---> 33\u001b[1;33m         \u001b[0mbachelor_year\u001b[0m \u001b[1;33m=\u001b[0m \u001b[0mint\u001b[0m\u001b[1;33m(\u001b[0m\u001b[0mbachelor_degree_duration\u001b[0m\u001b[1;33m[\u001b[0m\u001b[1;36m0\u001b[0m\u001b[1;33m]\u001b[0m\u001b[1;33m.\u001b[0m\u001b[0msplit\u001b[0m\u001b[1;33m(\u001b[0m\u001b[1;33m)\u001b[0m\u001b[1;33m[\u001b[0m\u001b[1;36m0\u001b[0m\u001b[1;33m]\u001b[0m\u001b[1;33m)\u001b[0m\u001b[1;33m\u001b[0m\u001b[0m\n\u001b[0m\u001b[0;32m     34\u001b[0m \u001b[1;33m\u001b[0m\u001b[0m\n\u001b[0;32m     35\u001b[0m     \u001b[1;32mreturn\u001b[0m \u001b[0mbachelor_year\u001b[0m\u001b[1;33m\u001b[0m\u001b[0m\n",
      "\u001b[1;31mIndexError\u001b[0m: list index out of range"
     ]
    }
   ],
   "source": [
    "if __name__ == '__main__':\n",
    "    main()"
   ]
  },
  {
   "cell_type": "code",
   "execution_count": null,
   "metadata": {
    "collapsed": true
   },
   "outputs": [],
   "source": []
  },
  {
   "cell_type": "code",
   "execution_count": null,
   "metadata": {
    "collapsed": false
   },
   "outputs": [],
   "source": []
  },
  {
   "cell_type": "code",
   "execution_count": 28,
   "metadata": {
    "collapsed": false
   },
   "outputs": [],
   "source": [
    "driver = webdriver.PhantomJS()\n",
    "driver.get(\"https://www.linkedin.com/in/harshparikh1001\")\n",
    "html=driver.page_source    \n",
    "soup=BeautifulSoup(html,\"lxml\") \n",
    "images = [x for x in soup.find_all('img')]\n",
    "try:\n",
    "    if \"shrinknp_200_200\" in str(images[0]):\n",
    "        imageUrlString = str(images[0]).replace(\"shrinknp_200_200\", \"shrinknp_400_400\")\n",
    "    else:\n",
    "        imageUrlString = \"\"\n",
    "except:\n",
    "    imageUrlString = \"\""
   ]
  },
  {
   "cell_type": "code",
   "execution_count": 29,
   "metadata": {
    "collapsed": false
   },
   "outputs": [
    {
     "data": {
      "text/plain": [
       "''"
      ]
     },
     "execution_count": 29,
     "metadata": {},
     "output_type": "execute_result"
    }
   ],
   "source": [
    "imageUrlString"
   ]
  },
  {
   "cell_type": "code",
   "execution_count": null,
   "metadata": {
    "collapsed": false
   },
   "outputs": [],
   "source": []
  },
  {
   "cell_type": "code",
   "execution_count": null,
   "metadata": {
    "collapsed": false,
    "scrolled": true
   },
   "outputs": [],
   "source": []
  },
  {
   "cell_type": "code",
   "execution_count": null,
   "metadata": {
    "collapsed": false,
    "scrolled": true
   },
   "outputs": [],
   "source": []
  },
  {
   "cell_type": "code",
   "execution_count": null,
   "metadata": {
    "collapsed": true
   },
   "outputs": [],
   "source": []
  },
  {
   "cell_type": "code",
   "execution_count": null,
   "metadata": {
    "collapsed": true
   },
   "outputs": [],
   "source": []
  },
  {
   "cell_type": "code",
   "execution_count": null,
   "metadata": {
    "collapsed": true
   },
   "outputs": [],
   "source": []
  },
  {
   "cell_type": "code",
   "execution_count": 360,
   "metadata": {
    "collapsed": true
   },
   "outputs": [],
   "source": []
  },
  {
   "cell_type": "code",
   "execution_count": null,
   "metadata": {
    "collapsed": true
   },
   "outputs": [],
   "source": []
  },
  {
   "cell_type": "code",
   "execution_count": 65,
   "metadata": {
    "collapsed": true
   },
   "outputs": [],
   "source": []
  },
  {
   "cell_type": "code",
   "execution_count": 238,
   "metadata": {
    "collapsed": false
   },
   "outputs": [],
   "source": []
  },
  {
   "cell_type": "code",
   "execution_count": 362,
   "metadata": {
    "collapsed": false
   },
   "outputs": [],
   "source": []
  },
  {
   "cell_type": "code",
   "execution_count": null,
   "metadata": {
    "collapsed": true
   },
   "outputs": [],
   "source": []
  },
  {
   "cell_type": "code",
   "execution_count": 301,
   "metadata": {
    "collapsed": true
   },
   "outputs": [],
   "source": []
  },
  {
   "cell_type": "code",
   "execution_count": 321,
   "metadata": {
    "collapsed": true
   },
   "outputs": [],
   "source": []
  },
  {
   "cell_type": "code",
   "execution_count": 297,
   "metadata": {
    "collapsed": false
   },
   "outputs": [],
   "source": []
  },
  {
   "cell_type": "code",
   "execution_count": 358,
   "metadata": {
    "collapsed": false
   },
   "outputs": [],
   "source": [
    "profileUrl = \"https://www.linkedin.com/in/marissamayer\""
   ]
  },
  {
   "cell_type": "code",
   "execution_count": 361,
   "metadata": {
    "collapsed": false
   },
   "outputs": [
    {
     "name": "stdout",
     "output_type": "stream",
     "text": [
      "41\n"
     ]
    }
   ],
   "source": [
    "person_age = age_from_linkedin_profile(profileUrl)\n",
    "print person_age"
   ]
  },
  {
   "cell_type": "code",
   "execution_count": null,
   "metadata": {
    "collapsed": true
   },
   "outputs": [],
   "source": []
  },
  {
   "cell_type": "code",
   "execution_count": null,
   "metadata": {
    "collapsed": false
   },
   "outputs": [],
   "source": []
  },
  {
   "cell_type": "code",
   "execution_count": 129,
   "metadata": {
    "collapsed": false
   },
   "outputs": [
    {
     "name": "stdout",
     "output_type": "stream",
     "text": [
      "Professor, Mathematics, Computer Science/Engineering\n",
      "1978 – 2012\n",
      "PhD, Mathematics\n",
      "1969 – 1974\n",
      "BA, Mathematics\n",
      "1965 – 1969\n"
     ]
    }
   ],
   "source": [
    "\n",
    "\n",
    "driver = webdriver.PhantomJS()\n",
    "driver.get(\"https://www.linkedin.com/in/georgecorliss\")\n",
    "html=driver.page_source    \n",
    "soup=BeautifulSoup(html,\"lxml\")\n",
    "schoolLinks = soup.find_all('li',{'class':'school'})\n",
    "\n",
    "for soup1 in schoolLinks:\n",
    "    \n",
    "    degreeLink = soup1.find('span',{'data-field-name':\"Education.DegreeName\"})\n",
    "    timeRange = soup1.find('span',{'class':\"date-range\"})\n",
    "    \n",
    "    tempDegree = str(degreeLink).replace('<span class=\"translated translation\" data-field-name=\"Education.DegreeName\">','')\n",
    "    degree = tempDegree.replace('</span>','')\n",
    "    \n",
    "    tempTime = str(timeRange).replace('<span class=\"date-range\">','')\n",
    "    time = tempTime.replace('<time>','')\n",
    "    temp_time = time.replace('</time>','')\n",
    "    time_range = temp_time.replace('</span>','')\n",
    "    \n",
    "    print degree\n",
    "    print time_range"
   ]
  },
  {
   "cell_type": "code",
   "execution_count": null,
   "metadata": {
    "collapsed": false
   },
   "outputs": [],
   "source": []
  },
  {
   "cell_type": "code",
   "execution_count": null,
   "metadata": {
    "collapsed": false
   },
   "outputs": [],
   "source": [
    "#import re\n",
    "#link = re.sub(r'(<a href=\"http[s]?://(?:[a-zA-Z]|[0-9]|[$-_@.&+]|[!*\\(\\),]|(?:%[0-9a-fA-F][0-9a-fA-F]))+\">)','',str(links[3]))\n",
    "#link = link.replace('<ul>',' ')\n",
    "#link = link.replace('</li><li>',' ')\n",
    "#link = link.replace('<li>',' ')\n",
    "#link = link.replace('</a>',' ')\n",
    "#link = link.replace('</li></ul>',' ')\n",
    "#print link.split()"
   ]
  },
  {
   "cell_type": "code",
   "execution_count": 258,
   "metadata": {
    "collapsed": false
   },
   "outputs": [
    {
     "data": {
      "text/plain": [
       "u'<!DOCTYPE html><!--[if lt IE 7]> <html lang=\"en\" class=\"ie ie6 lte9 lte8 lte7 os-linux\"> <![endif]--><!--[if IE 7]> <html lang=\"en\" class=\"ie ie7 lte9 lte8 lte7 os-linux\"> <![endif]--><!--[if IE 8]> <html lang=\"en\" class=\"ie ie8 lte9 lte8 os-linux\"> <![endif]--><!--[if IE 9]> <html lang=\"en\" class=\"ie ie9 lte9 os-linux\"> <![endif]--><!--[if gt IE 9]> <html lang=\"en\" class=\"os-linux\"> <![endif]--><!--[if !IE]><!--><html lang=\"en\" class=\"os-linux\"><!--<![endif]--><head>\\n<meta charset=\"UTF-8\">\\n\\n    \\n\\n<title>Harsh Parikh | LinkedIn</title>\\n\\n\\n\\n  \\n \\n \\n \\n \\n \\n \\n \\n \\n \\n \\n \\n \\n \\n \\n \\n \\n \\n \\n\\n\\n \\n \\n \\n\\n \\n \\n\\n\\n\\n\\n <meta name=\"referrer\" content=\"origin\"> \\n\\n<meta http-equiv=\"X-UA-Compatible\" content=\"IE=edge\">\\n\\n\\n <meta name=\"pageImpressionID\" content=\"85d67f24-2e66-4706-83d3-2c9776701e85\">\\n \\n <meta name=\"appName\" content=\"chrome\">\\n \\n \\n \\n \\n \\n \\n <meta name=\"pageKey\" content=\"public_profile_v3_desktop\">\\n \\n\\n\\n <meta name=\"treeID\" content=\"pVzufUledBSARcf9+ioAAA==\">\\n \\n\\n \\n \\n \\n \\n\\n <meta name=\"globalTrackingUrl\" content=\"//www.linkedin.com/mob/tracking\">\\n <meta name=\"globalTrackingAppName\" content=\"chrome\">\\n <meta name=\"globalTrackingAppId\" content=\"webTracking\">\\n \\n\\n \\n \\n \\n \\n \\n\\n\\n  \\n\\n      \\n      \\n      \\n      \\n      \\n      \\n      \\n    \\n<!--[if lte IE 8]>\\n  <link rel=\"shortcut icon\" href=\"https://static.licdn.com/scds/common/u/images/logos/favicons/v1/16x16/favicon.ico\">\\n<![endif]-->\\n<!--[if IE 9]>\\n  <link rel=\"shortcut icon\" href=\"https://static.licdn.com/scds/common/u/images/logos/favicons/v1/favicon.ico\">\\n<![endif]-->\\n<link rel=\"icon\" href=\"https://static.licdn.com/scds/common/u/images/logos/favicons/v1/favicon.ico\">\\n\\n\\n<link rel=\"apple-touch-icon-precomposed\" href=\"https://static.licdn.com/scds/common/u/img/icon/apple-touch-icon.png\">\\n\\n\\n<meta name=\"msapplication-TileImage\" content=\"https://static.licdn.com/scds/common/u/images/logos/linkedin/logo-in-win8-tile-144_v1.png\">\\n<meta name=\"msapplication-TileColor\" content=\"#0077B5\">\\n<meta name=\"application-name\" content=\"LinkedIn\">\\n\\n\\n\\n      \\n      \\n      \\n      \\n      \\n      \\n      \\n      \\n      \\n      \\n      \\n      \\n      \\n      \\n      \\n      \\n      \\n    \\n\\n\\n\\n\\n\\n\\n\\n      \\n    \\n  \\n  \\n      \\n      \\n\\n      \\n        \\n      \\n\\n\\n\\n\\n\\n\\n\\n\\n\\n\\n\\n\\n      \\n      \\n    \\n    \\n  \\n    \\n    \\n  \\n  \\n  \\n\\n  \\n  \\n\\n\\n\\n\\n\\n\\n\\n    \\n  \\n\\n\\n    \\n  \\n\\n\\n\\n    \\n      \\n        \\n          \\n            \\n                \\n              \\n          \\n        \\n      \\n    \\n    \\n\\n\\n\\n    \\n    \\n\\n\\n      \\n      \\n      \\n      \\n      \\n      \\n      \\n      \\n      \\n      \\n      \\n      \\n      \\n      \\n      \\n      \\n      \\n    \\n\\n\\n\\n\\n\\n\\n\\n\\n      \\n      \\n        \\n        \\n\\n      \\n      \\n      \\n      \\n      \\n      \\n      \\n    \\n\\n\\n      \\n    \\n  \\n      \\n      \\n  \\n      \\n      \\n\\n      \\n        \\n      \\n\\n\\n\\n\\n\\n\\n\\n    \\n        \\n        \\n      \\n  \\n\\n\\n\\n\\n\\n\\n      \\n    \\n      \\n      \\n    \\n\\n\\n      \\n      \\n      \\n      \\n      \\n      \\n      \\n      \\n      \\n      \\n      \\n      \\n      \\n      \\n      \\n      \\n      \\n    \\n\\n\\n    \\n  \\n      \\n\\n      \\n      \\n\\n\\n\\n\\n\\n\\n\\n     \\n      \\n    \\n    \\n        \\n\\n\\n\\n\\n      \\n    \\n  \\n      \\n      \\n\\n      \\n        \\n      \\n\\n\\n\\n\\n\\n  \\n\\n\\n\\n\\n\\n    \\n\\n  \\n      \\n      \\n        \\n        \\n\\n      \\n      \\n      \\n      \\n      \\n      \\n      \\n    \\n\\n\\n      \\n    \\n  \\n      \\n      \\n  \\n      \\n      \\n\\n      \\n        \\n      \\n\\n\\n\\n\\n\\n\\n\\n    \\n        \\n        \\n      \\n  \\n\\n\\n\\n\\n\\n\\n      \\n    \\n      \\n      \\n    \\n\\n      \\n                \\n    \\n    \\n\\n\\n\\n\\n\\n<meta content=\"https://static.licdn.com/scds/concat/common/js?v=build-2000_8_58108-prod\" name=\"RemoteNavJSContentBaseURL\">\\n\\n\\n\\n     \\n      \\n    \\n    \\n      \\n    \\n    \\n\\n      \\n      \\n    \\n\\n      \\n      \\n    \\n    \\n    \\n    \\n    \\n\\n  \\n\\n \\n \\n \\n \\n\\n\\n\\n      \\n        \\n          \\n            \\n          \\n          \\n        \\n      \\n    \\n\\n      \\n        \\n          \\n          \\n        \\n      \\n    \\n\\n\\n      \\n      \\n    \\n    \\n    \\n    \\n    \\n\\n      \\n      \\n    \\n    \\n    \\n                    <script type=\"text/javascript\" src=\"https://static.licdn.com/scds/concat/common/js?h=7ndrn0f9fw0hum7uoqcjcnzne-95d8d303rtd0n9wj4dcjbnh2c-7vr4nuab43rzvy2pgq7yvvxjk-9qa4rfxekcw3lt2c06h7p0kmf\"></script>\\n    \\n    \\n\\n\\n  \\n\\n\\n\\n\\n\\n\\n\\n\\n\\n\\n     \\n      \\n    \\n    \\n  \\n    \\n      \\n      \\n      \\n      \\n      \\n      \\n      \\n      \\n    \\n\\n\\n     \\n      \\n    \\n    \\n  \\n\\n      \\n                \\n    \\n    \\n\\n    \\n  \\n\\n      \\n      \\n        \\n          \\n            \\n                \\n                  \\n                  \\n                    <link rel=\"stylesheet\" type=\"text/css\" href=\"https://static.licdn.com/scds/concat/common/css?h=1clmztxulpz3wo3xlrz5vprhk-a4kjc5uqttio53azw54aex6s3-as8kt5bqspxc01tl9cizqa37j\">\\n                  \\n                \\n              \\n          \\n        \\n      \\n    \\n    \\n\\n\\n      \\n      \\n    \\n    \\n  \\n  \\n  \\n      \\n      \\n      \\n      \\n      \\n      \\n      \\n    \\n\\n\\n\\n\\n\\n\\n\\n\\n\\n\\n\\n\\n\\n    \\n\\n\\n\\n<script></script>\\n\\n<!--[if IE 8]><script src=\"https://static.licdn.com/scds/common/u/lib/polyfill/1.0.2/ie8-polyfill.min.js\"></script><![endif]-->\\n<!--[if IE 9]><script src=\"https://static.licdn.com/scds/common/u/lib/polyfill/1.0.2/ie9-polyfill.min.js\"></script><![endif]-->\\n\\n\\n \\n \\n \\n\\n\\n\\n  \\n    \\n      \\n\\n\\n\\n\\n\\n\\n\\n\\n\\n      \\n      \\n      \\n      \\n      \\n      \\n      \\n      \\n      \\n      \\n      \\n      \\n      \\n      \\n      \\n      \\n      \\n    \\n\\n\\n\\n\\n \\n \\n \\n \\n \\n \\n \\n \\n\\n\\n\\n\\n      \\n      \\n      \\n      \\n      \\n      \\n      \\n    \\n\\n\\n\\n      \\n      \\n    \\n    \\n  \\n  \\n\\n    \\n      \\n        \\n          \\n            \\n                \\n              \\n          \\n        \\n      \\n    \\n    \\n\\n\\n      \\n      \\n    \\n    \\n  \\n\\n    \\n      \\n        \\n          \\n            \\n                \\n              \\n          \\n        \\n      \\n    \\n    \\n\\n\\n\\n  <meta name=\"lnkd-track-json-lib\" content=\"https://static.licdn.com/scds/concat/common/js?h=2jds9coeh4w78ed9wblscv68v-ebbt2vixcc5qz0otts5io08xv\">\\n  \\n\\n\\n\\n\\n\\n\\n\\n\\n\\n\\n      \\n      \\n    \\n    \\n  \\n  \\n  \\n  \\n\\n    \\n      \\n        \\n          \\n            \\n                \\n              \\n          \\n        \\n      \\n    \\n    \\n\\n\\n\\n      \\n      \\n      \\n      \\n      \\n      \\n      \\n    \\n\\n\\n\\n\\n      \\n    \\n  \\n      \\n      \\n\\n      \\n        \\n      \\n\\n\\n  \\n\\n\\n  \\n\\n\\n\\n\\n\\n\\n\\n\\n\\n  \\n  \\n      \\n      \\n    \\n    \\n    \\n      \\n      \\n    \\n  \\n    \\n      \\n        \\n          \\n            \\n                \\n              \\n          \\n        \\n      \\n    \\n    \\n\\n  \\n\\n \\n \\n \\n \\n \\n \\n    \\n  \\n\\n    \\n      \\n        \\n          \\n            \\n                \\n                  \\n                    <script type=\"text/javascript\" src=\"https://static.licdn.com/scds/concat/common/js?h=e2lgukqldpqool72t8g7tysag-3nuvxgwg15rbghxm1gpzfbya2-1nm61x5u7981e88m10hpaekkm-mv3v66b8q0h1hvgvd3yfjv5f-14k913qahq3mh0ac0lh0twk9v\"></script>\\n                  \\n                  \\n                \\n              \\n          \\n        \\n      \\n    \\n    \\n\\n\\n\\n\\n\\n\\n\\n\\n\\n\\n          \\n        \\n        \\n      \\n      \\n        <link rel=\"canonical\" href=\"https://www.linkedin.com/in/harshparikh1001\"><link rel=\"stylesheet\" href=\"https://static.licdn.com/sc/h/2re21svyqnvrbg6r3dcufmr4d\"><script type=\"text/javascript\" src=\"https://static.licdn.com/sc/h/4tcd0mh70bs89zecpaumh27p1\"></script><meta http-equiv=\"content-type\" content=\"text/html; charset=UTF-8\"><meta name=\"robots\" content=\"noarchive\"><meta name=\"description\" content=\"View Harsh Parikh\\u2019s professional profile on LinkedIn. LinkedIn is the world\\'s largest business network, helping professionals like Harsh Parikh discover inside connections to recommended job candidates, industry experts, and business partners.\"><meta name=\"og:title\" content=\"Harsh Parikh | LinkedIn\"><meta name=\"og:description\" content=\"View Harsh Parikh\\u2019s professional profile on LinkedIn. LinkedIn is the world\\'s largest business network, helping professionals like Harsh Parikh discover inside connections to recommended job candidates, industry experts, and business partners.\"><meta property=\"og:image\" content=\"https://media.licdn.com/mpr/mpr/shrinknp_200_200/AAEAAQAAAAAAAAmGAAAAJDNhZmE5ODljLTZjMDItNGUyNC1iYjYyLWMxYTJiNzE1NmYzNA.jpg\">\\n      \\n    \\n        \\n            <link rel=\"stylesheet\" type=\"text/css\" href=\"https://static.licdn.com/sc/p/com.linkedin.public-profile-frontend%3Apublic-profile-frontend-static-content%2B0.0.618/f/%2Fpublic-profile-frontend%2Ffonts%2Fsource-sans-pro-font.css\"></head>\\n        \\n        \\n      \\n      \\n        \\n      \\n    \\n        \\n            \\n    \\n\\n \\n \\n \\n \\n \\n \\n \\n \\n\\n\\n\\n \\n \\n \\n \\n \\n <body class=\"js guest\" dir=\"ltr\" id=\"pagekey-public_profile_v3_desktop\">\\n\\n\\n            \\n\\n\\n      \\n    \\n  \\n      \\n      \\n\\n      \\n        \\n      \\n\\n\\n\\n\\n\\n\\n\\n\\n\\n  \\n<div id=\"application-body\">\\n\\n\\n\\n\\n\\n\\n\\n\\n\\n\\n\\n\\n\\n\\n  \\n \\n \\n \\n \\n \\n \\n \\n \\n \\n \\n \\n \\n \\n \\n \\n \\n \\n \\n\\n\\n\\n\\n \\n \\n \\n \\n \\n \\n \\n \\n \\n \\n \\n \\n \\n \\n \\n \\n \\n \\n\\n\\n\\n\\n\\n\\n\\n\\n\\n\\n\\n \\n \\n \\n \\n \\n \\n \\n \\n \\n \\n \\n \\n \\n \\n \\n \\n \\n \\n\\n\\n\\n\\n \\n \\n \\n \\n \\n\\n \\n \\n\\n\\n\\n\\n\\n\\n\\n\\n\\n\\n\\n\\n\\n\\n      \\n      \\n      \\n      \\n      \\n      \\n      \\n      \\n      \\n      \\n      \\n      \\n      \\n      \\n      \\n      \\n      \\n    \\n\\n\\n\\n\\n\\n\\n\\n\\n\\n\\n\\n\\n\\n\\n\\n      \\n    \\n  \\n      \\n      \\n\\n      \\n        \\n      \\n\\n\\n      \\n        \\n        \\n\\n \\n \\n \\n \\n \\n \\n \\n \\n\\n\\n \\n \\n \\n\\n \\n \\n\\n\\n \\n\\n\\n\\n      \\n    \\n\\n\\n\\n\\n\\n\\n\\n\\n\\n\\n\\n\\n\\n\\n\\n\\n\\n\\n\\n\\n\\n\\n\\n\\n\\n\\n    \\n    \\n\\n    <header id=\"layout-header\" class=\"layout-header-or-footer\" role=\"banner\">\\n\\n      \\n      \\n\\n      \\n      \\n          \\n      \\n      \\n      \\n      \\n      \\n      \\n      \\n      \\n      \\n      \\n      \\n      \\n      \\n      \\n      \\n      \\n      \\n    \\n\\n\\n    \\n  \\n      \\n\\n      \\n      \\n\\n\\n<div id=\"header-banner\">\\n  <div class=\"wrapper\">\\n    <a class=\"banner-logo-container guest\" href=\"http://www.linkedin.com/\">\\n      <h2 id=\"li-logo\" class=\"logo\">\\n        LinkedIn Home\\n      </h2>\\n    </a>\\n    <nav role=\"navigation\" class=\"nav guest-nav\" aria-label=\"Main site navigation\">\\n      <ul role=\"menubar\">\\n        <li role=\"menuitem\" class=\"nav-item\">\\n          <a class=\"nav-link\" href=\"http://www.linkedin.com/static?key=what_is_linkedin&amp;trk=hb_what\">\\n            What is LinkedIn?\\n          </a>\\n        </li>\\n        <li role=\"menuitem\" class=\"nav-item\">\\n          <a rel=\"nofollow\" class=\"nav-link\" href=\"/start/join?trk=hb_join\">\\n            Join Today\\n          </a>\\n        </li>\\n        <li role=\"menuitem\" class=\"nav-item\">\\n          <a rel=\"nofollow\" class=\"nav-link\" href=\"https://www.linkedin.com/uas/login?goback=&amp;trk=hb_signin\">\\n            Sign In\\n          </a>\\n        </li>\\n      </ul>\\n    </nav>\\n  </div>\\n</div>\\n\\n \\n\\n        \\n\\n      <div class=\"a11y-content\">\\n        <a id=\"a11y-content-link\" tabindex=\"0\" name=\"a11y-content\">Main content starts below.</a>\\n      </div>\\n    \\n  \\n\\n\\n\\n\\n     \\n      \\n    \\n    \\n      \\n      \\n        \\n      \\n    \\n    \\n\\n      \\n        \\n          \\n            \\n            \\n              \\n                \\n                  <script data-page-js-type=\"lix\">\\n                    (function(n, r, a) {\\n                      r = window[n] = window[n] || {};\\n                      \\n                        \\n                            r[\\'jsecure_injectAlert\\'] = \\'enabled\\';\\n                          \\n                      \\n                        \\n                            r[\\'jsecure_Dialog\\'] = \\'control\\';\\n                          \\n                      \\n                    }(\\'__li__lix_registry__\\'));\\n                  </script>\\n                \\n                \\n                \\n              \\n            \\n            \\n          \\n            \\n            \\n            \\n          \\n            \\n            \\n            \\n          \\n        \\n      \\n    \\n\\n      \\n      \\n    \\n    \\n    \\n      \\n        \\n      \\n    \\n    \\n\\n\\n</header>\\n\\n\\n \\n \\n \\n \\n \\n \\n\\n \\n\\n\\n \\n \\n \\n \\n \\n \\n \\n \\n \\n \\n \\n \\n \\n \\n \\n \\n \\n \\n\\n\\n \\n \\n \\n \\n \\n\\n \\n \\n\\n\\n\\n \\n \\n      \\n      \\n      \\n      \\n      \\n      \\n      \\n      \\n      \\n      \\n      \\n      \\n      \\n      \\n      \\n      \\n      \\n    \\n\\n\\n      \\n    \\n  \\n      \\n      \\n\\n      \\n        \\n      \\n\\n\\n\\n \\n\\n\\n\\n \\n \\n \\n \\n \\n \\n \\n \\n \\n \\n \\n \\n \\n \\n \\n \\n \\n \\n\\n\\n\\n \\n \\n \\n \\n \\n\\n \\n \\n\\n\\n\\n\\n\\n\\n \\n \\n\\n\\n\\n\\n\\n\\n            \\n\\n\\n\\n\\n  \\n<main id=\"layout-main\" role=\"main\">\\n\\n\\n\\n\\n        \\n        \\n      \\n      \\n        <script src=\"https://static.licdn.com/sc/h/eekxmw2mg4t0hh3rax0naa6bb\"></script><code id=\"currentPageUrl\" style=\"display: none;\"><!--\"https://www.linkedin.com/in/harshparikh1001\"--></code><code id=\"startRegApiCreateAccountCorsUrl\" style=\"display: none;\"><!--\"https://www.linkedin.com/start/reg/api/cors/createAccount\"--></code><code id=\"isCookiedMember\" style=\"display: none;\"><!--false--></code><div id=\"wrapper\"><div id=\"profile\"><section id=\"topcard\" class=\"profile-section\"><div class=\"profile-card vcard\"><div class=\"profile-picture\" data-section=\"picture\"><a href=\"https://www.linkedin.com/start/view-full-profile?_ed=0_gawwgJD_FQrXYCTQaM9WKtl6n3aR8C_vn1pMtfmjP71NkVYykzSOgXyD7SRX4caN&amp;trk=pprof-0-ts-view_full-0\"><img lazyload=\"true\" class=\"image photo lazy-loaded\" alt=\"Harsh Parikh\" width=\"200\" height=\"200\" src=\"https://media.licdn.com/mpr/mpr/shrinknp_200_200/AAEAAQAAAAAAAAmGAAAAJDNhZmE5ODljLTZjMDItNGUyNC1iYjYyLWMxYTJiNzE1NmYzNA.jpg\"></a></div><div class=\"profile-overview\"><div class=\"profile-overview-content\"><h1 id=\"name\" class=\"fn\">Harsh Parikh</h1><p class=\"headline title\" data-section=\"headline\">Actively Seeking Full-time in Data Science/Software Development.</p><dl id=\"demographics\"><dt>Location</dt><dd class=\"descriptor adr\"><span class=\"locality\">Chicago, Illinois</span></dd><dt>Industry</dt><dd class=\"descriptor\">Computer Software</dd></dl><table class=\"extra-info\"><tbody><tr data-section=\"currentPositionsDetails\"><th>Current</th><td><ol><li><span class=\"org\">TAPI Lab</span>, </li><li><span><a href=\"https://www.linkedin.com/company/siemens-healthineers?trk=ppro_cprof\">Siemens Healthineers</a></span>, </li><li><span><a href=\"https://www.linkedin.com/company/illinois-institute-of-technology?trk=ppro_cprof\">Illinois Institute of Technology</a></span></li></ol></td></tr><tr data-section=\"educationsDetails\"><th>Education</th><td><ol><li><a href=\"https://www.linkedin.com/edu/illinois-institute-of-technology-18264?trk=ppro_sprof\">Illinois Institute of Technology</a></li></ol></td></tr><tr class=\"websites\" data-section=\"websites\"><th>Websites</th><td><ol><li><a href=\"https://www.linkedin.com/redir/redirect?url=https%3A%2F%2Fabout%2Eme%2Fparikhharsh&amp;urlhash=nMGI&amp;trk=ppro_website\">Portfolio</a></li><li><a href=\"https://www.linkedin.com/redir/redirect?url=https%3A%2F%2Fgithub%2Ecom%2Fhparik11&amp;urlhash=OJIB&amp;trk=ppro_website\">Github</a></li></ol></td></tr></tbody></table><div class=\"member-connections\"><strong>500+</strong> connections</div></div></div></div><div class=\"reg-upsell  advocate-cta-enabled lazy-load\"><h2>View Harsh\\u2019s full profile. It\\'s&nbsp;free!</h2><h3>Your colleagues, classmates, and 400 million other professionals are on LinkedIn.</h3><a href=\"https://www.linkedin.com/start/view-full-profile?_ed=0_gawwgJD_FQrXYCTQaM9WKtl6n3aR8C_vn1pMtfmjP71NkVYykzSOgXyD7SRX4caN&amp;trk=public_profile_advocate-cta-view-full\" class=\"signup-button\">View Harsh\\u2019s Full Profile</a></div></section><section id=\"summary\" data-section=\"summary\" class=\"profile-section\"><h3 class=\"title\">Summary</h3><div class=\"description\"><p>Currently pursuing Masters of Science degree in Computer Science from Illinois Institute of Technology, Chicago. My interests include Cloud Computing, Software Development and Data Analytic.<br></p></div></section><section id=\"education\" data-section=\"educationsDetails\" class=\"profile-section\"><h3 class=\"title\">Education</h3><ul class=\"schools\"><li class=\"school\"><header><h5 class=\"logo\"><a href=\"https://www.linkedin.com/edu/illinois-institute-of-technology-18264?trk=ppro_sprof\"><img lazyload=\"true\" class=\"lazy-load\" alt=\"Illinois Institute of Technology\" data-delayed-url=\"https://media.licdn.com/mpr/mpr/shrink_100_100/p/5/005/02c/272/095eefa.png\" width=\"60\" height=\"60\"></a></h5><h4 class=\"item-title\"><a href=\"https://www.linkedin.com/edu/illinois-institute-of-technology-18264?trk=ppro_sprof\">Illinois Institute of Technology</a></h4><h5 class=\"item-subtitle\"><span class=\"translated translation\" data-field-name=\"Education.DegreeName\">Master of Science (M.S.), Computer Science, 3.54/4.00</span><span class=\"original translation\" data-field-name=\"Education.DegreeName\">Master of Science (M.S.), Computer Science, 3.54/4.00</span></h5></header><div class=\"meta\"><span class=\"date-range\"><time>2015</time>  \\u2013  <time>2016</time></span></div><div class=\"description\" data-section=\"educations\"><p>Activities and Societies: IEEE, Hawk Talk, ISA.</p></div></li><li class=\"school\"><header><h4 class=\"item-title\">Dharamsinh Desai University</h4><h5 class=\"item-subtitle\"><span class=\"translated translation\" data-field-name=\"Education.DegreeName\">Bachelor of Technology (B.Tech.), Electrical, Electronics and Communications Engineering, 3.48/4.00</span><span class=\"original translation\" data-field-name=\"Education.DegreeName\">Bachelor of Technology (B.Tech.), Electrical, Electronics and Communications Engineering, 3.48/4.00</span></h5></header><div class=\"meta\"><span class=\"date-range\"><time>2010</time>  \\u2013  <time>2014</time></span></div><div class=\"description\" data-section=\"educations\"><p>&gt;Volunteer for Resonance\\u201911 organized by IEEE Student Branch, DDU.<br>&gt;First Runners Up In \\u201cCinco Platforma\\u201d, an Event Related To Electronics/ Instrumentation Control, During Felicific 2013.<br>&gt;Acted as a Committee member of Felicific\\u201913.</p><p>Activities and Societies: CSI, IEEE</p></div></li></ul></section><section id=\"experience\" class=\"profile-section\"><h3 class=\"title\">Experience</h3><ul class=\"positions\"><li class=\"position\" data-section=\"currentPositionsDetails\"><header><h4 class=\"item-title\"><a href=\"https://www.linkedin.com/title/graduate-research-assistant?trk=pprofile_title\">Graduate Research Assistant</a></h4><h5 class=\"item-subtitle\">TAPI Lab</h5></header><div class=\"meta\"><span class=\"date-range\"><time>June 2016</time>  \\u2013  Present (4 months)</span><span class=\"location\">Greater Chicago Area</span></div><p class=\"description\" data-section=\"currentPositions\">Design an algorithm to identify gender of a person using facial features using Deep Learning and OpenCV under the guidance of Dr. Aron Culotta.</p></li><li class=\"position\" data-section=\"currentPositionsDetails\"><header><h5 class=\"logo\"><a href=\"https://www.linkedin.com/company/siemens-healthineers?trk=ppro_cprof\"><img data-delayed-url=\"https://media.licdn.com/media/AAEAAQAAAAAAAAe5AAAAJDgwY2VlMTBhLTQ1ZDQtNDk4MS1iNWMyLTZiZjM1YzM1YzYzNw.png\" class=\"lazy-load\" alt=\"Siemens Healthineers\"></a></h5><h4 class=\"item-title\"><a href=\"https://www.linkedin.com/title/software-engineer-intern?trk=pprofile_title\">Software Engineer Intern</a></h4><h5 class=\"item-subtitle\"><a href=\"https://www.linkedin.com/company/siemens-healthineers?trk=ppro_cprof\">Siemens Healthineers</a></h5></header><div class=\"meta\"><span class=\"date-range\"><time>June 2016</time>  \\u2013  Present (4 months)</span></div></li><li class=\"position\" data-section=\"currentPositionsDetails\"><header><h5 class=\"logo\"><a href=\"https://www.linkedin.com/company/illinois-institute-of-technology?trk=ppro_cprof\"><img data-delayed-url=\"https://media.licdn.com/media/p/6/000/1c2/15b/122caf5.png\" class=\"lazy-load\" alt=\"Illinois Institute of Technology\"></a></h5><h4 class=\"item-title\"><a href=\"https://www.linkedin.com/title/student?trk=pprofile_title\">Student</a></h4><h5 class=\"item-subtitle\"><a href=\"https://www.linkedin.com/company/illinois-institute-of-technology?trk=ppro_cprof\">Illinois Institute of Technology</a></h5></header><div class=\"meta\"><span class=\"date-range\"><time>January 2015</time>  \\u2013  Present (1 year 9 months)</span><span class=\"location\">Greater Chicago Area</span></div><p class=\"description\" data-section=\"currentPositions\">Career Service Ambassador</p></li></ul></section><section id=\"projects\" data-section=\"projects\" class=\"profile-section\"><h3 class=\"title\">Projects</h3><ul><li class=\"project\"><header><h4 class=\"item-title\"><a href=\"https://www.linkedin.com/redir/redirect?url=https%3A%2F%2Fgithub%2Ecom%2Fhparik11%2FHandwritten_Digits_Recognition_Classification&amp;urlhash=hw5R&amp;trk=prof-project-name-title\" title=\"Handwritten Digits and Letters: Recognition and Classification\" class=\"external-link\">Handwritten Digits and Letters: Recognition and Classification</a></h4></header><div class=\"meta\"><span class=\"date-range\">Starting <time>April 2016</time></span></div><p class=\"description\">\\uf0b7 Used OpenCV for Image Recognition and extracted data from an Image.<br>\\uf0b7 Implemented Neural Networks, SVM and Random Forest algorithms from scratch for classification for MNIST dataset.hparik11/Handwritten_Digits_Recognition_Classification</p><dl class=\"contributors\"><dt>Team members: </dt><dd><ul><li class=\"contributor\"><a href=\"https://www.linkedin.com/in/harshparikh1001\">Harsh Parikh</a></li></ul></dd></dl></li><li class=\"project\"><header><h4 class=\"item-title\"><a href=\"https://www.linkedin.com/redir/redirect?url=https%3A%2F%2Fgithub%2Ecom%2Fhparik11%2FCloudKon-clone-with-Amazon-EC2-S3-SQS-and-DynamoDB%2Ftree%2Fmaster&amp;urlhash=Gazv&amp;trk=prof-project-name-title\" title=\"CloudKon clone with Amazon EC2, S3, SQS, and DynamoDB\" class=\"external-link\">CloudKon clone with Amazon EC2, S3, SQS, and DynamoDB</a></h4></header><div class=\"meta\"><span class=\"date-range\">Starting <time>April 2016</time></span></div><p class=\"description\">Objective of the project is to use Amazon SQS to pass the messages and established an producer-consumer architecture to complete the tasks. <br><br>Also, SQS was used as resource provisioning to provide dynamic resources and start EC2 instances as per demand. Duplicate tasks were also handled using DynamoDB. <br><br>At the end, S3 came into picture when we need to make video out of sequence of Images and upload it onto S3. <br></p><dl class=\"contributors\"><dt>Team members: </dt><dd><ul><li class=\"contributor\"><a href=\"https://www.linkedin.com/in/harshparikh1001\">Harsh Parikh</a></li></ul></dd></dl></li><li class=\"project\"><header><h4 class=\"item-title\"><a href=\"https://www.linkedin.com/redir/redirect?url=https%3A%2F%2Fgithub%2Ecom%2Fhparik11%2FTeraSort_on_Hadoop-Spark&amp;urlhash=aWVb&amp;trk=prof-project-name-title\" title=\"TeraSort using Hadoop MapReduce and Spark Framework\" class=\"external-link\">TeraSort using Hadoop MapReduce and Spark Framework</a></h4></header><div class=\"meta\"><span class=\"date-range\">Starting <time>March 2016</time></span></div><p class=\"description\">Implemented External Memory Sort algorthm, order partitioning for sorting the whole 1 TB dataset. Solution was implemented using Hadoop MapReduce and Spark framework on 16 nodes of AWS EC2. <br><br>Automatic configuration and deployment of Hadoop framework through automation Script and starting the 16 node cluster under 8 minutes. <br><br>Hadoop 1 TB sort completed in 70 minutes and Spark completed in 47 minutes. </p><dl class=\"contributors\"><dt>Team members: </dt><dd><ul><li class=\"contributor\"><a href=\"https://www.linkedin.com/in/harshparikh1001\">Harsh Parikh</a></li></ul></dd></dl></li><li class=\"project\"><header><h4 class=\"item-title\"><a href=\"https://www.linkedin.com/redir/redirect?url=https%3A%2F%2Fgithub%2Ecom%2Fhparik11%2FAmazon_Product_Review_Analysis&amp;urlhash=F8r4&amp;trk=prof-project-name-title\" title=\"Amazon Product Review Analysis\" class=\"external-link\">Amazon Product Review Analysis</a></h4></header><div class=\"meta\"><span class=\"date-range\"><time>August 2015</time>  \\u2013  <time>December 2015</time></span></div><p class=\"description\">Analyse Amazon product review using Amazon\\'s Product Advertising API and provide custom ranking based on sentiment analysis. </p><dl class=\"contributors\"><dt>Team members: </dt><dd><ul><li class=\"contributor\"><a href=\"https://www.linkedin.com/in/harshparikh1001\">Harsh Parikh</a>, </li><li class=\"contributor\"><a href=\"https://www.linkedin.com/in/shouviksdutta\">Shouvik Dutta</a></li></ul></dd></dl></li><li class=\"project\"><header><h4 class=\"item-title\"><a href=\"https://www.linkedin.com/redir/redirect?url=https%3A%2F%2Fgithub%2Ecom%2Fhparik11%2FCloud_Benchmarking&amp;urlhash=D1T_&amp;trk=prof-project-name-title\" title=\"Amazon Cloud Benchmarking\" class=\"external-link\">Amazon Cloud Benchmarking</a></h4></header><div class=\"meta\"><span class=\"date-range\"><time>January 2016</time>  \\u2013  <time>March 2016</time></span></div><p class=\"description\">\\uf0b7 Evaluated CPU, Disk and Network Performance on Amazon EC2 Cloud and compare the efficiency with benchmarking tools.<br>\\uf0b7 Analyzed Disk and Network\\u2019s speed on Cloud and plotted various outcomes.</p><dl class=\"contributors\"><dt>Team members: </dt><dd><ul><li class=\"contributor\"><a href=\"https://www.linkedin.com/in/harshparikh1001\">Harsh Parikh</a></li></ul></dd></dl></li><li class=\"project\"><header><h4 class=\"item-title\"><a href=\"https://www.linkedin.com/redir/redirect?url=https%3A%2F%2Fgithub%2Ecom%2Fhparik11%2FE-Commerce-Web-Application&amp;urlhash=ii-n&amp;trk=prof-project-name-title\" title=\"Hawks Trade\" class=\"external-link\">Hawks Trade</a></h4></header><div class=\"meta\"><span class=\"date-range\"><time>April 2015</time>  \\u2013  <time>May 2015</time></span></div><p class=\"description\">Basic capabilities:<br><br>Membership: membership registration, e-commerce (account information and update), participation in interest groups.<br><br>Interest groups: see reviews, rate reviews and post reviews. Filtering based on restaurant name or PC brand. Post new topics (restaurant or PC). E-commerce on PCs.<br><br>Credit points and rankings: obtaining credit points and rankings, assigning credit points to contributions routine and specific, deny membership, assign ranking.</p><dl class=\"contributors\"><dt>Team members: </dt><dd><ul><li class=\"contributor\"><a href=\"https://www.linkedin.com/in/harshparikh1001\">Harsh Parikh</a></li></ul></dd></dl></li><li class=\"project\"><header><h4 class=\"item-title\">Twitter Political Candidates Network</h4></header><div class=\"meta\"><span class=\"date-range\">Starting <time>August 2015</time></span></div><p class=\"description\">\\u2022\\tAnalyzed a set of Democrat and Republican candidates having direct connections (friends) and 2nd degree common friends. <br>\\u2022\\tPlotted a network graph based on the analyzed data using networkx library.<br>\\u2022\\tDeveloped using Python and making use of TwitterAPI library and IPython Notebook as IDE.<br></p><dl class=\"contributors\"><dt>Team members: </dt><dd><ul><li class=\"contributor\"><a href=\"https://www.linkedin.com/in/harshparikh1001\">Harsh Parikh</a></li></ul></dd></dl></li><li class=\"project\"><header><h4 class=\"item-title\">Facebook Community Detection and Link Prediction</h4></header><div class=\"meta\"><span class=\"date-range\">Starting <time>September 2015</time></span></div><p class=\"description\">\\u2022\\tAnalyzed relationships between Facebook users and made a network graph based on Facebook \\u201cLikes\\u201d data.<br>\\u2022\\tUsed \\u201cGirvan Newman\\u201d algorithm to find betweenness for community detection. <br>\\u2022\\tMeasured the proximity between two clusters and found \\u201cJaccard Index\\u201d for link prediction.<br></p><dl class=\"contributors\"><dt>Team members: </dt><dd><ul><li class=\"contributor\"><a href=\"https://www.linkedin.com/in/harshparikh1001\">Harsh Parikh</a></li></ul></dd></dl></li><li class=\"project\"><header><h4 class=\"item-title\">GSM based Vehicle Location Finder for Parking.</h4></header><div class=\"meta\"><span class=\"date-range\"><time>January 2013</time>  \\u2013  <time>April 2013</time></span></div><p class=\"description\">- Designed a GPS system which finds the location of vehicle in Big parking and gives alert message if it detects some suspicious activity.  <br>- Extended its functionality by adding a GSM module to it for controlling it remotely. The GSM module was programmed using embedded C. </p><dl class=\"contributors\"><dt>Team members: </dt><dd><ul><li class=\"contributor\"><a href=\"https://www.linkedin.com/in/harshparikh1001\">Harsh Parikh</a>, </li><li class=\"contributor\"><a href=\"https://www.linkedin.com/in/chirag-parekh-b0240792\">Chirag Parekh</a></li></ul></dd></dl></li><li class=\"project\"><header><h4 class=\"item-title\"><a href=\"https://www.linkedin.com/redir/redirect?url=https%3A%2F%2Fgithub%2Ecom%2Fhparik11%2FParametric_Regression&amp;urlhash=ufUm&amp;trk=prof-project-name-title\" title=\"Parametric Regression\" class=\"external-link\">Parametric Regression</a></h4></header><div class=\"meta\"><span class=\"date-range\"><time>January 2016</time>  \\u2013  <time>March 2016</time></span></div><p class=\"description\">\\uf0b7 Implemented techniques for parametric linear and non-linear regression for both synthetic and real datasets.<br>\\uf0b7 Analyzed Training Error and Testing Error for both Normal and Gaussian Kernel Method and compared the performances.</p><dl class=\"contributors\"><dt>Team members: </dt><dd><ul><li class=\"contributor\"><a href=\"https://www.linkedin.com/in/harshparikh1001\">Harsh Parikh</a></li></ul></dd></dl></li></ul></section><section id=\"skills\" data-section=\"skills\" class=\"profile-section skills-section\"><h3 class=\"title\">Skills</h3><ul class=\"pills\"><input type=\"checkbox\" id=\"skills-expander-state-checkbox\" class=\"expander-state-checkbox\"><li class=\"skill\"><a href=\"https://www.linkedin.com/topic/python?trk=pprofile_topic\" title=\"Python\"><span class=\"wrap\">Python</span></a></li><li class=\"skill\"><a href=\"https://www.linkedin.com/topic/machine-learning?trk=pprofile_topic\" title=\"Machine Learning\"><span class=\"wrap\">Machine Learning</span></a></li><li class=\"skill\"><a href=\"https://www.linkedin.com/topic/amazon-web-services-%28aws%29?trk=pprofile_topic\" title=\"Amazon Web Services (AWS)\"><span class=\"wrap\">Amazon Web Services (AWS)</span></a></li><li class=\"skill\"><a href=\"https://www.linkedin.com/topic/big-data-analytics?trk=pprofile_topic\" title=\"Big Data Analytics\"><span class=\"wrap\">Big Data Analytics</span></a></li><li class=\"skill\"><a href=\"https://www.linkedin.com/topic/c?trk=pprofile_topic\" title=\"C\"><span class=\"wrap\">C</span></a></li><li class=\"skill\"><a href=\"https://www.linkedin.com/topic/java?trk=pprofile_topic\" title=\"Java\"><span class=\"wrap\">Java</span></a></li><li class=\"skill\"><a href=\"https://www.linkedin.com/topic/research?trk=pprofile_topic\" title=\"Research\"><span class=\"wrap\">Research</span></a></li><li class=\"skill\"><a href=\"https://www.linkedin.com/topic/amazon-ec2?trk=pprofile_topic\" title=\"Amazon EC2\"><span class=\"wrap\">Amazon EC2</span></a></li><li class=\"skill\"><a href=\"https://www.linkedin.com/topic/hadoop?trk=pprofile_topic\" title=\"Hadoop\"><span class=\"wrap\">Hadoop</span></a></li><li class=\"skill\"><a href=\"https://www.linkedin.com/topic/apache-spark?trk=pprofile_topic\" title=\"Apache Spark\"><span class=\"wrap\">Apache Spark</span></a></li><li class=\"skill\"><a href=\"https://www.linkedin.com/topic/amazon-sqs?trk=pprofile_topic\" title=\"Amazon SQS\"><span class=\"wrap\">Amazon SQS</span></a></li><li class=\"skill\"><a href=\"https://www.linkedin.com/topic/android-development?trk=pprofile_topic\" title=\"Android Development\"><span class=\"wrap\">Android Development</span></a></li><li class=\"skill\"><a href=\"https://www.linkedin.com/topic/sql?trk=pprofile_topic\" title=\"SQL\"><span class=\"wrap\">SQL</span></a></li><li class=\"skill\"><a href=\"https://www.linkedin.com/topic/ccna?trk=pprofile_topic\" title=\"CCNA\"><span class=\"wrap\">CCNA</span></a></li><li class=\"skill\"><a href=\"https://www.linkedin.com/topic/oracle-sql-developer?trk=pprofile_topic\" title=\"Oracle SQL Developer\"><span class=\"wrap\">Oracle SQL Developer</span></a></li><li class=\"skill see-more\"><label for=\"skills-expander-state-checkbox\" class=\"wrap\">See 9+</label></li><li class=\"skill extra\"><a href=\"https://www.linkedin.com/topic/c++?trk=pprofile_topic\" title=\"C++\"><span class=\"wrap\">C++</span></a></li><li class=\"skill extra\"><a href=\"https://www.linkedin.com/topic/pl%2Fsql?trk=pprofile_topic\" title=\"PL/SQL\"><span class=\"wrap\">PL/SQL</span></a></li><li class=\"skill extra\"><a href=\"https://www.linkedin.com/topic/matlab?trk=pprofile_topic\" title=\"Matlab\"><span class=\"wrap\">Matlab</span></a></li><li class=\"skill extra\"><a href=\"https://www.linkedin.com/topic/windows?trk=pprofile_topic\" title=\"Windows\"><span class=\"wrap\">Windows</span></a></li><li class=\"skill extra\"><a href=\"https://www.linkedin.com/topic/microsoft-office?trk=pprofile_topic\" title=\"Microsoft Office\"><span class=\"wrap\">Microsoft Office</span></a></li><li class=\"skill extra\"><a href=\"https://www.linkedin.com/topic/apache?trk=pprofile_topic\" title=\"Apache\"><span class=\"wrap\">Apache</span></a></li><li class=\"skill extra\"><a href=\"https://www.linkedin.com/topic/django?trk=pprofile_topic\" title=\"Django\"><span class=\"wrap\">Django</span></a></li><li class=\"skill extra\"><a href=\"https://www.linkedin.com/topic/javascript?trk=pprofile_topic\" title=\"JavaScript\"><span class=\"wrap\">JavaScript</span></a></li><li class=\"skill extra\"><a href=\"https://www.linkedin.com/topic/microsoft-word?trk=pprofile_topic\" title=\"Microsoft Word\"><span class=\"wrap\">Microsoft Word</span></a></li><li class=\"skill see-less extra\"><label for=\"skills-expander-state-checkbox\" class=\"wrap\">See less</label></li></ul><div class=\"translation-voter-wrap\"><div class=\"translation-voter\"><span>How\\'s this translation?</span><ul class=\"voter-form\"><li class=\"action option positive\"><span class=\"action positive\">Great</span></li><li class=\"separator\">\\u2022</li><li class=\"action option negative\"><span class=\"action negative\">Has errors</span></li></ul></div><div class=\"translation-voter-response\">Thanks for your help!</div></div></section><section id=\"courses\" data-section=\"courses\" class=\"profile-section\"><h3 class=\"title\">Courses</h3><ul><li><h4 class=\"item-title\">Illinois Institute of Technology</h4><div class=\"courses-list-container description\"><ul class=\"courses-list\"><li class=\"course\"><span class=\"translated translation\" data-field-name=\"Course.Name\">Data-Structures and Algorithm (CS401)</span><span class=\"original translation\" data-field-name=\"Course.Name\">Data-Structures and Algorithm (CS401)</span></li><li class=\"course\"><span class=\"translated translation\" data-field-name=\"Course.Name\">Database Organization (CS425)</span><span class=\"original translation\" data-field-name=\"Course.Name\">Database Organization (CS425)</span></li><li class=\"course\"><span class=\"translated translation\" data-field-name=\"Course.Name\">Wireless Networking (CS547)</span><span class=\"original translation\" data-field-name=\"Course.Name\">Wireless Networking (CS547)</span></li><li class=\"course\"><span class=\"translated translation\" data-field-name=\"Course.Name\">Introduction to Algorithm (CS430)</span><span class=\"original translation\" data-field-name=\"Course.Name\">Introduction to Algorithm (CS430)</span></li><li class=\"course\"><span class=\"translated translation\" data-field-name=\"Course.Name\">Design and Analysis of Algorithm (CS535)</span><span class=\"original translation\" data-field-name=\"Course.Name\">Design and Analysis of Algorithm (CS535)</span></li><li class=\"course\"><span class=\"translated translation\" data-field-name=\"Course.Name\">Online Social Network Analysis (CS579)</span><span class=\"original translation\" data-field-name=\"Course.Name\">Online Social Network Analysis (CS579)</span></li><li class=\"course\"><span class=\"translated translation\" data-field-name=\"Course.Name\">Operating System (CS450)</span><span class=\"original translation\" data-field-name=\"Course.Name\">Operating System (CS450)</span></li><li class=\"course\"><span class=\"translated translation\" data-field-name=\"Course.Name\">Machine Learning (CS584)</span><span class=\"original translation\" data-field-name=\"Course.Name\">Machine Learning (CS584)</span></li><li class=\"course\"><span class=\"translated translation\" data-field-name=\"Course.Name\">Cloud Computing (CS553)</span><span class=\"original translation\" data-field-name=\"Course.Name\">Cloud Computing (CS553)</span></li><li class=\"course\"><span class=\"translated translation\" data-field-name=\"Course.Name\">Mobile Application and Development (CS442)</span><span class=\"original translation\" data-field-name=\"Course.Name\">Mobile Application and Development (CS442)</span></li></ul></div></li><li><h4 class=\"item-title\">Dharamsinh Desai University</h4><div class=\"courses-list-container description\"><ul class=\"courses-list\"><li class=\"course\"><span class=\"translated translation\" data-field-name=\"Course.Name\">Computer Networks</span><span class=\"original translation\" data-field-name=\"Course.Name\">Computer Networks</span></li><li class=\"course\"><span class=\"translated translation\" data-field-name=\"Course.Name\">Network Analysis</span><span class=\"original translation\" data-field-name=\"Course.Name\">Network Analysis</span></li><li class=\"course\"><span class=\"translated translation\" data-field-name=\"Course.Name\">Object Oriented Programming</span><span class=\"original translation\" data-field-name=\"Course.Name\">Object Oriented Programming</span></li><li class=\"course\"><span class=\"translated translation\" data-field-name=\"Course.Name\">Image Processing</span><span class=\"original translation\" data-field-name=\"Course.Name\">Image Processing</span></li><li class=\"course\"><span class=\"translated translation\" data-field-name=\"Course.Name\">Programming in C</span><span class=\"original translation\" data-field-name=\"Course.Name\">Programming in C</span></li><li class=\"course\"><span class=\"translated translation\" data-field-name=\"Course.Name\">MicroController and Processor</span><span class=\"original translation\" data-field-name=\"Course.Name\">MicroController and Processor</span></li></ul></div></li></ul></section><section id=\"scores\" data-section=\"scores\" class=\"profile-section\"><h3 class=\"title\">Test Scores</h3><ul><li class=\"score\"><header><h4 class=\"item-title\">Graduate Record Examination</h4><h5 class=\"item-subtitle\">Score: 313</h5></header><div class=\"meta no-image\"><span class=\"date-range\"><time>July 2014</time></span></div><p class=\"description\">Quant: 163/170<br>verbal: 150/170</p></li></ul></section><section id=\"certifications\" data-section=\"certifications\" class=\"profile-section\"><h3 class=\"title\">Certifications</h3><ul class=\"certifications\"><li class=\"certification\"><header><h5 class=\"logo\"><a href=\"https://www.linkedin.com/company/cisco?trk=ppro_cprof\"><img data-delayed-url=\"https://media.licdn.com/media/AAEAAQAAAAAAAAl_AAAAJDZjNGQ5YzMyLWJiMTYtNDNjNS1hNDI4LWFkZjAxOTdmZmI3MQ.png\" class=\"lazy-load\" alt=\"\"></a></h5><h4 class=\"item-title\"><a href=\"https://drive.google.com/file/d/0B7RYDtJ4urGId3RaallPX0dhbk0/view?usp=sharing&amp;trk=profile_certification_title\" class=\"external-link\">Cisco Certified Network Associate</a></h4><h5 class=\"item-subtitle\"><a href=\"https://www.linkedin.com/company/cisco?trk=ppro_cprof\">Cisco, </a>License 419194168911FOBH</h5><div class=\"meta\"><span class=\"date-range\"><time>October 2014</time>  \\u2013  <time>October 2017</time></span></div></header></li></ul></section><section id=\"awards\" data-section=\"awards\" class=\"profile-section\"><h3 class=\"title\">Honors &amp; Awards</h3><ul><li class=\"award\"><header><h4 class=\"item-title\">First Runner Up in \"Cinco Platforma\"</h4><h5 class=\"item-subtitle\">Felicific Tech Fest</h5></header><div class=\"meta\"><span class=\"date-range\"><time>March 2013</time></span></div><p class=\"description\">\"Cinco Platforma\", the Tech-event based on Electronics/ Instrumentation Controlling held in Dharmsinh Desai University. Students from all over India had participated in this event. There were five tasks assigned to each team i.e Quiz Round, Code Breaker, Circuit Solving and other. Our team stood up 2nd among them. </p></li><li class=\"award\"><header><h4 class=\"item-title\">Certificate of Excellence</h4><h5 class=\"item-subtitle\">Mayor and Municipal Commissioner of Surat</h5></header><div class=\"meta\"><span class=\"date-range\"><time>May 2008</time></span></div><p class=\"description\">For Securing 8th Rank with 94.46% in District in Gujarat Secondary Education Board (GSEB) examination. </p></li><li class=\"award\"><header><h4 class=\"item-title\">Scholarship from State Government</h4><h5 class=\"item-subtitle\">Gujarat Secondary and Higher Secondary Education Board</h5></header><div class=\"meta\"><span class=\"date-range\"><time>May 2010</time></span></div><p class=\"description\">Got scholarship from State Government for securing good grades in Higher Secondary Examination.  </p></li></ul></section><section id=\"volunteering\" data-section=\"volunteering\" class=\"profile-section\"><h3 class=\"title\">Volunteer Experience &amp; Causes</h3><ul><li class=\"position\"><header><h4 class=\"item-title\">Network Support Engineer</h4><h5 class=\"item-subtitle\">Nokia Solutions &amp; Networks</h5></header><div class=\"meta no-image\"><span class=\"date-range\"><time>December 2013</time>  \\u2013  <time>April 2014</time> (5 months)</span><span class=\"cause\">Education</span></div></li></ul><div class=\"opportunities extra-section\"><h4 class=\"title\">Opportunities Harsh is looking for:</h4><ul><li>Joining a nonprofit board</li><li>Skills-based volunteering (pro bono consulting)</li></ul></div><div class=\"extra-section\"><h4 class=\"title\">Causes Harsh cares about:</h4><ul><li>Education</li><li>Environment</li><li>Science and Technology</li><li>Social Services</li></ul></div><div class=\"extra-section\"><h4 class=\"title\">Organizations Harsh supports:</h4><ul><li>IEEE</li><li>Coursera</li><li>Simplilearn</li><li>Code Academy</li></ul></div></section><section id=\"languages\" data-section=\"languages\" class=\"profile-section\"><h3 class=\"title\">Languages</h3><ul><li class=\"language\"><div class=\"wrap\"><h4 class=\"name\">English</h4><p class=\"proficiency\">Professional working proficiency</p></div></li><li class=\"language\"><div class=\"wrap\"><h4 class=\"name\">Hindi</h4><p class=\"proficiency\">Native or bilingual proficiency</p></div></li><li class=\"language\"><div class=\"wrap\"><h4 class=\"name\">Gujarati</h4><p class=\"proficiency\">Native or bilingual proficiency</p></div></li></ul></section><section id=\"organizations\" data-section=\"organizations\" class=\"profile-section\"><h3 class=\"title\">Organizations</h3><ul><li><header><h4 class=\"item-title\">IEEE@IIT Chapter</h4><h5 class=\"item-subtitle\">Secretary Internal</h5></header><div class=\"meta no-image\"><span class=\"date-range\">Starting <time>August 2015</time></span></div></li></ul></section><section id=\"groups\" data-section=\"groups\" class=\"profile-section\"><h3 class=\"title\">Groups</h3><ul><input type=\"checkbox\" id=\"groups-expander-state-checkbox\" class=\"expander-state-checkbox\"><li class=\"group\"><h5 class=\"logo\"><a href=\"https://www.linkedin.com/groups?gid=8297310&amp;trk=fulpro_grplogo\"><img data-delayed-url=\"https://media.licdn.com/media/AAEAAQAAAAAAAAJCAAAAJGZjZjhhMGNlLTNiMTItNGEwMy1hMjk3LWYxNTBhY2IyYzAxZQ.png\" alt=\"Data Scientist Jobs\" class=\"lazy-load\"></a></h5><h4 class=\"item-title\"><a href=\"https://www.linkedin.com/groups?gid=8297310&amp;trk=prof-groups-membership-name\">Data Scientist Jobs</a></h4></li><li class=\"group\"><h5 class=\"logo\"><a href=\"https://www.linkedin.com/groups?gid=8291615&amp;trk=fulpro_grplogo\"><img data-delayed-url=\"https://media.licdn.com/media/AAEAAQAAAAAAAALeAAAAJGNhYmNhYWVkLTM4MWYtNDI2YS1hNDVmLTM0N2MzMGE3ZjU1ZQ.png\" alt=\"H1B Visa Sponsorship 2017 - 2018\" class=\"lazy-load\"></a></h5><h4 class=\"item-title\"><a href=\"https://www.linkedin.com/groups?gid=8291615&amp;trk=prof-groups-membership-name\">H1B Visa Sponsorship 2017 - 2018</a></h4></li></ul><div class=\"reg-upsell \"><h2>View Harsh\\u2019s full profile to...</h2><ul><li>See who you know in common</li><li>Get introduced</li><li>Contact <strong>Harsh</strong> directly</li></ul><a href=\"https://www.linkedin.com/start/view-full-profile?_ed=0_gawwgJD_FQrXYCTQaM9WKtl6n3aR8C_vn1pMtfmjP71NkVYykzSOgXyD7SRX4caN&amp;trk=public_profile_advocate-cta-view-full\" class=\"signup-button\">View Harsh\\u2019s Full Profile</a><p class=\"view-more\">Not the Harsh you\\u2019re looking for? <a href=\"https://www.linkedin.com/pub/dir/Harsh/Parikh\">View more</a></p></div></section></div><div id=\"aux\"><section class=\"insights\"><div class=\"name-search\"><h3 class=\"title\">Find a different Harsh Parikh</h3><form action=\"https://www.linkedin.com/pub/dir/\" method=\"get\"><label for=\"firstName\">First Name</label><input type=\"text\" name=\"first\" id=\"firstName\" placeholder=\"First Name\"><label for=\"lastName\">Last Name</label><input type=\"text\" name=\"last\" id=\"lastName\" placeholder=\"Last Name\"><input type=\"hidden\" name=\"trk\" value=\"prof-samename-search-submit\"><button aria-label=\"Search\" type=\"submit\"><span></span></button><p class=\"tip\"><strong>Example: </strong> <a href=\"https://www.linkedin.com/pub/dir/Harsh/Parikh\">Harsh Parikh</a></p></form><ul><li class=\"profile-card\"><a href=\"https://www.linkedin.com/in/harshparikh?trk=prof-samename-picture\"><img lazyload=\"true\" class=\"lazy-loaded\" width=\"100\" height=\"100\" src=\"https://media.licdn.com/mpr/mpr/shrink_100_100/AAEAAQAAAAAAAAd1AAAAJDE2NGVlMTM4LTk2NjYtNDk0Ni1iZGYzLWMyYWU4Y2MwZGY1YQ.jpg\"></a><div class=\"info\"><h4><a href=\"https://www.linkedin.com/in/harshparikh?trk=prof-samename-name\">Harsh Parikh</a></h4><p class=\"headline\">Investment Vice President - PGIM Institutional Advisory &amp; Solutions</p><p class=\"location\">United States</p></div></li><li class=\"profile-card\"><a href=\"https://www.linkedin.com/in/parikhharsh?trk=prof-samename-picture\"><img lazyload=\"true\" class=\"lazy-loaded\" width=\"100\" height=\"100\" src=\"https://media.licdn.com/mpr/mpr/shrink_100_100/p/2/000/10d/291/1ad682e.jpg\"></a><div class=\"info\"><h4><a href=\"https://www.linkedin.com/in/parikhharsh?trk=prof-samename-name\">Harsh Parikh</a></h4><p class=\"headline\">Healthcare Attorney at Crowell &amp; Moring</p><p class=\"location\">United States</p></div></li><li class=\"profile-card\"><a href=\"https://www.linkedin.com/in/harsh-parikh-83976879?trk=prof-samename-picture\"><img lazyload=\"true\" class=\"lazy-load\" data-delayed-url=\"https://media.licdn.com/mpr/mpr/shrink_100_100/AAEAAQAAAAAAAAZeAAAAJDg2MzI5YmE1LTc1MjQtNGJkYS1hNjgwLWM4MTY5YzJmNGUxYw.jpg\" width=\"100\" height=\"100\"></a><div class=\"info\"><h4><a href=\"https://www.linkedin.com/in/harsh-parikh-83976879?trk=prof-samename-name\">harsh parikh</a></h4><p class=\"headline\">Global Supply Manager at Tesla Motors</p><p class=\"location\">United States</p></div></li><li class=\"profile-card\"><a href=\"https://www.linkedin.com/in/parikhharsh86?trk=prof-samename-picture\"><img lazyload=\"true\" class=\"lazy-load\" data-delayed-url=\"https://media.licdn.com/mpr/mpr/shrink_100_100/p/2/005/0b4/31a/0c949f0.jpg\" width=\"100\" height=\"100\"></a><div class=\"info\"><h4><a href=\"https://www.linkedin.com/in/parikhharsh86?trk=prof-samename-name\">Harsh Parikh, PMP\\xae</a></h4><p class=\"headline\">Junior Project Manager at GyanSys Inc.</p><p class=\"location\">United States</p></div></li><li class=\"profile-card\"><a href=\"https://www.linkedin.com/in/harshparikhhp?trk=prof-samename-picture\"><img lazyload=\"true\" class=\"lazy-load\" data-delayed-url=\"https://media.licdn.com/mpr/mpr/shrink_100_100/p/6/005/06d/156/000cb9f.jpg\" width=\"100\" height=\"100\"></a><div class=\"info\"><h4><a href=\"https://www.linkedin.com/in/harshparikhhp?trk=prof-samename-name\">Harsh Parikh</a></h4><p class=\"headline\">Technical Consultant at Larsen &amp; Toubro Infotech Ltd.</p><p class=\"location\">United States</p></div></li></ul><a class=\"same-name-search-more\" href=\"https://www.linkedin.com/pub/dir/Harsh/Parikh?trk=prof-samename-searchmore\">More professionals named Harsh Parikh</a></div><section class=\"badge profile-section\"><h3 class=\"title\">Public profile badge</h3><p class=\"description\">Include this LinkedIn profile on other websites</p><a class=\"cta\" href=\"https://www.linkedin.com/badges/profile/create?vanityname=harshparikh1001&amp;trk=profile-badge-public-profile\">View profile badges</a></section><div class=\"browse-map\"><h3 class=\"title\">People Also Viewed</h3><ul><li class=\"profile-card\"><a href=\"https://www.linkedin.com/in/singhlatika?trk=pub-pbmap\"><img lazyload=\"true\" class=\"lazy-load\" data-delayed-url=\"https://media.licdn.com/mpr/mpr/shrink_100_100/AAEAAQAAAAAAAAK4AAAAJDM2OTgzYmUzLTE0N2MtNDYzOC1hNGM1LTcxMTA1Mjk3MzRlYw.jpg\" width=\"100\" height=\"100\"></a><div class=\"info\"><h4 class=\"item-title\"><a href=\"https://www.linkedin.com/in/singhlatika?trk=pub-pbmap\">Latika Singh</a></h4><p class=\"headline\">Associate Technical Consultant at Perficient</p></div></li><li class=\"profile-card\"><a href=\"https://www.linkedin.com/in/vivek-basavarajappa-81a270b1?trk=pub-pbmap\"><img data-delayed-url=\"https://static.licdn.com/scds/common/u/images/themes/katy/ghosts/person/ghost_person_100x100_v1.png\" class=\"lazy-load\" width=\"100\" height=\"100\"></a><div class=\"info\"><h4 class=\"item-title\"><a href=\"https://www.linkedin.com/in/vivek-basavarajappa-81a270b1?trk=pub-pbmap\">Vivek Basavarajappa</a></h4><p class=\"headline\">Seeking Full Time Opportunity || Graduate Student at Illinois Institute of Technology</p></div></li><li class=\"profile-card\"><a href=\"https://www.linkedin.com/in/dktrivedi265?trk=pub-pbmap\"><img lazyload=\"true\" class=\"lazy-load\" data-delayed-url=\"https://media.licdn.com/mpr/mpr/shrink_100_100/AAEAAQAAAAAAAARlAAAAJGNmNDQxYjFhLWM1YTgtNGE1Ny1hNzRhLWQ1ZWM4Nzg3M2M3Ng.jpg\" width=\"100\" height=\"100\"></a><div class=\"info\"><h4 class=\"item-title\"><a href=\"https://www.linkedin.com/in/dktrivedi265?trk=pub-pbmap\">Dipen Trivedi</a></h4><p class=\"headline\">Software Engineer Intern at iManage</p></div></li><li class=\"profile-card\"><a href=\"https://www.linkedin.com/in/shouviksdutta?trk=pub-pbmap\"><img lazyload=\"true\" class=\"lazy-load\" data-delayed-url=\"https://media.licdn.com/mpr/mpr/shrink_100_100/AAEAAQAAAAAAAAa5AAAAJDE0OWJjZTllLTYzNDItNDgyMC04MDE1LTc4ZmFkZGMwOThhYQ.jpg\" width=\"100\" height=\"100\"></a><div class=\"info\"><h4 class=\"item-title\"><a href=\"https://www.linkedin.com/in/shouviksdutta?trk=pub-pbmap\">Shouvik Dutta</a></h4><p class=\"headline\">Versatile Software Developer Intern at Siemens shaping ideas into reality. | Open for full-time position from Dec 2016</p></div></li><li class=\"profile-card\"><a href=\"https://www.linkedin.com/in/sanketwagh?trk=pub-pbmap\"><img lazyload=\"true\" class=\"lazy-load\" data-delayed-url=\"https://media.licdn.com/mpr/mpr/shrink_100_100/AAEAAQAAAAAAAAdLAAAAJGQzMTJjZjRlLTI2ZTYtNDUwYS1hM2ZmLWM4MWVjN2UwZWM5ZQ.jpg\" width=\"100\" height=\"100\"></a><div class=\"info\"><h4 class=\"item-title\"><a href=\"https://www.linkedin.com/in/sanketwagh?trk=pub-pbmap\">Sanket Wagh</a></h4><p class=\"headline\">Computer Science Graduate. Seeking full time positions.</p></div></li><li class=\"profile-card\"><a href=\"https://www.linkedin.com/in/parthshah7?trk=pub-pbmap\"><img lazyload=\"true\" class=\"lazy-load\" data-delayed-url=\"https://media.licdn.com/mpr/mpr/shrink_100_100/AAEAAQAAAAAAAAkyAAAAJGRiOWZjZGU5LWZhMDMtNDA4My1iOTc4LWViZGY4MWNhNjAzMA.jpg\" width=\"100\" height=\"100\"></a><div class=\"info\"><h4 class=\"item-title\"><a href=\"https://www.linkedin.com/in/parthshah7?trk=pub-pbmap\">Parth Shah</a></h4><p class=\"headline\">Software Engineer Intern at Siemens Healthineers</p></div></li><li class=\"profile-card\"><a href=\"https://www.linkedin.com/in/kumar-shrestha-a3955b111?trk=pub-pbmap\"><img lazyload=\"true\" class=\"lazy-load\" data-delayed-url=\"https://media.licdn.com/mpr/mpr/shrink_100_100/AAEAAQAAAAAAAAeOAAAAJDdkMGE0NTNlLWQ2NTctNGJhNi04NDEzLTFkNGFmODk5YTYwMg.jpg\" width=\"100\" height=\"100\"></a><div class=\"info\"><h4 class=\"item-title\"><a href=\"https://www.linkedin.com/in/kumar-shrestha-a3955b111?trk=pub-pbmap\">Kumar Shrestha</a></h4><p class=\"headline\">Senior QA Analyst at Consilio LLC</p></div></li><li class=\"profile-card\"><a href=\"https://www.linkedin.com/in/dpatel0220?trk=pub-pbmap\"><img lazyload=\"true\" class=\"lazy-load\" data-delayed-url=\"https://media.licdn.com/mpr/mpr/shrink_100_100/AAEAAQAAAAAAAAjGAAAAJDkxN2UwY2YwLTRiMjItNDhjNi1iM2QzLTMwNzQ0NjI0NDRmYw.jpg\" width=\"100\" height=\"100\"></a><div class=\"info\"><h4 class=\"item-title\"><a href=\"https://www.linkedin.com/in/dpatel0220?trk=pub-pbmap\">Darpan Patel</a></h4><p class=\"headline\">Actively Seeking Full-Time in Data Analytics/Software Development/Data Science</p></div></li><li class=\"profile-card\"><a href=\"https://www.linkedin.com/in/ramyamadhihallysreenidhi?trk=pub-pbmap\"><img lazyload=\"true\" class=\"lazy-load\" data-delayed-url=\"https://media.licdn.com/mpr/mpr/shrink_100_100/AAEAAQAAAAAAAAl5AAAAJDgzNzJhMmVlLWYyZjUtNDE3OC05MDczLWU3MGI4YTYxZDVmYQ.jpg\" width=\"100\" height=\"100\"></a><div class=\"info\"><h4 class=\"item-title\"><a href=\"https://www.linkedin.com/in/ramyamadhihallysreenidhi?trk=pub-pbmap\">Ramya M Sreenidhi</a></h4><p class=\"headline\">Experienced Software Engineer( Java/JEE,Databases) | Computer Science Graduate</p></div></li><li class=\"profile-card\"><a href=\"https://www.linkedin.com/in/xulifeng?trk=pub-pbmap\"><img lazyload=\"true\" class=\"lazy-load\" data-delayed-url=\"https://media.licdn.com/mpr/mpr/shrink_100_100/AAEAAQAAAAAAAAaBAAAAJDIyZDVmMjAyLTA4ZjQtNGJmNy04MWYwLWNhY2EwMmI5YWM2Nw.jpg\" width=\"100\" height=\"100\"></a><div class=\"info\"><h4 class=\"item-title\"><a href=\"https://www.linkedin.com/in/xulifeng?trk=pub-pbmap\">Lifeng Xu</a></h4><p class=\"headline\">Software Test Engineering Intern at HERE</p></div></li></ul></div></section><section id=\"profinder-section\" class=\"profile-section\"><a href=\"https://www.linkedin.com/profinder/project/android-development?showRightRail=true&amp;trk=pprof-profinder-rfp\"><div class=\"bg-gradient\"><img class=\"lazy-load\" data-delayed-url=\"https://static.licdn.com/sc/h/3v754a54sc5v1knt1ngftvqcv\" alt=\"ProFinder logo\" width=\"89\" height=\"14\"></div><header class=\"profinder-header\"><img id=\"pro-placeholder\" class=\"lazy-load\" data-delayed-url=\"https://static.licdn.com/sc/h/dfxtzowln5qvwtbbp6nvt07qd\" alt=\"ProFinder providers\" width=\"66\" height=\"66\"><h3 class=\"headline\">Hire independent Android Developers like Harsh</h3></header><footer class=\"profinder-footer\"><h5 class=\"cta\">Post your project \\u2013 It\\'s free<span aria-hidden=\"true\" class=\"go-glyph\"></span></h5></footer></a><div class=\"profinder-directory-container\"><a href=\"https://www.linkedin.com/profinder/android-development?trk=pprof-profinder-dir\" class=\"directory-link\">See Android Developers available for hire</a></div></section><section id=\"ad\" class=\"profile-section\"><iframe width=\"300\" scrolling=\"no\" height=\"250\" frameborder=\"0\" allowtransparency=\"true\" border=\"0\" data-src=\"/csp/dtag?sz=300x250&amp;ti=2&amp;p=1&amp;z=full_profile&amp;_x=%3Bcompany%3D844269464%3Bcompany%3D628071114%3Bcompany%3D818184283%3Bpcntry%3Dus\" src=\"/csp/dtag?sz=300x250&amp;ti=2&amp;p=1&amp;z=full_profile&amp;_x=%3Bcompany%3D844269464%3Bcompany%3D628071114%3Bcompany%3D818184283%3Bpcntry%3Dus\"></iframe><script>window.addEventListener(\\'load\\', function () {var iframes = document.getElementsByTagName(\"iframe\");for (var i = 0; i < iframes.length; i++) {var iframe = iframes[i],src = iframe.getAttribute(\\'data-src\\');if (src) {iframe.src = src;}}});</script></section></div><div id=\"directory\" class=\"us\"><h3 class=\"title\">LinkedIn member directory:</h3><ol type=\"a\" class=\"primary\"><li><a href=\"https://www.linkedin.com/directory/people-a/\">a</a></li><li><a href=\"https://www.linkedin.com/directory/people-b/\">b</a></li><li><a href=\"https://www.linkedin.com/directory/people-c/\">c</a></li><li><a href=\"https://www.linkedin.com/directory/people-d/\">d</a></li><li><a href=\"https://www.linkedin.com/directory/people-e/\">e</a></li><li><a href=\"https://www.linkedin.com/directory/people-f/\">f</a></li><li><a href=\"https://www.linkedin.com/directory/people-g/\">g</a></li><li><a href=\"https://www.linkedin.com/directory/people-h/\">h</a></li><li><a href=\"https://www.linkedin.com/directory/people-i/\">i</a></li><li><a href=\"https://www.linkedin.com/directory/people-j/\">j</a></li><li><a href=\"https://www.linkedin.com/directory/people-k/\">k</a></li><li><a href=\"https://www.linkedin.com/directory/people-l/\">l</a></li><li><a href=\"https://www.linkedin.com/directory/people-m/\">m</a></li><li><a href=\"https://www.linkedin.com/directory/people-n/\">n</a></li><li><a href=\"https://www.linkedin.com/directory/people-o/\">o</a></li><li><a href=\"https://www.linkedin.com/directory/people-p/\">p</a></li><li><a href=\"https://www.linkedin.com/directory/people-q/\">q</a></li><li><a href=\"https://www.linkedin.com/directory/people-r/\">r</a></li><li><a href=\"https://www.linkedin.com/directory/people-s/\">s</a></li><li><a href=\"https://www.linkedin.com/directory/people-t/\">t</a></li><li><a href=\"https://www.linkedin.com/directory/people-u/\">u</a></li><li><a href=\"https://www.linkedin.com/directory/people-v/\">v</a></li><li><a href=\"https://www.linkedin.com/directory/people-w/\">w</a></li><li><a href=\"https://www.linkedin.com/directory/people-x/\">x</a></li><li><a href=\"https://www.linkedin.com/directory/people-y/\">y</a></li><li><a href=\"https://www.linkedin.com/directory/people-z/\">z</a></li><li><a href=\"https://www.linkedin.com/directory/people-1/\">more</a></li><li class=\"country-search\">Browse members <a href=\"https://www.linkedin.com/directory/country_listing/\">by country</a></li></ol></div><script type=\"text/javascript\">(function() {var DOMAIN_NAME = window.location.hostname.replace(/.*\\\\.([^\\\\.]+\\\\.[^\\\\.]+)/, \\'$1\\'),DOMAIN_NAME_PROD = \\'linkedin.com\\';function getRemoteFrameUrl() {return (\\'https:\\' === document.location.protocol ? \\'https://\\' : \\'http://\\') + \\'platform.\\' + DOMAIN_NAME + \\'/js/thirdPartyJSDelegatorFrame.html\\';}function loadExternalTracking () {var thirdPartyJs = new Espany({remote: getRemoteFrameUrl(),ready: function() {if(DOMAIN_NAME !== DOMAIN_NAME_PROD) {return;}thirdPartyJs.loadScript(\\'analyticsjs\\').result(function(msg) {thirdPartyJs.run(\\'ga\\', [\\'create\\', \\'UA-62256447-1\\', {\\'cookieDomain\\': DOMAIN_NAME_PROD}]);thirdPartyJs.run(\\'ga\\', [\\'set\\',\\'referrer\\', document.referrer]);thirdPartyJs.run(\\'ga\\', [\\'set\\',\\'location\\', window.location.href]);thirdPartyJs.run(\\'ga\\', [\\'send\\',\\'pageview\\', {page: \\'public_profile_v3_desktop\\'}]);});}});}window.addEventListener(\\'load\\', loadExternalTracking);})();</script></div>\\n      \\n    \\n        \\n            \\n\\n\\n\\n\\n  </main> \\n\\n\\n        \\n        \\n      \\n      \\n        \\n      \\n    \\n        \\n            \\n            \\n\\n\\n\\n\\n\\n\\n\\n\\n      \\n      \\n    \\n    \\n\\n  \\n\\n    \\n    \\n\\n\\n\\n\\n\\n\\n      \\n    \\n  \\n      \\n      \\n\\n      \\n        \\n      \\n\\n\\n\\n\\n\\n\\n\\n\\n\\n\\n\\n\\n\\n\\n\\n\\n\\n\\n\\n\\n\\n\\n\\n\\n\\n\\n\\n\\n\\n\\n\\n\\n\\n\\n\\n\\n\\n\\n\\n\\n\\n\\n\\n\\n\\n\\n\\n\\n\\n\\n\\n\\n\\n\\n\\n\\n\\n\\n\\n\\n\\n\\n\\n\\n\\n\\n\\n\\n\\n\\n\\n\\n\\n\\n\\n\\n\\n\\n\\n\\n\\n\\n\\n\\n\\n\\n\\n\\n\\n\\n\\n\\n\\n\\n\\n\\n\\n\\n\\n  \\n    \\n\\n    \\n\\n    \\n\\n    \\n    \\n\\n    \\n\\n    \\n\\n    \\n\\n    \\n\\n    \\n\\n    \\n  \\n\\n\\n  \\n\\n    \\n    \\n    \\n\\n\\n\\n\\n      \\n    \\n  \\n      \\n      \\n\\n      \\n        \\n      \\n\\n\\n\\n\\n  \\n  \\n\\n\\n\\n\\n    \\n  \\n\\n\\n\\n\\n\\n\\n    \\n    \\n    \\n      \\n    \\n\\n    \\n    \\n\\n\\n\\n\\n\\n\\n\\n    \\n    \\n        \\n            \\n          \\n      \\n  \\n\\n    \\n    \\n\\n    \\n    \\n\\n    \\n      \\n    \\n\\n    \\n    \\n    \\n\\n    \\n    \\n\\n    \\n\\n    \\n\\n\\n    \\n\\n    \\n\\n    \\n\\n    \\n\\n    \\n\\n    \\n\\n    \\n    \\n      \\n\\n\\n\\n\\n\\n\\n\\n    \\n  \\n\\n\\n\\n  \\n    \\n        \\n      \\n  \\n\\n\\n    \\n\\n    \\n\\n    \\n    \\n    \\n\\n\\n\\n\\n\\n\\n\\n\\n\\n\\n\\n\\n\\n \\n \\n \\n \\n \\n\\n\\n\\n\\n\\n\\n\\n\\n\\n\\n\\n\\n\\n\\n\\n\\n\\n\\n\\n\\n  \\n\\n\\n    \\n      \\n        \\n          \\n            \\n                \\n                  \\n                    <script type=\"text/javascript\" src=\"https://static.licdn.com/scds/concat/common/js?h=a06jpss2hf43xwxobn0gl598m-44hhbxag3hinac547ym9vby09-a4lcy9x33w9gvnro4s0fw3e8z-9zz2lhu3eq1epk7sq1t8cdb5s-cka8kpkro4boynr3tivfkppls-9o2gces8tdiaq46j2fgjkg6d4-bctwwqj7p01tcj2smshz2bboe-aaykw1861wb5yl2yeseicumeh-bftaa82sjwcbrohoe28skni7b-2r8hqscu9unerft0cqwr58gz1-acapv3trxf5gmj7o87qomcp3f-cfabcg4u1cj0em4yissh5mfxu\"></script>\\n                  \\n                  \\n                \\n              \\n          \\n        \\n      \\n    \\n    \\n\\n\\n      \\n      \\n    \\n    \\n\\n\\n\\n\\n\\n\\n\\n\\n  \\n      \\n      \\n      \\n      \\n      \\n      \\n      \\n      \\n      \\n      \\n      \\n      \\n      \\n      \\n      \\n      \\n      \\n    \\n\\n\\n\\n\\n\\n\\n\\n      \\n      \\n      \\n      \\n      \\n      \\n      \\n      \\n      \\n      \\n      \\n      \\n      \\n      \\n      \\n      \\n      \\n    \\n\\n\\n\\n\\n\\n\\n\\n\\n\\n\\n\\n\\n\\n\\n      \\n    \\n  \\n  \\n      \\n      \\n\\n      \\n        \\n      \\n\\n\\n\\n      \\n        \\n          \\n            \\n          \\n          \\n        \\n      \\n    \\n\\n\\n\\n\\n\\n\\n\\n\\n\\n\\n\\n\\n\\n\\n\\n\\n\\n  <footer id=\"layout-footer\" class=\"layout-header-or-footer\" role=\"contentinfo\">\\n    <div class=\"wrapper\">\\n      \\n\\n      \\n        \\n\\n      \\n      \\n      \\n      \\n      \\n      \\n      \\n      \\n      \\n      \\n      \\n      \\n      \\n      \\n      \\n      \\n      \\n    \\n\\n\\n\\n\\n\\n\\n\\n\\n\\n      \\n    \\n  \\n      \\n      \\n\\n      \\n        \\n      \\n\\n\\n\\n\\n\\n\\n\\n\\n\\n\\n  \\n      <p class=\"copyright guest\"><span>LinkedIn Corporation</span> <em>\\xa9 2016</em></p>\\n    \\n\\n  <ul class=\"nav-legal\" role=\"navigation\" aria-label=\"Footer Legal Menu\">\\n    <li role=\"menuitem\"><a href=\"http://www.linkedin.com/legal/user-agreement?trk=hb_ft_userag\">User Agreement</a></li>\\n    <li role=\"menuitem\"><a href=\"http://www.linkedin.com/legal/privacy-policy?trk=hb_ft_priv\">Privacy Policy</a></li>\\n    \\n    <li role=\"menuitem\"><a href=\"https://linkedin.com/help/linkedin/answer/34593?lang=en\">Community Guidelines</a></li>\\n    <li role=\"menuitem\"><a href=\"http://www.linkedin.com/legal/cookie-policy?trk=hb_ft_cookie\">Cookie Policy</a></li>\\n    <li role=\"menuitem\"><a href=\"http://www.linkedin.com/legal/copyright-policy?trk=hb_ft_copy\">Copyright Policy</a></li>\\n    \\n    \\n      <li role=\"menuitem\"><a href=\"/psettings/guest-email-unsubscribe?trk=hb_ft_gunsub\" rel=\"nofollow\">Unsubscribe</a></li>\\n    \\n\\n    \\n\\n      \\n      \\n      \\n      \\n      \\n      \\n      \\n      \\n      \\n      \\n      \\n      \\n      \\n      \\n      \\n      \\n      \\n    \\n\\n\\n\\n\\n\\n\\n  \\n \\n\\n  </ul>\\n\\n \\n \\n \\n \\n \\n \\n \\n\\n      \\n\\n    </div> \\n  </footer> \\n\\n\\n\\n  \\n  \\n\\n\\n\\n\\n\\n\\n\\n\\n\\n\\n      \\n        \\n          \\n            \\n            \\n            \\n          \\n            \\n            \\n            \\n          \\n            \\n            \\n              \\n                \\n                  <script data-page-js-type=\"config\">\\n                    (function(n, r, a) {\\n                      r = window[n] = window[n] || {};\\n                      \\n                        \\n                            \\n                                a = r[\\'WebTracking\\'] = r[\\'WebTracking\\'] || {};\\n                                a[\\'URLs\\'] = {\\'saveWebActionTrackURL\\':\\'\\\\/lite\\\\/secure-web-action-track?csrfToken=ajax%3A0973022440981700203\\'};\\n                              \\n                          \\n                      \\n                    }(\\'__li__config_registry__\\'));\\n                  </script>\\n                \\n                \\n                \\n              \\n            \\n            \\n          \\n        \\n      \\n    \\n\\n  \\n  \\n\\n  \\n      \\n      \\n    \\n    \\n\\n    \\n    \\n\\n    \\n    \\n\\n    \\n    \\n    \\n    \\n    \\n    \\n    \\n    \\n    \\n\\n    \\n    \\n\\n      \\n      \\n      \\n      \\n      \\n      \\n      \\n    \\n\\n\\n\\n\\n\\n\\n      \\n    \\n  \\n      \\n      \\n\\n      \\n        \\n      \\n\\n\\n\\n\\n\\n\\n      \\n        \\n        \\n\\n \\n \\n \\n \\n \\n \\n \\n \\n\\n\\n \\n \\n \\n\\n \\n \\n\\n\\n \\n\\n\\n\\n      \\n    \\n\\n\\n\\n  \\n\\n  \\n  \\n  \\n  \\n  \\n  \\n  \\n\\n\\n\\n  \\n  \\n\\n\\n\\n  \\n  \\n\\n\\n\\n\\n  \\n  \\n  \\n\\n\\n\\n\\n\\n\\n\\n\\n\\n \\n \\n \\n \\n \\n\\n\\n    \\n    \\n\\n    \\n    \\n      \\n      \\n        \\n        \\n\\n      \\n      \\n      \\n      \\n      \\n      \\n      \\n    \\n\\n\\n      \\n    \\n  \\n      \\n      \\n  \\n      \\n      \\n\\n      \\n        \\n      \\n\\n\\n\\n\\n\\n\\n\\n    \\n        \\n        \\n      \\n  \\n\\n\\n\\n\\n\\n\\n      \\n    \\n      \\n        \\n      \\n    \\n\\n  \\n    \\n      \\n        \\n          \\n            \\n                \\n              \\n          \\n        \\n      \\n    \\n    \\n \\n\\n\\n  \\n  \\n\\n\\n      \\n      \\n      \\n      \\n      \\n      \\n      \\n    \\n\\n\\n\\n\\n      \\n    \\n  \\n      \\n      \\n\\n      \\n        \\n      \\n\\n\\n\\n\\n  \\n    \\n      \\n        \\n          \\n            \\n          \\n          \\n        \\n      \\n    \\n    \\n    \\n      \\n        \\n          \\n            \\n          \\n          \\n        \\n      \\n    \\n\\n    \\n    \\n      \\n        \\n          \\n            \\n          \\n          \\n        \\n      \\n    \\n    \\n      \\n        \\n          \\n          \\n        \\n      \\n    \\n\\n    \\n    \\n      \\n        \\n          \\n          \\n        \\n      \\n    \\n\\n    \\n      \\n        \\n          \\n            \\n            \\n              \\n                \\n                  <script data-page-js-type=\"lix\">\\n                    (function(n, r, a) {\\n                      r = window[n] = window[n] || {};\\n                      \\n                        \\n                            r[\\'global_bsp_notice_type\\'] = \\'warning\\';\\n                          \\n                      \\n                        \\n                            r[\\'global_bsp_notice_autoHide\\'] = \\'false\\';\\n                          \\n                      \\n                        \\n                            r[\\'global_bsp_view_threshold\\'] = \\'c5\\';\\n                          \\n                      \\n                    }(\\'__li__lix_registry__\\'));\\n                  </script>\\n                \\n                \\n                \\n              \\n            \\n            \\n          \\n            \\n            \\n              \\n                \\n                  <script data-page-js-type=\"i18n\">\\n                    (function(n, r, a) {\\n                      r = window[n] = window[n] || {};\\n                      \\n                        \\n                            r[\\'global_browser_unsupported_notice\\'] = \\'Looks like you\\\\\\'re using a browser that\\\\\\'s not supported. <a target=\\\\\"_blank\\\\\" href=\\\\\"https:\\\\/\\\\/linkedin.com\\\\/help\\\\/linkedin\\\\/answer\\\\/4135?lang=en\\\\\">Learn more about browsers you can use.<\\\\/a>\\';\\n                          \\n                      \\n                    }(\\'__li__i18n_registry__\\'));\\n                  </script>\\n                \\n                \\n                \\n              \\n            \\n            \\n          \\n            \\n            \\n              \\n                \\n                  <script data-page-js-type=\"config\">\\n                    (function(n, r, a) {\\n                      r = window[n] = window[n] || {};\\n                      \\n                        \\n                            \\n                                a = r[\\'global:browserSupportPolicy\\'] = r[\\'global:browserSupportPolicy\\'] || {};\\n                                a[\\'supportedBrowserMinVersions\\'] = {      ie:             \\'v10\\',      firefox:        \\'v38\\',      opera:          \\'control\\',      safari:         \\'v6.1\\',      chrome:         \\'v42\\',      mobileSafari:   \\'v7\\',      android:        \\'v2.3\\',      androidChrome:  \\'v0\\'    };\\n                              \\n                          \\n                      \\n                    }(\\'__li__config_registry__\\'));\\n                  </script>\\n                \\n                \\n                \\n              \\n            \\n            \\n          \\n        \\n      \\n    \\n\\n    \\n    \\n      \\n      \\n    \\n    \\n      \\n    \\n    \\n      \\n        \\n          \\n            \\n                \\n              \\n          \\n        \\n      \\n    \\n    \\n  \\n\\n\\n\\n\\n  \\n  \\n \\n \\n \\n \\n \\n \\n \\n \\n \\n \\n \\n \\n \\n \\n \\n \\n \\n \\n\\n\\n \\n \\n \\n\\n \\n \\n\\n <script type=\"text/javascript\">\\n (function(d, f) {\\n var modQuot = parseInt(f.substring(1), 10);\\n var now = (+new Date());\\n if (typeof modQuot === \\'number\\' && (now % modQuot !== 0)) {\\n return;\\n }\\n function go() {\\n var a = d.createElement(\\'iframe\\');\\n a.style.display = \\'none\\';\\n a.setAttribute(\\'sandbox\\', \\'allow-scripts allow-same-origin\\');\\n a.src = \\'//platform.linkedin.com/js/thirdPartyJSDelegatorFrame.html?type=dyndns\\';\\n if (d.body) {\\n d.body.appendChild(a);\\n }\\n }\\n\\n if (window.addEventListener) {\\n window.addEventListener(\\'load\\', go, false);\\n } else if (window.addEvent) {\\n window.addEvent(\\'onload\\', go);\\n }\\n }(document, \\'n100\\'));\\n </script>\\n\\n\\n \\n \\n \\n \\n\\n \\n \\n \\n \\n \\n \\n \\n\\n\\n\\n     \\n      \\n    \\n    \\n      \\n      \\n        \\n      \\n    \\n    \\n\\n      \\n        \\n          \\n            \\n            \\n            \\n          \\n            \\n            \\n            \\n          \\n            \\n            \\n            \\n          \\n        \\n      \\n    \\n\\n      \\n      \\n    \\n    \\n    \\n      \\n        \\n          \\n            \\n                \\n                  \\n                    <script type=\"text/javascript\" src=\"https://static.licdn.com/scds/concat/common/js?h=3kp2aedn5pmamdr4dk4n8atur-3ti5bgrnb6idjtk0w4chaigxe-5hqr1i1uoezoj0z1s5gcxojf2-71o37tcjwl0ishto9izvyml3i-3bbdjshpw5ov0rwa8xe08tp97-cayct4cirf7n0f9z1xsg84g0q-dktkawxk7k8pixuh5g8z5ku32-213zbp2wzp99lviwl8g2cvq6i-1lknwtftishpdmobzm413yc7u-bcxa0v9ke411pjpmz4s239f9b-10wg3j2jlwnawjalr4lur4ho3-82rcsw42m1wbgsti4m3j0kvg6-f3la2n4kbk7vr56j54qax1oif-1eq1il9757v2zkuru6hu14q2e-8sox1gztdjnz2un89fi8fyw35-8hdbl769kuhp0h4bsexhsbks0-d8q8zy9bxe530nqv2fct70nwo-c6ct0moql4p4ngtzltmf8l3ly-8h514j3fiwnzuwkt66sbxsu8f-di2z9sra5co9la7ogqyesywin\"></script>\\n                  \\n                  \\n                \\n              \\n          \\n        \\n      \\n    \\n    \\n\\n\\n\\n\\n\\n    \\n      \\n        \\n      \\n    \\n    \\n\\n\\n\\n      \\n        \\n          \\n            \\n            \\n            \\n          \\n            \\n            \\n            \\n          \\n            \\n            \\n            \\n          \\n        \\n      \\n    \\n\\n            \\n        \\n        \\n      \\n      \\n        <script src=\"https://static.licdn.com/sc/h/83ojg6d0upu3m05x2gnok9dff,bwkq2t7thanqo5lqys5wnoflj\" async=\"\"></script>\\n      \\n    \\n        \\n            \\n\\n\\n\\n\\n\\n\\n\\n\\n\\n\\n\\n\\n  \\n\\n      \\n      \\n      \\n      \\n      \\n      \\n      \\n      \\n      \\n      \\n      \\n      \\n      \\n      \\n      \\n      \\n      \\n    \\n\\n\\n      \\n      \\n    \\n    \\n    \\n      \\n        \\n      \\n    \\n    \\n\\n\\n\\n \\n \\n \\n \\n \\n \\n \\n \\n \\n \\n \\n \\n \\n \\n \\n \\n \\n \\n\\n\\n \\n \\n \\n\\n \\n \\n\\n\\n\\n\\n\\n\\n\\n\\n\\n\\n\\n \\n \\n \\n \\n \\n\\n \\n\\n \\n \\n \\n\\n \\n \\n \\n \\n \\n \\n\\n \\n\\n \\n\\n \\n \\n \\n \\n \\n\\n <script type=\"text/javascript\">\\n\\n if (!window.LI) { window.LI = {}; }\\n LI.RUM = LI.RUM || {};\\n\\n (function(RUM, win) {\\n\\n var doc = win.document;\\n\\n RUM.flags = RUM.flags || {};\\n RUM.flags[\\'host-flag\\'] = \"control\";\\n RUM.flags[\\'pop_beacons_frequency\\'] = \"n10-ap0-la0-va0-tx0-sg0-db0-hk0-sp0-ln0-ch0-sy0-mu0-mi0\";\\n RUM.flags[\\'rs_timings_individual\\'] = \"n1000\";\\n RUM.flags[\\'rs_timings_individual_detail\\'] = \"enabled\";\\n\\n RUM.urls = RUM.urls || {};\\n RUM.urls[\\'rum-track\\'] = \"\\\\/lite\\\\/rum-track?csrfToken=ajax%3A0973022440981700203\";\\n RUM.urls[\\'boomerang-bw-img\\'] = \"https:\\\\/\\\\/static.licdn.com\\\\/scds\\\\/common\\\\/u\\\\/lib\\\\/boomerang\\\\/0.9.edge.4ab208445a\\\\/img\\\\/\";\\n\\n RUM.base_urls = RUM.base_urls || {};\\n RUM.base_urls[\\'permanent_content\\'] = \"https:\\\\/\\\\/static.licdn.com\\\\/scds\\\\/common\\\\/u\\\\/\";\\n RUM.base_urls[\\'versioned_content\\'] = \"https:\\\\/\\\\/static.licdn.com\\\\/scds\\\\/concat\\\\/common\\\\/\";\\n RUM.base_urls[\\'media_proxy\\'] = \"https:\\\\/\\\\/media.licdn.com\\\\/media-proxy\\\\/\";\\n\\n RUM.serverStartTime = 1.473906648295E12;\\n\\n RUM.enabled = true;\\n\\n function getRumScript() {\\n var node = doc.body || doc.head || doc.getElementsByTagName(\\'head\\')[0],\\n script = doc.createElement(\\'script\\');\\n script.src = \\n [\"https://static.licdn.com/scds/concat/common/js?h=ed29nkjpsa16bhrjq4na16owq-1mucgfycc664m7vmhpjgqse65-1l5rurej3h44qodo5rn0cdvyn-8om6v2ckrxsbnwf40t9ta8a7e-34tiets5jpj294jd59h8c4s0n-28w7d5j2k2jtil9ncckolke4m-9jzlwicvu376y9q4vjq77y5ks-1m0whdrwis44c1hoa9mrwhlt4-1uvutm1mpyov7rqhtcf8fksby-aac54ic1fmca5xz1yvc5t9nfe-1hn40w0bomeivihj9lopp4hp2-c0121povror81d0xao0yez4gy\"]\\n [0];\\n node.appendChild(script);\\n }\\n\\n if (win.addEventListener) {\\n win.addEventListener(\\'load\\', getRumScript);\\n }\\n else {\\n win.attachEvent(\\'onload\\', getRumScript);\\n }\\n\\n }(LI.RUM, window));\\n </script>\\n\\n\\n\\n\\n\\n\\n\\n \\n \\n \\n \\n \\n \\n \\n \\n \\n \\n \\n \\n \\n \\n \\n \\n \\n \\n\\n\\n\\n \\n \\n \\n\\n \\n \\n\\n\\n\\n\\n\\n <meta name=\"detectAdBlock\" content=\"//platform.linkedin.com/js/px.js\">\\n <script src=\"https://static.licdn.com/scds/concat/common/js?h=69w33ou4umkyupw2uqgn7za7w\" async=\"\" defer=\"\"></script>\\n\\n\\n\\n\\n\\n\\n\\n  \\n  \\n\\n    \\n    \\n \\n \\n \\n \\n \\n \\n \\n \\n \\n \\n \\n \\n \\n \\n \\n \\n \\n \\n\\n\\n \\n \\n \\n\\n \\n \\n\\n<script class=\"comscore-tracking\">\\n (function(_e, _r) {\\n var isNielsenDisabled = true;\\n var providers = {\\n \\'COMSCORE\\': {\\n \\'treatment\\': \\'control\\'\\n }\\n };\\n if (!isNielsenDisabled) {\\n providers[\\'NIELSEN\\'] = {\\n \\'treatment\\': \\'control\\'\\n };\\n }\\n\\n var fireComscore = function() {\\n var comScore = window.COMSCORE;\\n if (comScore) {\\n comScore.beacon({ c1: 2, c2: 6402952, c3: \\'\\', c4: \\'\\', c5: \\'\\', c6: \\'\\', c15: \\'\\' });\\n }\\n };\\n\\n var uc = window.encodeURIComponent, timeStamp = (new Date()).getTime();\\n var fireExternalTracking = function(et) {\\n if (typeof et.trackPageChromeInit === \\'function\\') {\\n et.trackPageChromeInit(providers);\\n } else {\\n // Default treatment if not read from LIX.\\n et.setTreatment(\\'enabled_1.0\\');\\n et.trackWithComScoreForChromeInit();\\n if (!isNielsenDisabled) {\\n var img = new Image(1, 1);\\n img.onerror = img.onload = function () {\\n img.onerror = img.onload = null;\\n };\\n img.src = [\\n \"//secure-gl.imrworldwide.com/cgi-bin/m?ci=au-linkedin&cc=1&si=\",\\n uc(window.location.href),\\n \"&rp=\", uc(document.referrer), \"&ts=compact&rnd=\", timeStamp\\n ].join(\\'\\');\\n }\\n }\\n };\\n var track = function() {\\n var et;\\n if (_e) {\\n fireExternalTracking(_e);\\n } else if (_r && typeof _r.ensure === \\'function\\') {\\n try {\\n _r.ensure([\\'externalTracking\\'], function (require) {\\n try {\\n et = require(\\'externalTracking\\');\\n fireExternalTracking(et);\\n } catch (e) {\\n fireComscore();\\n }\\n });\\n } catch (e) {\\n fireComscore();\\n }\\n } else if (_r && _r._is_li) {\\n try {\\n et = require(\\'externalTracking\\');\\n fireExternalTracking(et);\\n } catch (e) {\\n fireComscore();\\n }\\n } else {\\n fireComscore();\\n }\\n };\\n window.addEventListener(\\'load\\', track);\\n }(window.externalTracking, window.require));\\n</script>\\n<noscript>\\n &lt;img src=\"https://sb.scorecardresearch.com/b?c1=2&amp;amp;c2=6402952&amp;amp;c3=&amp;amp;c4=&amp;amp;c5=&amp;amp;c6=&amp;amp;c15=&amp;amp;cv=1.3&amp;amp;cj=1\" style=\"display:none\" width=\"0\" height=\"0\" alt=\"\" /&gt;\\n</noscript>\\n \\n \\n \\n\\n\\n\\n\\n    \\n    \\n \\n \\n \\n \\n \\n \\n \\n \\n \\n \\n \\n \\n \\n \\n \\n \\n \\n \\n\\n\\n \\n \\n \\n\\n \\n \\n\\n <script type=\"text/javascript\">\\n (function(d) {\\n function go() {\\n var a = d.createElement(\\'iframe\\');\\n a.style.display = \\'none\\';\\n a.setAttribute(\\'sandbox\\', \\'allow-scripts allow-same-origin\\');\\n a.src = \\'//radar.cedexis.com/1/11326/radar/radar.html\\';\\n if (d.body) {\\n d.body.appendChild(a);\\n }\\n }\\n\\n if (window.addEventListener) {\\n window.addEventListener(\\'load\\', go, false);\\n } else if (window.addEvent) {\\n window.addEvent(\\'onload\\', go);\\n }\\n }(document));\\n </script>\\n\\n\\n  \\n  \\n\\n\\n\\n\\n            \\n\\n\\n\\n\\n  \\n</div> \\n\\n\\n            \\n            \\n        \\n        \\n      \\n      \\n        <iframe id=\"e_1473906649164\" name=\"e_1473906649164\" src=\"https://platform.linkedin.com/js/thirdPartyJSDelegatorFrame.html?e_origin=https://www.linkedin.com&amp;e_channel=e_1473906649164\" style=\"visibility: hidden; width: 1px; height: 1px; position: absolute; left: -999px; top: 0px; \"></iframe><script src=\"https://static.licdn.com/scds/concat/common/js?h=ed29nkjpsa16bhrjq4na16owq-1mucgfycc664m7vmhpjgqse65-1l5rurej3h44qodo5rn0cdvyn-8om6v2ckrxsbnwf40t9ta8a7e-34tiets5jpj294jd59h8c4s0n-28w7d5j2k2jtil9ncckolke4m-9jzlwicvu376y9q4vjq77y5ks-1m0whdrwis44c1hoa9mrwhlt4-1uvutm1mpyov7rqhtcf8fksby-aac54ic1fmca5xz1yvc5t9nfe-1hn40w0bomeivihj9lopp4hp2-c0121povror81d0xao0yez4gy\"></script><iframe style=\"display: none; \" sandbox=\"allow-scripts allow-same-origin\" src=\"//radar.cedexis.com/1/11326/radar/radar.html\"></iframe><script src=\"//platform.linkedin.com/js/px.js?ch=1\"></script></body></html>'"
      ]
     },
     "execution_count": 258,
     "metadata": {},
     "output_type": "execute_result"
    }
   ],
   "source": [
    "content"
   ]
  },
  {
   "cell_type": "code",
   "execution_count": null,
   "metadata": {
    "collapsed": false,
    "scrolled": true
   },
   "outputs": [],
   "source": []
  },
  {
   "cell_type": "code",
   "execution_count": 250,
   "metadata": {
    "collapsed": false
   },
   "outputs": [],
   "source": [
    "driver = webdriver.PhantomJS()\n",
    "driver.get('https://www.linkedin.com/vsearch/p?lastName=Gates&trk=SEO_SN&firstName=Bill')\n",
    "#driver.get(\"https://www.linkedin.com/in/harshparikh1001\")\n",
    "html=driver.page_source    \n",
    "soup=BeautifulSoup(html)\n",
    "content = driver.page_source\n",
    "images = [x for x in soup.find_all('img')]"
   ]
  },
  {
   "cell_type": "code",
   "execution_count": null,
   "metadata": {
    "collapsed": false
   },
   "outputs": [],
   "source": []
  },
  {
   "cell_type": "code",
   "execution_count": null,
   "metadata": {
    "collapsed": false
   },
   "outputs": [],
   "source": []
  },
  {
   "cell_type": "code",
   "execution_count": null,
   "metadata": {
    "collapsed": false
   },
   "outputs": [],
   "source": []
  },
  {
   "cell_type": "markdown",
   "metadata": {},
   "source": [
    "## Link to get all profiles with the first Name\n",
    "\n",
    "https://www.linkedin.com/pub/dir/Bill"
   ]
  }
 ],
 "metadata": {
  "kernelspec": {
   "display_name": "Python 2",
   "language": "python",
   "name": "python2"
  },
  "language_info": {
   "codemirror_mode": {
    "name": "ipython",
    "version": 2
   },
   "file_extension": ".py",
   "mimetype": "text/x-python",
   "name": "python",
   "nbconvert_exporter": "python",
   "pygments_lexer": "ipython2",
   "version": "2.7.6"
  }
 },
 "nbformat": 4,
 "nbformat_minor": 0
}

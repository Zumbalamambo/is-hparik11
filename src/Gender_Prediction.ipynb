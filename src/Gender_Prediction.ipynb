{
 "cells": [
  {
   "cell_type": "code",
   "execution_count": 1,
   "metadata": {
    "collapsed": false
   },
   "outputs": [],
   "source": [
    "# Import Libraries\n",
    "\n",
    "import os\n",
    "import re\n",
    "import urllib2\n",
    "from zipfile import ZipFile\n",
    "import csv\n",
    "import cPickle as pickle"
   ]
  },
  {
   "cell_type": "code",
   "execution_count": 2,
   "metadata": {
    "collapsed": true
   },
   "outputs": [],
   "source": [
    "def downloadNames():\n",
    "    u = urllib2.urlopen('https://www.ssa.gov/oact/babynames/names.zip')\n",
    "    localFile = open('names.zip', 'w')\n",
    "    localFile.write(u.read())\n",
    "    localFile.close()"
   ]
  },
  {
   "cell_type": "code",
   "execution_count": 3,
   "metadata": {
    "collapsed": true
   },
   "outputs": [],
   "source": [
    "def getNameList():\n",
    "    if not os.path.exists('names.pickle'):\n",
    "        print 'names.pickle does not exist, generating'\n",
    "        \n",
    "        # https://www.ssa.gov/oact/babynames/names.zip\n",
    "        \n",
    "        if not os.path.exists('names.zip'):\n",
    "            print 'names.zip does not exist, downloading from github'\n",
    "            downloadNames()\n",
    "        else:\n",
    "            print 'names.zip exists, not downloading'\n",
    "        \n",
    "        print 'Extracting names from names.zip'  \n",
    "        \n",
    "        namesDict=extractNamesDict()\n",
    "        \n",
    "        maleNames=list()\n",
    "        femaleNames=list()\n",
    "        \n",
    "        print 'Sorting Names'\n",
    "        \n",
    "        for name in namesDict:\n",
    "            counts=namesDict[name]\n",
    "            tuple=(name,counts[0],counts[1])\n",
    "            if counts[0]>counts[1]:\n",
    "                maleNames.append(tuple)\n",
    "            elif counts[1]>counts[0]:\n",
    "                femaleNames.append(tuple)\n",
    "        \n",
    "        names=(maleNames,femaleNames)\n",
    "        \n",
    "        print 'Saving names.pickle'\n",
    "        fw=open('names.pickle','wb')\n",
    "        pickle.dump(names,fw,-1)\n",
    "        fw.close()\n",
    "        print 'Saved names.pickle'\n",
    "    else:\n",
    "        print 'names.pickle exists, loading data'\n",
    "        f=open('names.pickle','rb')\n",
    "        names=pickle.load(f)\n",
    "        print 'names.pickle loaded'\n",
    "        \n",
    "    print '%d male names loaded, %d female names loaded'%(len(names[0]),len(names[1]))\n",
    "    \n",
    "    return names[0],names[1]"
   ]
  },
  {
   "cell_type": "code",
   "execution_count": 4,
   "metadata": {
    "collapsed": true
   },
   "outputs": [],
   "source": [
    "def extractNamesDict():\n",
    "    zf=ZipFile('names.zip', 'r')\n",
    "    filenames=zf.namelist()\n",
    "    \n",
    "    names=dict()\n",
    "    genderMap={'M':0,'F':1}\n",
    "    \n",
    "    for filename in filenames:\n",
    "        fp = zf.open(filename,'rU')\n",
    "        rows=csv.reader(fp, delimiter=',', dialect=csv.excel_tab)\n",
    "        try:\n",
    "            for row in rows:\n",
    "            #print name,row[1]\n",
    "                try:\n",
    "                    name=row[0].upper()\n",
    "                    gender=genderMap[row[1]]\n",
    "                    count=int(row[2])\n",
    "\n",
    "                    if not names.has_key(name):\n",
    "                        names[name]=[0,0]\n",
    "\n",
    "                    names[name][gender]=names[name][gender]+count\n",
    "                except:\n",
    "                    pass\n",
    "        except:\n",
    "            pass\n",
    "            \n",
    "        fp.close()\n",
    "        \n",
    "        print '\\tImported %s'%filename\n",
    "    return names"
   ]
  },
  {
   "cell_type": "code",
   "execution_count": 5,
   "metadata": {
    "collapsed": false
   },
   "outputs": [
    {
     "name": "stdout",
     "output_type": "stream",
     "text": [
      "names.pickle exists, loading data\n",
      "names.pickle loaded\n",
      "34722 male names loaded, 60185 female names loaded\n"
     ]
    }
   ],
   "source": [
    "male_names, female_names = getNameList()"
   ]
  },
  {
   "cell_type": "code",
   "execution_count": 26,
   "metadata": {
    "collapsed": false
   },
   "outputs": [
    {
     "data": {
      "text/plain": [
       "[('HYKEIM', 5, 0),\n",
       " ('GAYLOR', 23, 0),\n",
       " ('TAMERON', 117, 53),\n",
       " ('JAHQUELL', 10, 0),\n",
       " ('LASH', 78, 0),\n",
       " ('GAYLON', 3472, 218),\n",
       " ('DAMEION', 869, 0),\n",
       " ('RICHAAD', 5, 0),\n",
       " ('EMBRY', 303, 293),\n",
       " ('JCEYON', 6, 0)]"
      ]
     },
     "execution_count": 26,
     "metadata": {},
     "output_type": "execute_result"
    }
   ],
   "source": [
    "male_names[:10]"
   ]
  },
  {
   "cell_type": "code",
   "execution_count": 31,
   "metadata": {
    "collapsed": false
   },
   "outputs": [
    {
     "data": {
      "text/plain": [
       "[('KARMELA', 0, 122),\n",
       " ('KOLLEEN', 0, 1016),\n",
       " ('EMMAROSE', 0, 509),\n",
       " ('DYANDRA', 0, 30),\n",
       " ('LULABELL', 0, 36),\n",
       " ('JAMETTA', 0, 98),\n",
       " ('RUDINE', 0, 307),\n",
       " ('JAMETTE', 0, 30),\n",
       " ('YUSRA', 0, 1062),\n",
       " ('ANALYDIA', 0, 5)]"
      ]
     },
     "execution_count": 31,
     "metadata": {},
     "output_type": "execute_result"
    }
   ],
   "source": [
    "female_names[:10]"
   ]
  },
  {
   "cell_type": "code",
   "execution_count": 56,
   "metadata": {
    "collapsed": false
   },
   "outputs": [
    {
     "name": "stdout",
     "output_type": "stream",
     "text": [
      "Total number of Male Names after is 33955.\n"
     ]
    }
   ],
   "source": [
    "new_male_list = []\n",
    "for index,name in enumerate(male_names):\n",
    "    try:\n",
    "        if (name[1]/name[2])>=2:\n",
    "            new_male_list.append(name[0])\n",
    "    except:\n",
    "        new_male_list.append(name[0])\n",
    "        \n",
    "print \"Total number of Male Names after is %d.\" %len(new_male_list)"
   ]
  },
  {
   "cell_type": "code",
   "execution_count": 30,
   "metadata": {
    "collapsed": false
   },
   "outputs": [
    {
     "data": {
      "text/plain": [
       "['HYKEIM',\n",
       " 'GAYLOR',\n",
       " 'JAHQUELL',\n",
       " 'LASH',\n",
       " 'GAYLON',\n",
       " 'DAMEION',\n",
       " 'RICHAAD',\n",
       " 'JCEYON',\n",
       " 'DAYSHAUN',\n",
       " 'XABIER']"
      ]
     },
     "execution_count": 30,
     "metadata": {},
     "output_type": "execute_result"
    }
   ],
   "source": [
    "new_male_list[:10]"
   ]
  },
  {
   "cell_type": "code",
   "execution_count": 59,
   "metadata": {
    "collapsed": false
   },
   "outputs": [
    {
     "name": "stdout",
     "output_type": "stream",
     "text": [
      "Total number of Female Names after is 59496.\n"
     ]
    }
   ],
   "source": [
    "new_female_list = []\n",
    "for index,name in enumerate(female_names):\n",
    "    try:\n",
    "        if (name[2]/name[1])>=2:\n",
    "            new_female_list.append(name[0])\n",
    "    except:\n",
    "        new_female_list.append(name[0])\n",
    "        \n",
    "print \"Total number of Female Names after is %d.\" %len(new_female_list)"
   ]
  },
  {
   "cell_type": "code",
   "execution_count": 32,
   "metadata": {
    "collapsed": false
   },
   "outputs": [
    {
     "data": {
      "text/plain": [
       "['KARMELA',\n",
       " 'KOLLEEN',\n",
       " 'EMMAROSE',\n",
       " 'DYANDRA',\n",
       " 'LULABELL',\n",
       " 'JAMETTA',\n",
       " 'RUDINE',\n",
       " 'JAMETTE',\n",
       " 'YUSRA',\n",
       " 'ANALYDIA']"
      ]
     },
     "execution_count": 32,
     "metadata": {},
     "output_type": "execute_result"
    }
   ],
   "source": [
    "new_female_list[:10]"
   ]
  },
  {
   "cell_type": "markdown",
   "metadata": {},
   "source": [
    "## Find Gender from First Name"
   ]
  },
  {
   "cell_type": "code",
   "execution_count": 85,
   "metadata": {
    "collapsed": false
   },
   "outputs": [],
   "source": [
    "def find_gender_from_first_name(name):\n",
    "    if name.upper() in new_male_list:\n",
    "        print \"Male\"\n",
    "    elif name.upper() in new_female_list:\n",
    "        print \"Female\"\n",
    "    else:\n",
    "        print \"Unknown\"    "
   ]
  },
  {
   "cell_type": "markdown",
   "metadata": {},
   "source": [
    "## Let's do some Gender Testing"
   ]
  },
  {
   "cell_type": "code",
   "execution_count": 86,
   "metadata": {
    "collapsed": false
   },
   "outputs": [
    {
     "name": "stdout",
     "output_type": "stream",
     "text": [
      "Male\n"
     ]
    }
   ],
   "source": [
    "find_gender_from_first_name('Harsh')"
   ]
  },
  {
   "cell_type": "code",
   "execution_count": 89,
   "metadata": {
    "collapsed": false
   },
   "outputs": [
    {
     "name": "stdout",
     "output_type": "stream",
     "text": [
      "Female\n"
     ]
    }
   ],
   "source": [
    "find_gender_from_first_name('Marry')"
   ]
  },
  {
   "cell_type": "code",
   "execution_count": 90,
   "metadata": {
    "collapsed": false
   },
   "outputs": [
    {
     "name": "stdout",
     "output_type": "stream",
     "text": [
      "Unknown\n"
     ]
    }
   ],
   "source": [
    "find_gender_from_first_name('Sujoy')"
   ]
  }
 ],
 "metadata": {
  "kernelspec": {
   "display_name": "Python 2",
   "language": "python",
   "name": "python2"
  },
  "language_info": {
   "codemirror_mode": {
    "name": "ipython",
    "version": 2
   },
   "file_extension": ".py",
   "mimetype": "text/x-python",
   "name": "python",
   "nbconvert_exporter": "python",
   "pygments_lexer": "ipython2",
   "version": "2.7.6"
  }
 },
 "nbformat": 4,
 "nbformat_minor": 0
}

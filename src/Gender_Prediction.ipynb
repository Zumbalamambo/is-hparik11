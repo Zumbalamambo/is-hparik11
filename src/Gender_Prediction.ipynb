{
 "cells": [
  {
   "cell_type": "code",
   "execution_count": 28,
   "metadata": {
    "collapsed": false
   },
   "outputs": [
    {
     "name": "stdout",
     "output_type": "stream",
     "text": [
      "\n"
     ]
    }
   ],
   "source": [
    "# Import Libraries\n",
    "\n",
    "import os\n",
    "import re\n",
    "import urllib2\n",
    "from zipfile import ZipFile\n",
    "import csv\n",
    "import cPickle as pickle"
   ]
  },
  {
   "cell_type": "code",
   "execution_count": 55,
   "metadata": {
    "collapsed": true
   },
   "outputs": [],
   "source": [
    "def downloadNames():\n",
    "    u = urllib2.urlopen('https://www.ssa.gov/oact/babynames/names.zip')\n",
    "    localFile = open('names.zip', 'w')\n",
    "    localFile.write(u.read())\n",
    "    localFile.close()"
   ]
  },
  {
   "cell_type": "code",
   "execution_count": 56,
   "metadata": {
    "collapsed": true
   },
   "outputs": [],
   "source": [
    "def getNameList():\n",
    "    if not os.path.exists('names.pickle'):\n",
    "        print 'names.pickle does not exist, generating'\n",
    "        \n",
    "        # https://www.ssa.gov/oact/babynames/names.zip\n",
    "        \n",
    "        if not os.path.exists('names.zip'):\n",
    "            print 'names.zip does not exist, downloading from github'\n",
    "            downloadNames()\n",
    "        else:\n",
    "            print 'names.zip exists, not downloading'\n",
    "        \n",
    "        print 'Extracting names from names.zip'  \n",
    "        \n",
    "        namesDict=extractNamesDict()\n",
    "        \n",
    "        maleNames=list()\n",
    "        femaleNames=list()\n",
    "        \n",
    "        print 'Sorting Names'\n",
    "        \n",
    "        for name in namesDict:\n",
    "            counts=namesDict[name]\n",
    "            tuple=(name,counts[0],counts[1])\n",
    "            if counts[0]>counts[1]:\n",
    "                maleNames.append(tuple)\n",
    "            elif counts[1]>counts[0]:\n",
    "                femaleNames.append(tuple)\n",
    "        \n",
    "        names=(maleNames,femaleNames)\n",
    "        \n",
    "        print 'Saving names.pickle'\n",
    "        fw=open('names.pickle','wb')\n",
    "        pickle.dump(names,fw,-1)\n",
    "        fw.close()\n",
    "        print 'Saved names.pickle'\n",
    "    else:\n",
    "        print 'names.pickle exists, loading data'\n",
    "        f=open('names.pickle','rb')\n",
    "        names=pickle.load(f)\n",
    "        print 'names.pickle loaded'\n",
    "        \n",
    "    print '%d male names loaded, %d female names loaded'%(len(names[0]),len(names[1]))\n",
    "    \n",
    "    return names[0],names[1]"
   ]
  },
  {
   "cell_type": "code",
   "execution_count": 52,
   "metadata": {
    "collapsed": true
   },
   "outputs": [],
   "source": [
    "def extractNamesDict():\n",
    "    zf=ZipFile('names.zip', 'r')\n",
    "    filenames=zf.namelist()\n",
    "    \n",
    "    names=dict()\n",
    "    genderMap={'M':0,'F':1}\n",
    "    \n",
    "    for filename in filenames:\n",
    "        fp = zf.open(filename,'rU')\n",
    "        rows=csv.reader(fp, delimiter=',', dialect=csv.excel_tab)\n",
    "        try:\n",
    "            for row in rows:\n",
    "            #print name,row[1]\n",
    "                try:\n",
    "                    name=row[0].upper()\n",
    "                    gender=genderMap[row[1]]\n",
    "                    count=int(row[2])\n",
    "\n",
    "                    if not names.has_key(name):\n",
    "                        names[name]=[0,0]\n",
    "\n",
    "                    names[name][gender]=names[name][gender]+count\n",
    "                except:\n",
    "                    pass\n",
    "        except:\n",
    "            pass\n",
    "            \n",
    "        fp.close()\n",
    "        \n",
    "        print '\\tImported %s'%filename\n",
    "    return names"
   ]
  },
  {
   "cell_type": "code",
   "execution_count": 58,
   "metadata": {
    "collapsed": false
   },
   "outputs": [
    {
     "name": "stdout",
     "output_type": "stream",
     "text": [
      "names.pickle does not exist, generating\n",
      "names.zip exists, not downloading\n",
      "Extracting names from names.zip\n",
      "\tImported yob1881.txt\n",
      "\tImported yob1882.txt\n",
      "\tImported yob1883.txt\n",
      "\tImported yob1884.txt\n",
      "\tImported yob1885.txt\n",
      "\tImported yob1886.txt\n",
      "\tImported yob1887.txt\n",
      "\tImported yob1888.txt\n",
      "\tImported yob1889.txt\n",
      "\tImported yob1890.txt\n",
      "\tImported yob1891.txt\n",
      "\tImported yob1892.txt\n",
      "\tImported yob1893.txt\n",
      "\tImported yob1894.txt\n",
      "\tImported yob1895.txt\n",
      "\tImported yob1896.txt\n",
      "\tImported yob1897.txt\n",
      "\tImported yob1898.txt\n",
      "\tImported yob1899.txt\n",
      "\tImported yob1900.txt\n",
      "\tImported yob1901.txt\n",
      "\tImported yob1902.txt\n",
      "\tImported yob1903.txt\n",
      "\tImported yob1904.txt\n",
      "\tImported yob1905.txt\n",
      "\tImported yob1906.txt\n",
      "\tImported yob1907.txt\n",
      "\tImported yob1908.txt\n",
      "\tImported yob1909.txt\n",
      "\tImported yob1910.txt\n",
      "\tImported yob1911.txt\n",
      "\tImported yob1912.txt\n",
      "\tImported yob1913.txt\n",
      "\tImported yob1914.txt\n",
      "\tImported yob1915.txt\n",
      "\tImported yob1916.txt\n",
      "\tImported yob1917.txt\n",
      "\tImported yob1918.txt\n",
      "\tImported yob1919.txt\n",
      "\tImported yob1920.txt\n",
      "\tImported yob1921.txt\n",
      "\tImported yob1922.txt\n",
      "\tImported yob1923.txt\n",
      "\tImported yob1924.txt\n",
      "\tImported yob1925.txt\n",
      "\tImported yob1926.txt\n",
      "\tImported yob1927.txt\n",
      "\tImported yob1928.txt\n",
      "\tImported yob1929.txt\n",
      "\tImported yob1930.txt\n",
      "\tImported yob1931.txt\n",
      "\tImported yob1932.txt\n",
      "\tImported yob1933.txt\n",
      "\tImported yob1934.txt\n",
      "\tImported yob1935.txt\n",
      "\tImported yob1936.txt\n",
      "\tImported yob1937.txt\n",
      "\tImported yob1938.txt\n",
      "\tImported yob1939.txt\n",
      "\tImported yob1940.txt\n",
      "\tImported yob1941.txt\n",
      "\tImported yob1942.txt\n",
      "\tImported yob1943.txt\n",
      "\tImported yob1944.txt\n",
      "\tImported yob1945.txt\n",
      "\tImported yob1946.txt\n",
      "\tImported yob1947.txt\n",
      "\tImported yob1948.txt\n",
      "\tImported yob1949.txt\n",
      "\tImported yob1950.txt\n",
      "\tImported yob1951.txt\n",
      "\tImported yob1952.txt\n",
      "\tImported yob1953.txt\n",
      "\tImported yob1954.txt\n",
      "\tImported yob1955.txt\n",
      "\tImported yob1956.txt\n",
      "\tImported yob1957.txt\n",
      "\tImported yob1958.txt\n",
      "\tImported yob1959.txt\n",
      "\tImported yob1960.txt\n",
      "\tImported yob1961.txt\n",
      "\tImported yob1962.txt\n",
      "\tImported yob1963.txt\n",
      "\tImported yob1964.txt\n",
      "\tImported yob1965.txt\n",
      "\tImported yob1966.txt\n",
      "\tImported yob1967.txt\n",
      "\tImported yob1968.txt\n",
      "\tImported yob1969.txt\n",
      "\tImported yob1970.txt\n",
      "\tImported yob1971.txt\n",
      "\tImported yob1972.txt\n",
      "\tImported yob1973.txt\n",
      "\tImported yob1974.txt\n",
      "\tImported yob1975.txt\n",
      "\tImported yob1976.txt\n",
      "\tImported yob1977.txt\n",
      "\tImported yob1978.txt\n",
      "\tImported yob1979.txt\n",
      "\tImported yob1980.txt\n",
      "\tImported yob1981.txt\n",
      "\tImported yob1982.txt\n",
      "\tImported yob1983.txt\n",
      "\tImported yob1984.txt\n",
      "\tImported yob1985.txt\n",
      "\tImported yob1986.txt\n",
      "\tImported yob1987.txt\n",
      "\tImported yob1988.txt\n",
      "\tImported yob1989.txt\n",
      "\tImported yob1990.txt\n",
      "\tImported yob1991.txt\n",
      "\tImported yob1992.txt\n",
      "\tImported yob1993.txt\n",
      "\tImported yob1994.txt\n",
      "\tImported yob1995.txt\n",
      "\tImported yob1996.txt\n",
      "\tImported yob1997.txt\n",
      "\tImported yob1998.txt\n",
      "\tImported yob1999.txt\n",
      "\tImported yob2000.txt\n",
      "\tImported yob2001.txt\n",
      "\tImported yob2002.txt\n",
      "\tImported yob2003.txt\n",
      "\tImported yob2004.txt\n",
      "\tImported yob2005.txt\n",
      "\tImported yob2006.txt\n",
      "\tImported yob2007.txt\n",
      "\tImported yob2008.txt\n",
      "\tImported yob2009.txt\n",
      "\tImported yob2010.txt\n",
      "\tImported yob2011.txt\n",
      "\tImported yob2012.txt\n",
      "\tImported yob2013.txt\n",
      "\tImported yob2014.txt\n",
      "\tImported yob2015.txt\n",
      "\tImported yob1880.txt\n",
      "\tImported NationalReadMe.pdf\n",
      "Sorting Names\n",
      "Saving names.pickle\n",
      "Saved names.pickle\n",
      "34722 male names loaded, 60185 female names loaded\n"
     ]
    }
   ],
   "source": [
    "male_names, female_names = getNameList()"
   ]
  },
  {
   "cell_type": "code",
   "execution_count": 62,
   "metadata": {
    "collapsed": false
   },
   "outputs": [
    {
     "data": {
      "text/plain": [
       "[('HYKEIM', 5, 0),\n",
       " ('GAYLOR', 23, 0),\n",
       " ('TAMERON', 117, 53),\n",
       " ('JAHQUELL', 10, 0),\n",
       " ('LASH', 78, 0),\n",
       " ('GAYLON', 3472, 218),\n",
       " ('DAMEION', 869, 0),\n",
       " ('RICHAAD', 5, 0),\n",
       " ('EMBRY', 303, 293),\n",
       " ('JCEYON', 6, 0)]"
      ]
     },
     "execution_count": 62,
     "metadata": {},
     "output_type": "execute_result"
    }
   ],
   "source": [
    "male_names[:10]"
   ]
  },
  {
   "cell_type": "code",
   "execution_count": 63,
   "metadata": {
    "collapsed": false
   },
   "outputs": [
    {
     "data": {
      "text/plain": [
       "[('KARMELA', 0, 122),\n",
       " ('KOLLEEN', 0, 1016),\n",
       " ('EMMAROSE', 0, 509),\n",
       " ('DYANDRA', 0, 30),\n",
       " ('LULABELL', 0, 36),\n",
       " ('JAMETTA', 0, 98),\n",
       " ('RUDINE', 0, 307),\n",
       " ('JAMETTE', 0, 30),\n",
       " ('YUSRA', 0, 1062),\n",
       " ('ANALYDIA', 0, 5)]"
      ]
     },
     "execution_count": 63,
     "metadata": {},
     "output_type": "execute_result"
    }
   ],
   "source": [
    "female_names[:10]"
   ]
  }
 ],
 "metadata": {
  "kernelspec": {
   "display_name": "Python 2",
   "language": "python",
   "name": "python2"
  },
  "language_info": {
   "codemirror_mode": {
    "name": "ipython",
    "version": 2
   },
   "file_extension": ".py",
   "mimetype": "text/x-python",
   "name": "python",
   "nbconvert_exporter": "python",
   "pygments_lexer": "ipython2",
   "version": "2.7.6"
  }
 },
 "nbformat": 4,
 "nbformat_minor": 0
}

{
 "cells": [
  {
   "cell_type": "code",
   "execution_count": 12,
   "metadata": {
    "collapsed": true
   },
   "outputs": [],
   "source": [
    "import urllib\n",
    "from bs4 import BeautifulSoup\n",
    "from selenium import webdriver\n",
    "import re\n",
    "import os,sys\n",
    "import time\n",
    "from datetime import date\n",
    "try:\n",
    "    import cPickle as pickle\n",
    "except:\n",
    "    import pickle\n",
    "import pprint\n",
    "from collections import deque\n",
    "from shutil import copyfile\n",
    "import random"
   ]
  },
  {
   "cell_type": "code",
   "execution_count": null,
   "metadata": {
    "collapsed": true
   },
   "outputs": [],
   "source": []
  },
  {
   "cell_type": "code",
   "execution_count": 8,
   "metadata": {
    "collapsed": false,
    "scrolled": true
   },
   "outputs": [
    {
     "name": "stdout",
     "output_type": "stream",
     "text": [
      "<html><head>\n",
      "<script type=\"text/javascript\">\n",
      "window.onload = function() {\n",
      "  // Parse the tracking code from cookies.\n",
      "  var trk = \"sentinel_org_block\";\n",
      "  var cookies = document.cookie.split(\"; \");\n",
      "  for (var i = 0; i < cookies.length; ++i) {\n",
      "    if ((cookies[i].indexOf(\"trkCode=\") == 0) && (cookies[i].length > 8)) {\n",
      "      trk = cookies[i].substring(8);\n",
      "    }\n",
      "  }\n",
      "\n",
      "  // Get the protocol for the redirect url.\n",
      "  var protocol = \"http:\";\n",
      "  if (window.location.protocol == \"https:\") {\n",
      "    protocol = \"https:\";\n",
      "  } else {\n",
      "    // If \"sl\" cookie is set, redirect to https.\n",
      "    for (var i = 0; i < cookies.length; ++i) {\n",
      "      if ((cookies[i].indexOf(\"sl=\") == 0) && (cookies[i].length > 3)) {\n",
      "        window.location.href = \"https:\" + window.location.href.substring(window.location.protocol.length);\n",
      "        return;\n",
      "      }\n",
      "    }\n",
      "  }\n",
      "\n",
      "  // Get the new domain. For touch.www.linkedin.com or tablet.www.linkedin.com\n",
      "  // we strip \"touch.\" and \"tablet.\". For international domains such as\n",
      "  // fr.linkedin.com, we convert it to www.linkedin.com\n",
      "  var domain = location.host;\n",
      "  if (domain.substr(0, 6) == \"touch.\") {\n",
      "    domain = domain.substr(6);\n",
      "  } else if (domain.substr(0, 7) == \"tablet.\") {\n",
      "    domain = domain.substr(7);\n",
      "  } else if (domain.charAt(2) == \".\") {\n",
      "    domain = \"www\" + domain.substr(2);\n",
      "  }\n",
      "  \n",
      "  window.location.href = \"https://\" + domain + \"/uas/login?trk=\" + trk + \"&session_redirect=\" +\n",
      "      encodeURIComponent(protocol + \"//\" + domain +\n",
      "      window.location.href.substr(window.location.href.search(window.location.host) +\n",
      "                                  window.location.host.length));\n",
      "}\n",
      "</script>\n",
      "</head><body>\n",
      "</body></html>\n"
     ]
    }
   ],
   "source": [
    "driver = webdriver.PhantomJS(service_log_path=os.path.devnull)\n",
    "driver.get(\"http://www.linkedin.com/in/williamhgates\")\n",
    "html3=driver.page_source  \n",
    "print html3\n",
    "soup=BeautifulSoup(html3,\"lxml\") \n",
    "images = [x for x in soup.find_all('img')]"
   ]
  },
  {
   "cell_type": "code",
   "execution_count": null,
   "metadata": {
    "collapsed": true
   },
   "outputs": [],
   "source": []
  },
  {
   "cell_type": "code",
   "execution_count": 13,
   "metadata": {
    "collapsed": false
   },
   "outputs": [],
   "source": [
    "pkl_fl = open(\"linkedin_profiles.pickle\",\"rb\")\n",
    "my_original_list1=pickle.load(pkl_fl) # errors out here\n",
    "pkl_fl.close()"
   ]
  },
  {
   "cell_type": "code",
   "execution_count": 14,
   "metadata": {
    "collapsed": false
   },
   "outputs": [],
   "source": [
    "pkl_fl = open(\"linkedin_known_profiles.pickle\",\"rb\")\n",
    "my_known_list=pickle.load(pkl_fl) # errors out here\n",
    "pkl_fl.close()"
   ]
  },
  {
   "cell_type": "code",
   "execution_count": 17,
   "metadata": {
    "collapsed": false
   },
   "outputs": [
    {
     "name": "stdout",
     "output_type": "stream",
     "text": [
      "2\n"
     ]
    }
   ],
   "source": [
    "new_profile_list = []\n",
    "cnt =0\n",
    "for prof in my_original_list1:\n",
    "    if prof['Gender'] == 'Unknown':\n",
    "        cnt+=1\n",
    "        #print prof\n",
    "        #new_profile_list.append(prof)\n",
    "        \n",
    "print cnt"
   ]
  },
  {
   "cell_type": "code",
   "execution_count": 16,
   "metadata": {
    "collapsed": false,
    "scrolled": true
   },
   "outputs": [],
   "source": [
    "import json\n",
    "\n",
    "import urllib2\n",
    "\n",
    "cnt=0\n",
    "\n",
    "#myKey = \"NykAhpPGmCwafdjBRo\"\n",
    "myKey = \"VSrmyBtXtvmrasGLGJ\"\n",
    "newList = []\n",
    "\n",
    "for prof in my_original_list1:\n",
    "    if prof['Gender'] == 'Unknown':\n",
    "        \n",
    "        data = json.load(urllib2.urlopen(\"https://gender-api.com/get?key=\" + myKey + \"&name=\"+prof['Full_Name'].split()[0]))\n",
    "        \n",
    "        prof['Gender'] = data['gender'].title()\n",
    "        newList.append(prof)"
   ]
  },
  {
   "cell_type": "code",
   "execution_count": 18,
   "metadata": {
    "collapsed": false,
    "scrolled": true
   },
   "outputs": [
    {
     "name": "stdout",
     "output_type": "stream",
     "text": [
      "2606\n"
     ]
    }
   ],
   "source": [
    "new_profile_list = []\n",
    "cnt =0\n",
    "for prof in my_original_list1:\n",
    "    if prof['Gender'] != 'Unknown':\n",
    "        cnt+=1\n",
    "        #print prof\n",
    "        new_profile_list.append(prof)\n",
    "        \n",
    "print cnt"
   ]
  },
  {
   "cell_type": "code",
   "execution_count": 19,
   "metadata": {
    "collapsed": false
   },
   "outputs": [
    {
     "data": {
      "text/plain": [
       "2606"
      ]
     },
     "execution_count": 19,
     "metadata": {},
     "output_type": "execute_result"
    }
   ],
   "source": [
    "len(new_profile_list)"
   ]
  },
  {
   "cell_type": "code",
   "execution_count": 20,
   "metadata": {
    "collapsed": false
   },
   "outputs": [],
   "source": [
    "pkl_file = open(\"linkedin_profiles.pickle\",\"wb\")\n",
    "pickle.dump(new_profile_list, pkl_file,-1) # errors out here\n",
    "pkl_file.close()"
   ]
  },
  {
   "cell_type": "code",
   "execution_count": 21,
   "metadata": {
    "collapsed": false
   },
   "outputs": [],
   "source": [
    "pkl_file = open(\"linkedin_known_profiles.pickle\",\"wb\")\n",
    "pickle.dump(newList, pkl_file,-1) # errors out here\n",
    "pkl_file.close()"
   ]
  },
  {
   "cell_type": "code",
   "execution_count": null,
   "metadata": {
    "collapsed": false
   },
   "outputs": [],
   "source": []
  }
 ],
 "metadata": {
  "kernelspec": {
   "display_name": "Python 2",
   "language": "python",
   "name": "python2"
  },
  "language_info": {
   "codemirror_mode": {
    "name": "ipython",
    "version": 2
   },
   "file_extension": ".py",
   "mimetype": "text/x-python",
   "name": "python",
   "nbconvert_exporter": "python",
   "pygments_lexer": "ipython2",
   "version": "2.7.6"
  }
 },
 "nbformat": 4,
 "nbformat_minor": 0
}

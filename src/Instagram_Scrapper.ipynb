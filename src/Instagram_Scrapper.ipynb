{
 "cells": [
  {
   "cell_type": "code",
   "execution_count": 3,
   "metadata": {
    "collapsed": false
   },
   "outputs": [
    {
     "name": "stdout",
     "output_type": "stream",
     "text": [
      "<html>\n",
      " <body>\n",
      "  <p>\n",
      "   {\"status\": \"ok\", \"items\": [], \"more_available\": false}\n",
      "  </p>\n",
      " </body>\n",
      "</html>\n"
     ]
    }
   ],
   "source": [
    "from bs4 import BeautifulSoup\n",
    "import urllib2\n",
    "\n",
    "url = \"https://www.instagram.com/harsh0110/media/\"\n",
    "\n",
    "content = urllib2.urlopen(url).read()\n",
    "\n",
    "soup = BeautifulSoup(content)\n",
    "\n",
    "print soup.prettify()\n",
    "\n",
    "#print title"
   ]
  },
  {
   "cell_type": "code",
   "execution_count": 6,
   "metadata": {
    "collapsed": true
   },
   "outputs": [],
   "source": [
    "import urllib2\n",
    "\n",
    "req = urllib2.Request('https://www.instagram.com/harsh0110/media/')\n",
    "response = urllib2.urlopen(req)\n",
    "the_page = response.read()"
   ]
  },
  {
   "cell_type": "code",
   "execution_count": null,
   "metadata": {
    "collapsed": true
   },
   "outputs": [],
   "source": []
  },
  {
   "cell_type": "code",
   "execution_count": 7,
   "metadata": {
    "collapsed": false
   },
   "outputs": [
    {
     "data": {
      "text/plain": [
       "'{\"status\": \"ok\", \"items\": [], \"more_available\": false}'"
      ]
     },
     "execution_count": 7,
     "metadata": {},
     "output_type": "execute_result"
    }
   ],
   "source": [
    "the_page"
   ]
  },
  {
   "cell_type": "code",
   "execution_count": 11,
   "metadata": {
    "collapsed": true
   },
   "outputs": [],
   "source": [
    "from bs4 import BeautifulSoup\n",
    "import selenium.webdriver as webdriver\n",
    "\n",
    "url = 'http://instagram.com/harsh0110/'\n",
    "driver = webdriver.Firefox()\n",
    "driver.get(url)\n",
    "\n",
    "soup = BeautifulSoup(driver.page_source)\n",
    "\n",
    "for x in soup.findAll('li', {'class':'photo'}):\n",
    "    print x"
   ]
  },
  {
   "cell_type": "code",
   "execution_count": 13,
   "metadata": {
    "collapsed": false
   },
   "outputs": [
    {
     "name": "stdout",
     "output_type": "stream",
     "text": [
      "[]\n",
      "0\n"
     ]
    }
   ],
   "source": [
    "from bs4 import BeautifulSoup\n",
    "from urllib2 import urlopen\n",
    "import time\n",
    "\n",
    "def instagram():\n",
    "    list_ = []\n",
    "    result_list = []\n",
    "    html =  urlopen(instagram_url).read()\n",
    "    soup = BeautifulSoup(html,'html.parser')\n",
    "    likes =  soup.find_all('body')\n",
    "    string = str(likes)\n",
    "    for i in range(0,len(string)):\n",
    "        if string[i:i+17] == '\"likes\":{\"count\":':\n",
    "            jackpot =  string[i:i+30]\n",
    "            list_.append(jackpot)\n",
    "    for i in range(0, len(list_)):\n",
    "        number = ''\n",
    "        for j in range(0,len(list_[i])):\n",
    "            if list_[i][j] in '0123456789':\n",
    "                number = number + list_[i][j]\n",
    "        result_list.append(int(number))\n",
    "\n",
    "    return result_list\n",
    "\n",
    "instagram_url = 'https://www.instagram.com/harsh0110/'\n",
    "\n",
    "x = instagram()\n",
    "print x\n",
    "print len(x)"
   ]
  },
  {
   "cell_type": "code",
   "execution_count": 21,
   "metadata": {
    "collapsed": false
   },
   "outputs": [
    {
     "name": "stdout",
     "output_type": "stream",
     "text": [
      "{\"status\": \"ok\", \"items\": [], \"more_available\": false}\n"
     ]
    }
   ],
   "source": [
    "req = urllib2.Request('https://www.instagram.com/harsh0110/media')\n",
    "response = urllib2.urlopen(req)\n",
    "the_page = response.read()\n",
    "print the_page\n",
    "#f = open('./Desktop/samples.txt','r+')"
   ]
  },
  {
   "cell_type": "code",
   "execution_count": 22,
   "metadata": {
    "collapsed": true
   },
   "outputs": [],
   "source": [
    "from lxml import html\n",
    "import requests\n"
   ]
  },
  {
   "cell_type": "code",
   "execution_count": 26,
   "metadata": {
    "collapsed": false
   },
   "outputs": [
    {
     "name": "stdout",
     "output_type": "stream",
     "text": [
      "{\"status\": \"ok\", \"items\": [], \"more_available\": false}\n"
     ]
    }
   ],
   "source": [
    "page = requests.get('https://www.instagram.com/harsh0110/media')\n",
    "tree = html.fromstring(page.content)\n",
    "print page.content"
   ]
  },
  {
   "cell_type": "code",
   "execution_count": null,
   "metadata": {
    "collapsed": true
   },
   "outputs": [],
   "source": []
  }
 ],
 "metadata": {
  "kernelspec": {
   "display_name": "Python 2",
   "language": "python",
   "name": "python2"
  },
  "language_info": {
   "codemirror_mode": {
    "name": "ipython",
    "version": 2
   },
   "file_extension": ".py",
   "mimetype": "text/x-python",
   "name": "python",
   "nbconvert_exporter": "python",
   "pygments_lexer": "ipython2",
   "version": "2.7.6"
  }
 },
 "nbformat": 4,
 "nbformat_minor": 0
}

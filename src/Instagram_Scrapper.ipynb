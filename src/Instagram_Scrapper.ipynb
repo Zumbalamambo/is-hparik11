{
 "cells": [
  {
   "cell_type": "code",
   "execution_count": 15,
   "metadata": {
    "collapsed": false
   },
   "outputs": [
    {
     "name": "stdout",
     "output_type": "stream",
     "text": [
      "<html>\n",
      " <body>\n",
      "  <p>\n",
      "   {\"status\": \"ok\", \"items\": [], \"more_available\": false}\n",
      "  </p>\n",
      " </body>\n",
      "</html>\n"
     ]
    },
    {
     "name": "stderr",
     "output_type": "stream",
     "text": [
      "/usr/local/lib/python2.7/dist-packages/bs4/__init__.py:181: UserWarning: No parser was explicitly specified, so I'm using the best available HTML parser for this system (\"lxml\"). This usually isn't a problem, but if you run this code on another system, or in a different virtual environment, it may use a different parser and behave differently.\n",
      "\n",
      "The code that caused this warning is on line 162 of the file /usr/lib/python2.7/runpy.py. To get rid of this warning, change code that looks like this:\n",
      "\n",
      " BeautifulSoup([your markup])\n",
      "\n",
      "to this:\n",
      "\n",
      " BeautifulSoup([your markup], \"lxml\")\n",
      "\n",
      "  markup_type=markup_type))\n"
     ]
    }
   ],
   "source": [
    "from bs4 import BeautifulSoup\n",
    "import urllib2\n",
    "\n",
    "url = \"https://www.instagram.com/harsh0110/media/\"\n",
    "\n",
    "content = urllib2.urlopen(url).read()\n",
    "\n",
    "soup = BeautifulSoup(content)\n",
    "\n",
    "print soup.prettify()\n",
    "\n",
    "#print title"
   ]
  },
  {
   "cell_type": "code",
   "execution_count": 16,
   "metadata": {
    "collapsed": true
   },
   "outputs": [],
   "source": [
    "import urllib2\n",
    "\n",
    "req = urllib2.Request('https://www.instagram.com/harsh0110/media/')\n",
    "response = urllib2.urlopen(req)\n",
    "the_page = response.read()"
   ]
  },
  {
   "cell_type": "code",
   "execution_count": null,
   "metadata": {
    "collapsed": true
   },
   "outputs": [],
   "source": []
  },
  {
   "cell_type": "code",
   "execution_count": 17,
   "metadata": {
    "collapsed": false
   },
   "outputs": [
    {
     "data": {
      "text/plain": [
       "'{\"status\": \"ok\", \"items\": [], \"more_available\": false}'"
      ]
     },
     "execution_count": 17,
     "metadata": {},
     "output_type": "execute_result"
    }
   ],
   "source": [
    "the_page"
   ]
  },
  {
   "cell_type": "code",
   "execution_count": 18,
   "metadata": {
    "collapsed": true
   },
   "outputs": [],
   "source": [
    "from bs4 import BeautifulSoup\n",
    "import selenium.webdriver as webdriver\n",
    "\n",
    "url = 'http://instagram.com/harsh0110/'\n",
    "driver = webdriver.Firefox()\n",
    "driver.get(url)\n",
    "\n",
    "soup = BeautifulSoup(driver.page_source)\n",
    "\n",
    "for x in soup.findAll('li', {'class':'photo'}):\n",
    "    print x"
   ]
  },
  {
   "cell_type": "code",
   "execution_count": 29,
   "metadata": {
    "collapsed": false
   },
   "outputs": [
    {
     "name": "stdout",
     "output_type": "stream",
     "text": [
      "[]\n",
      "0\n"
     ]
    }
   ],
   "source": [
    "from bs4 import BeautifulSoup\n",
    "from urllib2 import urlopen\n",
    "import time\n",
    "\n",
    "def instagram():\n",
    "    list_ = []\n",
    "    result_list = []\n",
    "    html =  urlopen(instagram_url).read()\n",
    "    soup = BeautifulSoup(html,'html.parser')\n",
    "    likes =  soup.find_all('body')\n",
    "    string = str(likes)\n",
    "    for i in range(0,len(string)):\n",
    "        if string[i:i+17] == '\"likes\":{\"count\":':\n",
    "            jackpot =  string[i:i+30]\n",
    "            list_.append(jackpot)\n",
    "    for i in range(0, len(list_)):\n",
    "        number = ''\n",
    "        for j in range(0,len(list_[i])):\n",
    "            if list_[i][j] in '0123456789':\n",
    "                number = number + list_[i][j]\n",
    "        result_list.append(int(number))\n",
    "\n",
    "    return result_list\n",
    "\n",
    "instagram_url = 'https://www.instagram.com/harsh0110/media'\n",
    "\n",
    "x = instagram()\n",
    "print x\n",
    "print len(x)"
   ]
  },
  {
   "cell_type": "code",
   "execution_count": 32,
   "metadata": {
    "collapsed": false
   },
   "outputs": [
    {
     "name": "stdout",
     "output_type": "stream",
     "text": [
      "<!DOCTYPE html>\n",
      "<!--[if lt IE 7]>      <html lang=\"el\" class=\"no-js lt-ie9 lt-ie8 lt-ie7 not-logged-in \"> <![endif]-->\n",
      "<!--[if IE 7]>         <html lang=\"el\" class=\"no-js lt-ie9 lt-ie8 not-logged-in \"> <![endif]-->\n",
      "<!--[if IE 8]>         <html lang=\"el\" class=\"no-js lt-ie9 not-logged-in \"> <![endif]-->\n",
      "<!--[if gt IE 8]><!--> <html lang=\"el\" class=\"no-js not-logged-in \"> <!--<![endif]-->\n",
      "    <head>\n",
      "        \n",
      "    <script type=\"text/javascript\">window._timings = {\"domLoading\": Date.now()}</script>\n",
      "\n",
      "        <meta charset=\"utf-8\">\n",
      "        <meta http-equiv=\"X-UA-Compatible\" content=\"IE=edge\">\n",
      "\n",
      "        <title>\n",
      "Instagram\n",
      "</title>\n",
      "\n",
      "        <script type=\"text/javascript\">\n",
      "  WebFontConfig = {\n",
      "    custom: {\n",
      "      families: ['proxima-nova:n3,n4,n6,n7'],\n",
      "    }\n",
      "  };\n",
      "</script>\n",
      "<script src=\"//instagramstatic-a.akamaihd.net/h1/scripts/webfont.js/c0456c81549b.js\" type=\"text/javascript\" async></script>\n",
      "\n",
      "<style type=\"text/css\">\n",
      "  /* @license\n",
      "   * MyFonts Webfont Build ID 2164953, 2012-03-23T23:06:30-0400\n",
      "   *\n",
      "   * The fonts listed in this notice are subject to the End User License\n",
      "   * Agreement(s) entered into by the website owner. All other parties are\n",
      "   * explicitly restricted from using the Licensed Webfonts(s).\n",
      "   *\n",
      "   * You may obtain a valid license at the URLs below.\n",
      "   *\n",
      "   *\n",
      "   * Webfont: Proxima Nova Light by Mark Simonson\n",
      "   * URL: http://www.myfonts.com/fonts/marksimonson/proxima-nova/light/\n",
      "   * Licensed pageviews: unlimited\n",
      "   *\n",
      "   * Webfont: Proxima Nova Regular by Mark Simonson\n",
      "   * URL: http://www.myfonts.com/fonts/marksimonson/proxima-nova/regular/\n",
      "   * Licensed pageviews: unlimited\n",
      "   *\n",
      "   * Webfont: Proxima Nova Semibold by Mark Simonson\n",
      "   * URL: http://www.myfonts.com/fonts/marksimonson/proxima-nova/semibold/\n",
      "   * Licensed pageviews: unlimited\n",
      "   *\n",
      "   * Webfont: Proxima Nova Bold Italic by Mark Simonson\n",
      "   * URL: http://www.myfonts.com/fonts/marksimonson/proxima-nova/bold-it/\n",
      "   * Licensed pageviews: unlimited\n",
      "   *\n",
      "   * Webfont: Proxima Nova Bold by Mark Simonson\n",
      "   * URL: http://www.myfonts.com/fonts/marksimonson/proxima-nova/bold/\n",
      "   * Licensed pageviews: unlimited\n",
      "   *\n",
      "   * Webfont: Proxima Nova Italic by Mark Simonson\n",
      "   * URL: http://www.myfonts.com/fonts/marksimonson/proxima-nova/regular-it/\n",
      "   * Licensed pageviews: unlimited\n",
      "   *\n",
      "   *\n",
      "   * License: http://www.myfonts.com/viewlicense?type=web&buildid=2164953\n",
      "   * Webfonts copyright: Copyright (c) Mark Simonson, 2005. All rights reserved.\n",
      "   *\n",
      "   * (c) 2012 Bitstream Inc\n",
      "   */\n",
      "  @font-face {\n",
      "    font-family: 'proxima-nova';\n",
      "    src: url(' //instagramstatic-a.akamaihd.net/h1/webfonts/proximanova-bold-webfont.eot/115b1f7f9c04.eot');\n",
      "    src: url(' //instagramstatic-a.akamaihd.net/h1/webfonts/proximanova-bold-webfont.eot/115b1f7f9c04.eot?#iefix') format(\"embedded-opentype\"),\n",
      "      url(' //instagramstatic-a.akamaihd.net/h1/webfonts/proximanova-bold-webfont.woff/618250d25a4d.woff') format(\"woff\"),\n",
      "      url(' //instagramstatic-a.akamaihd.net/h1/webfonts/proximanova-bold-webfont.ttf/646346e03084.ttf') format(\"truetype\"),\n",
      "      url(' //instagramstatic-a.akamaihd.net/h1/webfonts/proximanova-bold-webfont.svg/e55a9d6051e8.svg#ProximaNovaBold') format(\"svg\");\n",
      "    font-weight: bold;\n",
      "    font-style: normal; }\n",
      "\n",
      "  @font-face {\n",
      "    font-family: 'proxima-nova';\n",
      "    src: url(' //instagramstatic-a.akamaihd.net/h1/webfonts/proximanova-boldit-webfont.eot/1cbb869da891.eot');\n",
      "    src: url(' //instagramstatic-a.akamaihd.net/h1/webfonts/proximanova-boldit-webfont.eot/1cbb869da891.eot?#iefix') format(\"embedded-opentype\"),\n",
      "      url(' //instagramstatic-a.akamaihd.net/h1/webfonts/proximanova-boldit-webfont.woff/b1cf049474c9.woff') format(\"woff\"),\n",
      "      url(' //instagramstatic-a.akamaihd.net/h1/webfonts/proximanova-boldit-webfont.ttf/3adb020ceae3.ttf') format(\"truetype\"),\n",
      "      url(' //instagramstatic-a.akamaihd.net/h1/webfonts/proximanova-boldit-webfont.svg/29948a2d3c58.svg#ProximaNovaBoldItalic') format(\"svg\");\n",
      "    font-weight: bold;\n",
      "    font-style: italic; }\n",
      "\n",
      "  @font-face {\n",
      "    font-family: 'proxima-nova';\n",
      "    src: url(' //instagramstatic-a.akamaihd.net/h1/webfonts/proximanova-reg-webfont.eot/12af77715cee.eot');\n",
      "    src: url(' //instagramstatic-a.akamaihd.net/h1/webfonts/proximanova-reg-webfont.eot/12af77715cee.eot?#iefix') format(\"embedded-opentype\"),\n",
      "      url(' //instagramstatic-a.akamaihd.net/h1/webfonts/proximanova-reg-webfont.woff/a9a9773b8e29.woff') format(\"woff\"),\n",
      "      url(' //instagramstatic-a.akamaihd.net/h1/webfonts/proximanova-reg-webfont.ttf/99e19808976a.ttf') format(\"truetype\"),\n",
      "      url(' //instagramstatic-a.akamaihd.net/h1/webfonts/proximanova-reg-webfont.svg/c33d2fd56309.svg#ProximaNovaRegular') format(\"svg\");\n",
      "    font-weight: normal;\n",
      "    font-style: normal; }\n",
      "\n",
      "  @font-face {\n",
      "    font-family: 'proxima-nova';\n",
      "    src: url(' //instagramstatic-a.akamaihd.net/h1/webfonts/proximanova-regit-webfont.eot/1bbbd1312b0d.eot');\n",
      "    src: url(' //instagramstatic-a.akamaihd.net/h1/webfonts/proximanova-regit-webfont.eot/1bbbd1312b0d.eot?#iefix') format(\"embedded-opentype\"),\n",
      "      url(' //instagramstatic-a.akamaihd.net/h1/webfonts/proximanova-regit-webfont.woff/9e306befca91.woff') format(\"woff\"),\n",
      "      url(' //instagramstatic-a.akamaihd.net/h1/webfonts/proximanova-regit-webfont.ttf/4a8663684135.ttf') format(\"truetype\"),\n",
      "      url(' //instagramstatic-a.akamaihd.net/h1/webfonts/proximanova-regit-webfont.svg/876278d4b189.svg#ProximaNovaRegularItalic') format(\"svg\");\n",
      "    font-weight: normal;\n",
      "    font-style: italic; }\n",
      "\n",
      "  @font-face {\n",
      "    font-family: 'proxima-nova';\n",
      "    src: url(' //instagramstatic-a.akamaihd.net/h1/webfonts/proximanova-sbold-webfont.eot/5016edf79e1d.eot');\n",
      "    src: url(' //instagramstatic-a.akamaihd.net/h1/webfonts/proximanova-sbold-webfont.eot/5016edf79e1d.eot?#iefix') format(\"embedded-opentype\"),\n",
      "      url(' //instagramstatic-a.akamaihd.net/h1/webfonts/proximanova-sbold-webfont.woff/615c1b06d8fa.woff') format(\"woff\"),\n",
      "      url(' //instagramstatic-a.akamaihd.net/h1/webfonts/proximanova-sbold-webfont.ttf/2973bd483f7a.ttf') format(\"truetype\"),\n",
      "      url(' //instagramstatic-a.akamaihd.net/h1/webfonts/proximanova-sbold-webfont.svg/868597833e49.svg#ProximaNovaSemibold') format(\"svg\");\n",
      "    font-weight: 600;\n",
      "    font-style: normal; }\n",
      "</style>\n",
      "\n",
      "  <style type=\"text/css\">\n",
      "  @font-face {\n",
      "    font-family: 'proxima-nova';\n",
      "    src: url(' //instagramstatic-a.akamaihd.net/h1/webfonts/proximanova-light-webfont.eot/63c84728610f.eot');\n",
      "    src: url(' //instagramstatic-a.akamaihd.net/h1/webfonts/proximanova-light-webfont.eot/63c84728610f.eot?#iefix') format(\"embedded-opentype\"),\n",
      "      url(' //instagramstatic-a.akamaihd.net/h1/webfonts/proximanova-light-webfont.woff/66bbe029f180.woff') format(\"woff\"),\n",
      "      url(' //instagramstatic-a.akamaihd.net/h1/webfonts/proximanova-light-webfont.ttf/eb408516399b.ttf') format(\"truetype\"),\n",
      "      url(' //instagramstatic-a.akamaihd.net/h1/webfonts/proximanova-light-webfont.svg/858f6a9b7ef3.svg#ProximaNovaLight') format(\"svg\");\n",
      "    font-weight: 300;\n",
      "    font-style: normal; }\n",
      "</style>\n",
      "\n",
      "\n",
      "        \n",
      "    \n",
      "        <meta name=\"robots\" content=\"noimageindex\">\n",
      "        \n",
      "    <meta name=\"mobile-web-app-capable\" content=\"yes\">\n",
      "    <meta name=\"apple-mobile-web-app-capable\" content=\"yes\">\n",
      "    <meta name=\"apple-mobile-web-app-status-bar-style\" content=\"black\">\n",
      "\n",
      "\n",
      "        \n",
      "    <meta id=\"viewport\" name=\"viewport\" content=\"width=device-width, user-scalable=no, initial-scale=1, minimum-scale=1, maximum-scale=1\">\n",
      "\n",
      "\n",
      "        <script type=\"text/javascript\">\n",
      "        (function() {\n",
      "            var docElement = document.documentElement;\n",
      "            var classRE = new RegExp('(^|\\\\s)no-js(\\\\s|$)');\n",
      "            var className = docElement.className;\n",
      "            docElement.className = className.replace(classRE, '$1js$2');\n",
      "        })();\n",
      "        </script>\n",
      "\n",
      "        \n",
      "    \n",
      "    \n",
      "    \n",
      "        <link rel=\"apple-touch-icon-precomposed\" sizes=\"76x76\" href=\"//instagramstatic-a.akamaihd.net/h1/images/ico/apple-touch-icon-76x76-precomposed.png/932e4d9af891.png\">\n",
      "        <link rel=\"apple-touch-icon-precomposed\" sizes=\"120x120\" href=\"//instagramstatic-a.akamaihd.net/h1/images/ico/apple-touch-icon-120x120-precomposed.png/004705c9353f.png\">\n",
      "        <link rel=\"apple-touch-icon-precomposed\" sizes=\"152x152\" href=\"//instagramstatic-a.akamaihd.net/h1/images/ico/apple-touch-icon-152x152-precomposed.png/82467bc9bcce.png\">\n",
      "        <link rel=\"apple-touch-icon-precomposed\" sizes=\"167x167\" href=\"//instagramstatic-a.akamaihd.net/h1/images/ico/apple-touch-icon-167x167-precomposed.png/515cb4eeeeee.png\">\n",
      "        <link rel=\"apple-touch-icon-precomposed\" sizes=\"180x180\" href=\"//instagramstatic-a.akamaihd.net/h1/images/ico/apple-touch-icon-180x180-precomposed.png/94fd767f257b.png\">\n",
      "        <link rel=\"icon\" sizes=\"192x192\" href=\"//instagramstatic-a.akamaihd.net/h1/images/ico/favicon-192.png/b407fa101800.png\">\n",
      "    \n",
      "    <link rel=\"mask-icon\" href=\"//instagramstatic-a.akamaihd.net/h1/images/ico/favicon.svg/9d8680ab8a3c.svg\" color=\"#262626\"><link rel=\"shortcut icon\" type=\"image/x-icon\" href=\"//instagramstatic-a.akamaihd.net/h1/images/ico/favicon.ico/dfa85bb1fd63.ico\">\n",
      "    \n",
      "    \n",
      "    \n",
      "\n",
      "    \n",
      "    \n",
      "    <link href=\"https://www.instagram.com/\" rel=\"alternate\" hreflang=\"x-default\" />\n",
      "<link href=\"https://www.instagram.com/?hl=el\" rel=\"alternate\" hreflang=\"el\" />\n",
      "<link href=\"https://www.instagram.com/?hl=gu\" rel=\"alternate\" hreflang=\"gu\" />\n",
      "<link href=\"https://www.instagram.com/?hl=en\" rel=\"alternate\" hreflang=\"en\" />\n",
      "<link href=\"https://www.instagram.com/?hl=af\" rel=\"alternate\" hreflang=\"af\" />\n",
      "<link href=\"https://www.instagram.com/?hl=vi\" rel=\"alternate\" hreflang=\"vi\" />\n",
      "<link href=\"https://www.instagram.com/?hl=fr-ca\" rel=\"alternate\" hreflang=\"fr-ca\" />\n",
      "<link href=\"https://www.instagram.com/?hl=it\" rel=\"alternate\" hreflang=\"it\" />\n",
      "<link href=\"https://www.instagram.com/?hl=kn\" rel=\"alternate\" hreflang=\"kn\" />\n",
      "<link href=\"https://www.instagram.com/?hl=zh-hk\" rel=\"alternate\" hreflang=\"zh-hk\" />\n",
      "<link href=\"https://www.instagram.com/?hl=pt-br\" rel=\"alternate\" hreflang=\"pt-br\" />\n",
      "<link href=\"https://www.instagram.com/?hl=cs\" rel=\"alternate\" hreflang=\"cs\" />\n",
      "<link href=\"https://www.instagram.com/?hl=id\" rel=\"alternate\" hreflang=\"id\" />\n",
      "<link href=\"https://www.instagram.com/?hl=es\" rel=\"alternate\" hreflang=\"es\" />\n",
      "<link href=\"https://www.instagram.com/?hl=ru\" rel=\"alternate\" hreflang=\"ru\" />\n",
      "<link href=\"https://www.instagram.com/?hl=sr\" rel=\"alternate\" hreflang=\"sr\" />\n",
      "<link href=\"https://www.instagram.com/?hl=nl\" rel=\"alternate\" hreflang=\"nl\" />\n",
      "<link href=\"https://www.instagram.com/?hl=pt\" rel=\"alternate\" hreflang=\"pt\" />\n",
      "<link href=\"https://www.instagram.com/?hl=zh-tw\" rel=\"alternate\" hreflang=\"zh-tw\" />\n",
      "<link href=\"https://www.instagram.com/?hl=nb\" rel=\"alternate\" hreflang=\"nb\" />\n",
      "<link href=\"https://www.instagram.com/?hl=tr\" rel=\"alternate\" hreflang=\"tr\" />\n",
      "<link href=\"https://www.instagram.com/?hl=ne\" rel=\"alternate\" hreflang=\"ne\" />\n",
      "<link href=\"https://www.instagram.com/?hl=zh-cn\" rel=\"alternate\" hreflang=\"zh-cn\" />\n",
      "<link href=\"https://www.instagram.com/?hl=tl\" rel=\"alternate\" hreflang=\"tl\" />\n",
      "<link href=\"https://www.instagram.com/?hl=pa\" rel=\"alternate\" hreflang=\"pa\" />\n",
      "<link href=\"https://www.instagram.com/?hl=th\" rel=\"alternate\" hreflang=\"th\" />\n",
      "<link href=\"https://www.instagram.com/?hl=te\" rel=\"alternate\" hreflang=\"te\" />\n",
      "<link href=\"https://www.instagram.com/?hl=pl\" rel=\"alternate\" hreflang=\"pl\" />\n",
      "<link href=\"https://www.instagram.com/?hl=ta\" rel=\"alternate\" hreflang=\"ta\" />\n",
      "<link href=\"https://www.instagram.com/?hl=fr\" rel=\"alternate\" hreflang=\"fr\" />\n",
      "<link href=\"https://www.instagram.com/?hl=bg\" rel=\"alternate\" hreflang=\"bg\" />\n",
      "<link href=\"https://www.instagram.com/?hl=uk\" rel=\"alternate\" hreflang=\"uk\" />\n",
      "<link href=\"https://www.instagram.com/?hl=hr\" rel=\"alternate\" hreflang=\"hr\" />\n",
      "<link href=\"https://www.instagram.com/?hl=bn\" rel=\"alternate\" hreflang=\"bn\" />\n",
      "<link href=\"https://www.instagram.com/?hl=de\" rel=\"alternate\" hreflang=\"de\" />\n",
      "<link href=\"https://www.instagram.com/?hl=da\" rel=\"alternate\" hreflang=\"da\" />\n",
      "<link href=\"https://www.instagram.com/?hl=hi\" rel=\"alternate\" hreflang=\"hi\" />\n",
      "<link href=\"https://www.instagram.com/?hl=fi\" rel=\"alternate\" hreflang=\"fi\" />\n",
      "<link href=\"https://www.instagram.com/?hl=hu\" rel=\"alternate\" hreflang=\"hu\" />\n",
      "<link href=\"https://www.instagram.com/?hl=ja\" rel=\"alternate\" hreflang=\"ja\" />\n",
      "<link href=\"https://www.instagram.com/?hl=ro\" rel=\"alternate\" hreflang=\"ro\" />\n",
      "<link href=\"https://www.instagram.com/?hl=ml\" rel=\"alternate\" hreflang=\"ml\" />\n",
      "<link href=\"https://www.instagram.com/?hl=ko\" rel=\"alternate\" hreflang=\"ko\" />\n",
      "<link href=\"https://www.instagram.com/?hl=sv\" rel=\"alternate\" hreflang=\"sv\" />\n",
      "<link href=\"https://www.instagram.com/?hl=ur\" rel=\"alternate\" hreflang=\"ur\" />\n",
      "<link href=\"https://www.instagram.com/?hl=sk\" rel=\"alternate\" hreflang=\"sk\" />\n",
      "<link href=\"https://www.instagram.com/?hl=si\" rel=\"alternate\" hreflang=\"si\" />\n",
      "<link href=\"https://www.instagram.com/?hl=ms\" rel=\"alternate\" hreflang=\"ms\" />\n",
      "<link href=\"https://www.instagram.com/?hl=mr\" rel=\"alternate\" hreflang=\"mr\" />\n",
      "    \n",
      "\n",
      "    </head>\n",
      "    <body class=\"\">\n",
      "        \n",
      "    \n",
      "    <span id=\"react-root\"></span>\n",
      "\n",
      "    \n",
      "\n",
      "        \n",
      "    <script src=//instagramstatic-a.akamaihd.net/h1/scripts/polyfills/es5-shim.min.js/6514c5e08593.js></script>\n",
      "<script src=//instagramstatic-a.akamaihd.net/h1/scripts/polyfills/es5-sham.min.js/fc3c22cf2d67.js></script>\n",
      "<script type=\"text/javascript\">window._sharedData = {\"country_code\": \"US\", \"language_code\": \"el\", \"gatekeepers\": {\"sulgin\": true}, \"show_app_install\": true, \"static_root\": \"//instagramstatic-a.akamaihd.net/h1\", \"platform\": \"web\", \"hostname\": \"www.instagram.com\", \"entry_data\": {\"LandingPage\": [{}]}, \"qe\": {\"profile\": {\"p\": {}, \"g\": \"\"}, \"su_universe\": {\"p\": {}, \"g\": \"\"}, \"notif\": {\"p\": {}, \"g\": \"\"}, \"us\": {\"p\": {\"show_desktop_registration_upsell\": \"true\"}, \"g\": \"show_desktop_registration_upsell_test_05\"}, \"su\": {\"p\": {\"enabled\": \"true\"}, \"g\": \"test_20160322\"}, \"us_li\": {\"p\": {}, \"g\": \"\"}, \"discovery\": {\"p\": {}, \"g\": \"\"}}, \"display_properties_server_guess\": {\"viewport_width\": 360, \"pixel_ratio\": 1.5}, \"config\": {\"viewer\": null, \"csrf_token\": \"SRnSFGjcOB3uaVJRs8fgjsmg5Hg5L2kJ\"}, \"environment_switcher_visible_server_guess\": true};</script>\n",
      "<script src=\"//instagramstatic-a.akamaihd.net/h1/bundles/el_GR_Commons.js/91a2dd87f183.js\" type=\"text/javascript\" crossorigin=\"anonymous\"></script>\n",
      "<script src=\"//instagramstatic-a.akamaihd.net/h1/bundles/el_GR_LandingPage.js/e8be62c3aff3.js\" type=\"text/javascript\" crossorigin=\"anonymous\"></script>\n",
      "        \n",
      "<script>\n",
      "!function(f,b,e,v,n,t,s){if(f.fbq)return;n=f.fbq=function(){n.callMethod?\n",
      "n.callMethod.apply(n,arguments):n.queue.push(arguments)};if(!f._fbq)f._fbq=n;\n",
      "n.push=n;n.loaded=!0;n.version='2.0';n.queue=[];t=b.createElement(e);t.async=!0;\n",
      "t.src=v;s=b.getElementsByTagName(e)[0];s.parentNode.insertBefore(t,s)}(window,\n",
      "document,'script','//connect.facebook.net/en_US/fbevents.js');\n",
      "\n",
      "fbq('init', '1425767024389221');\n",
      "\n",
      "fbq('track', 'PageView');\n",
      "\n",
      "\n",
      "</script>\n",
      "<noscript>\n",
      "\n",
      "\n",
      "</noscript>\n",
      "\n",
      "    \n",
      "    <script type=\"text/javascript\">window._timings.domInteractive = Date.now()</script>\n",
      "\n",
      "    </body>\n",
      "</html>\n"
     ]
    }
   ],
   "source": [
    "req = urllib2.Request('https://www.instagram.com/?hl=el')\n",
    "response = urllib2.urlopen(req)\n",
    "the_page = response.read()\n",
    "print the_page\n",
    "#f = open('./Desktop/samples.txt','r+')"
   ]
  },
  {
   "cell_type": "code",
   "execution_count": 22,
   "metadata": {
    "collapsed": true
   },
   "outputs": [],
   "source": [
    "from lxml import html\n",
    "import requests\n"
   ]
  },
  {
   "cell_type": "code",
   "execution_count": 23,
   "metadata": {
    "collapsed": false
   },
   "outputs": [
    {
     "name": "stdout",
     "output_type": "stream",
     "text": [
      "{\"status\": \"ok\", \"items\": [], \"more_available\": false}\n"
     ]
    }
   ],
   "source": [
    "page = requests.get('https://www.instagram.com/harsh0110/media')\n",
    "tree = html.fromstring(page.content)\n",
    "print page.content"
   ]
  },
  {
   "cell_type": "code",
   "execution_count": 27,
   "metadata": {
    "collapsed": false
   },
   "outputs": [
    {
     "name": "stdout",
     "output_type": "stream",
     "text": [
      "{u'meta': {u'code': 200}, u'data': {u'username': u'harsh0110', u'bio': u'', u'website': u'', u'profile_picture': u'https://scontent.cdninstagram.com/t51.2885-19/s150x150/13671219_1631775663817645_1686666381_a.jpg', u'full_name': u'Harsh Parikh', u'counts': {u'media': 2, u'followed_by': 346, u'follows': 455}, u'id': u'337685640'}}\n",
      "handle correct response\n"
     ]
    }
   ],
   "source": [
    "from instagram.client import InstagramAPI\n",
    "import json\n",
    "import requests\n",
    "\n",
    "access_token = \"337685640.1e348f6.38b643c42a464d28bb300a4aadb00779\"\n",
    "url = \"https://api.instagram.com/v1/users/337685640/?access_token={0}\".format(access_token)\n",
    "response = requests.get(url)\n",
    "j = json.loads(response.text)\n",
    "print j\n",
    "if 'data' in j:\n",
    "    print(\"handle correct response\")\n",
    "else:\n",
    "    print(\"handle incorrect response\")"
   ]
  },
  {
   "cell_type": "code",
   "execution_count": 26,
   "metadata": {
    "collapsed": false
   },
   "outputs": [
    {
     "name": "stdout",
     "output_type": "stream",
     "text": [
      "harsh0110\n",
      "Harsh Parikh\n"
     ]
    }
   ],
   "source": [
    "from instagram.client import InstagramAPI\n",
    "access_token = \"337685640.1e348f6.38b643c42a464d28bb300a4aadb00779\"\n",
    "api = InstagramAPI(access_token=access_token)\n",
    "user_info = api.user('337685640')\n",
    "print user_info.username\n",
    "print user_info.full_name"
   ]
  },
  {
   "cell_type": "code",
   "execution_count": null,
   "metadata": {
    "collapsed": true
   },
   "outputs": [],
   "source": []
  }
 ],
 "metadata": {
  "kernelspec": {
   "display_name": "Python 2",
   "language": "python",
   "name": "python2"
  },
  "language_info": {
   "codemirror_mode": {
    "name": "ipython",
    "version": 2
   },
   "file_extension": ".py",
   "mimetype": "text/x-python",
   "name": "python",
   "nbconvert_exporter": "python",
   "pygments_lexer": "ipython2",
   "version": "2.7.6"
  }
 },
 "nbformat": 4,
 "nbformat_minor": 0
}

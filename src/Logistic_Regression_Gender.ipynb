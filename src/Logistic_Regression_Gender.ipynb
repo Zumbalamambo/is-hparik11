{
 "cells": [
  {
   "cell_type": "markdown",
   "metadata": {},
   "source": [
    "## Import Libraries"
   ]
  },
  {
   "cell_type": "code",
   "execution_count": 35,
   "metadata": {
    "collapsed": true
   },
   "outputs": [],
   "source": [
    "import matplotlib.pyplot as plt\n",
    "import urllib\n",
    "from bs4 import BeautifulSoup\n",
    "from selenium import webdriver\n",
    "from matplotlib import pyplot as plt\n",
    "import re\n",
    "import os,sys, shutil\n",
    "import time\n",
    "from datetime import date\n",
    "try:\n",
    "    import cPickle as pickle\n",
    "except:\n",
    "    import pickle\n",
    "import pprint\n",
    "from collections import deque\n",
    "from shutil import copyfile\n",
    "import random\n",
    "import glob\n",
    "# Import the required modules\n",
    "import cv2, os\n",
    "import numpy as np\n",
    "from PIL import Image\n",
    "from sklearn.cross_validation import KFold\n",
    "import numpy as np\n",
    "from sklearn.linear_model import LogisticRegression\n",
    "from sklearn.metrics import accuracy_score\n",
    "# Logistic Regression\n",
    "from sklearn import datasets\n",
    "from sklearn import metrics\n",
    "from collections import Counter\n",
    "from operator import itemgetter"
   ]
  },
  {
   "cell_type": "code",
   "execution_count": 2,
   "metadata": {
    "collapsed": true
   },
   "outputs": [],
   "source": [
    "pkl_fl = open(\"linkedin_profiles.pickle\",\"rb\")\n",
    "my_original_list=pickle.load(pkl_fl) # errors out here\n",
    "pkl_fl.close()"
   ]
  },
  {
   "cell_type": "markdown",
   "metadata": {
    "collapsed": true
   },
   "source": [
    "## label the Images and store into respective folders"
   ]
  },
  {
   "cell_type": "code",
   "execution_count": 3,
   "metadata": {
    "collapsed": false
   },
   "outputs": [],
   "source": [
    "directory = \"Male\"\n",
    "    \n",
    "if os.path.exists(directory):\n",
    "    shutil.rmtree(directory)\n",
    "    os.makedirs(directory)     \n",
    "else:\n",
    "    os.makedirs(directory) \n",
    "\n",
    "directory1 = \"Female\"\n",
    "\n",
    "if os.path.exists(directory1):\n",
    "    shutil.rmtree(directory1)\n",
    "    os.makedirs(directory1)     \n",
    "else:\n",
    "    os.makedirs(directory1)     \n",
    "\n",
    "directory2 = \"Label_Images_Gender\"\n",
    "\n",
    "if os.path.exists(directory2):\n",
    "    shutil.rmtree(directory2)\n",
    "    os.makedirs(directory2)     \n",
    "else:\n",
    "    os.makedirs(directory2)     \n",
    "    \n",
    "fileList = glob.glob(\"./Images/*.*\")\n",
    "\n",
    "for id,fp in enumerate(fileList):\n",
    "    filename, file_extension = os.path.splitext(fp)\n",
    "    uid = filename.split('/')[-1]\n",
    "    #print fp\n",
    "    for prof in my_original_list:\n",
    "        if prof['User_ID'] == uid:\n",
    "            new_file_extension = prof['Gender']\n",
    "            new_file_extension = new_file_extension.title()\n",
    "            #os.rename(fp, filename+\".\"+new_file_extension)\n",
    "            copyfile(filename+\".jpg\", './Label_Images_Gender/'+ uid + '.' + str(id) + \".\"+new_file_extension +'.jpg')\n",
    "            copyfile(filename+\".jpg\", new_file_extension +'/' + uid + \".jpg\")"
   ]
  },
  {
   "cell_type": "code",
   "execution_count": 3,
   "metadata": {
    "collapsed": true
   },
   "outputs": [],
   "source": [
    "# For face detection we will use the Haar Cascade provided by OpenCV.\n",
    "cascadePath = \"haarcascade_frontalface_default.xml\"\n",
    "faceCascade = cv2.CascadeClassifier(cascadePath)\n",
    "\n",
    "# For face recognition we will the the LBPH Face Recognizer \n",
    "recognizer = cv2.createLBPHFaceRecognizer()"
   ]
  },
  {
   "cell_type": "code",
   "execution_count": 10,
   "metadata": {
    "collapsed": true
   },
   "outputs": [],
   "source": [
    "def get_images_and_labels(path):\n",
    "    # Append all the absolute image paths in a list image_paths\n",
    "    \n",
    "    image_paths = [os.path.join(path, f) for f in os.listdir(path)]\n",
    "    # images will contains face images\n",
    "    images = []\n",
    "    # labels will contains the label that is assigned to the image\n",
    "    labels = []\n",
    "    #gender will contains 1 or 0 indecating male or female\n",
    "    gender =[]\n",
    "    \n",
    "    for image_path in image_paths:\n",
    "        # Read the image and convert to grayscale\n",
    "        try:\n",
    "            image_pil = Image.open(image_path).convert('L')\n",
    "            # Convert the image format into numpy array\n",
    "            image = np.array(image_pil, 'uint8')\n",
    "            # Get the label of the image\n",
    "        except:\n",
    "            pass\n",
    "        \n",
    "        nbr = int(os.path.split(image_path)[1].split(\".\")[1])\n",
    "        gender_current = os.path.split(image_path)[1].split(\".\")[2]\n",
    "        #print nbr\n",
    "        \n",
    "        # Detect the face in the image\n",
    "        faces = faceCascade.detectMultiScale(image)\n",
    "        # If face is detected, append the face to images and the label to labels\n",
    "        try:\n",
    "            for (x, y, w, h) in faces:\n",
    "\n",
    "                ref_image = image[y: y + h, x: x + w]\n",
    "                resized = cv2.resize(ref_image, (100, 100), interpolation = cv2.INTER_AREA)\n",
    "                edge_images = cv2.Canny(resized,100,200)\n",
    "                \n",
    "                images.append(np.hstack((resized.reshape(1,10000), edge_images.reshape(1,10000))))\n",
    "                labels.append(nbr)\n",
    "\n",
    "                if gender_current == 'Male':\n",
    "                    gender.append(1)\n",
    "                else:\n",
    "                    gender.append(0)\n",
    "\n",
    "                cv2.imshow(\"Adding faces to traning set...\", resized)\n",
    "                cv2.waitKey(1)\n",
    "        except:\n",
    "            pass\n",
    "    # return the images list and labels list\n",
    "    #print \"lables\"\n",
    "    #print labels\n",
    "    #print \"gender_current\"\n",
    "    #print gender\n",
    "    \n",
    "    return images, labels, gender"
   ]
  },
  {
   "cell_type": "code",
   "execution_count": 11,
   "metadata": {
    "collapsed": false,
    "scrolled": true
   },
   "outputs": [],
   "source": [
    "images, labels, gender = get_images_and_labels('Label_Images_Gender')\n",
    "\n",
    "cv2.destroyAllWindows()"
   ]
  },
  {
   "cell_type": "code",
   "execution_count": 25,
   "metadata": {
    "collapsed": false
   },
   "outputs": [],
   "source": [
    "with open(\"tmp_gender_logistic.pickle\", \"wb\") as f:\n",
    "    pickle.dump((images,labels,gender), f)"
   ]
  },
  {
   "cell_type": "code",
   "execution_count": 15,
   "metadata": {
    "collapsed": true
   },
   "outputs": [],
   "source": [
    "with open(\"tmp_gender_logistic.pickle\", \"rb\") as f:\n",
    "    images, labels, gender = pickle.load(f) "
   ]
  },
  {
   "cell_type": "code",
   "execution_count": 16,
   "metadata": {
    "collapsed": false
   },
   "outputs": [],
   "source": [
    "# img = cv2.imread('ankitanarula.jpg',0)\n",
    "# resized = cv2.resize(img, (100, 100), interpolation = cv2.INTER_AREA)\n",
    "# edge_images = cv2.Canny(resized,100,200)\n",
    "# #edges = cv2.Canny(img,100,200)\n",
    "# plt.subplot(121),plt.imshow(resized,cmap = 'gray')\n",
    "# plt.title('Original Image'), plt.xticks([]), plt.yticks([])\n",
    "# plt.subplot(122),plt.imshow(edge_images,cmap = 'gray')\n",
    "# plt.title('Edge Image'), plt.xticks([]), plt.yticks([])\n",
    "# plt.show()\n",
    "# edge_images"
   ]
  },
  {
   "cell_type": "code",
   "execution_count": 16,
   "metadata": {
    "collapsed": false
   },
   "outputs": [
    {
     "data": {
      "text/plain": [
       "(1, 20000)"
      ]
     },
     "execution_count": 16,
     "metadata": {},
     "output_type": "execute_result"
    }
   ],
   "source": [
    "images[0].shape"
   ]
  },
  {
   "cell_type": "markdown",
   "metadata": {},
   "source": [
    "## Making the Dataset "
   ]
  },
  {
   "cell_type": "code",
   "execution_count": 17,
   "metadata": {
    "collapsed": false
   },
   "outputs": [],
   "source": [
    "res_images = []\n",
    "res_gender = []\n",
    "\n",
    "for gen in gender:\n",
    "    res_gender.append(np.array(gen).reshape(1,))\n",
    "    \n",
    "res_images = np.concatenate(images, axis=0)\n",
    "res_gender = np.concatenate(res_gender,axis=0)"
   ]
  },
  {
   "cell_type": "code",
   "execution_count": 18,
   "metadata": {
    "collapsed": false
   },
   "outputs": [
    {
     "data": {
      "text/plain": [
       "(2980, 20000)"
      ]
     },
     "execution_count": 18,
     "metadata": {},
     "output_type": "execute_result"
    }
   ],
   "source": [
    "res_images.shape"
   ]
  },
  {
   "cell_type": "code",
   "execution_count": 19,
   "metadata": {
    "collapsed": false
   },
   "outputs": [],
   "source": [
    "X,y = res_images,res_gender"
   ]
  },
  {
   "cell_type": "markdown",
   "metadata": {
    "collapsed": true
   },
   "source": [
    "## Test the Model for Gender with Edge"
   ]
  },
  {
   "cell_type": "code",
   "execution_count": 22,
   "metadata": {
    "collapsed": false
   },
   "outputs": [],
   "source": [
    "def predict(X,y):\n",
    "\n",
    "    kf = KFold(X.shape[0], n_folds=10, shuffle=True)\n",
    "    accuracy = 0.0\n",
    "    precision = [0, 0]\n",
    "    recall = [0, 0]\n",
    "    f_measure = [0, 0]\n",
    "\n",
    "    lr = LogisticRegression()\n",
    "    inbuilt_accuracy_score = 0.0\n",
    "\n",
    "    for test, train in kf:\n",
    "        X_Train, X_Test = X[train], X[test]\n",
    "        Y_Train, Y_Test = y[train], y[test]\n",
    "\n",
    "        lr.fit(X_Train, Y_Train)\n",
    "\n",
    "        pred = lr.predict(X_Test)\n",
    "\n",
    "        inbuilt_accuracy_score += accuracy_score(Y_Test, (pred))\n",
    "\n",
    "    inbuilt_accuracy_score /= 10\n",
    "\n",
    "\n",
    "    print \"\\nAccuracy from inbuilt Method: \", inbuilt_accuracy_score\n",
    "    print(metrics.classification_report(Y_Test, pred))\n",
    "    print(metrics.confusion_matrix(Y_Test, pred))"
   ]
  },
  {
   "cell_type": "code",
   "execution_count": 21,
   "metadata": {
    "collapsed": false
   },
   "outputs": [
    {
     "name": "stdout",
     "output_type": "stream",
     "text": [
      "\n",
      "Accuracy from inbuilt Method:  0.643773303505\n",
      "             precision    recall  f1-score   support\n",
      "\n",
      "          0       0.58      0.52      0.54      1207\n",
      "          1       0.64      0.69      0.66      1475\n",
      "\n",
      "avg / total       0.61      0.61      0.61      2682\n",
      "\n",
      "[[ 622  585]\n",
      " [ 455 1020]]\n"
     ]
    }
   ],
   "source": [
    "predict(X,y)"
   ]
  },
  {
   "cell_type": "code",
   "execution_count": 26,
   "metadata": {
    "collapsed": true
   },
   "outputs": [],
   "source": [
    "train_images = X[:-300]\n",
    "train_labels = y[:-300]\n",
    "test_images = X[-300:]\n",
    "test_labels = y[-300:]"
   ]
  },
  {
   "cell_type": "code",
   "execution_count": 49,
   "metadata": {
    "collapsed": false
   },
   "outputs": [],
   "source": [
    "def get_top_errors(X_test, y_test, filenames, clf, n=10):\n",
    "    \"\"\"\n",
    "    Use clf to predict the labels of the testing data in X_test. \n",
    "    We want to find incorrectly predicted documents. Furthermore, we want to look at those \n",
    "    where the probability of the incorrect label, according to the classifier, is highest.\n",
    "    Use the .predict_proba method of the classifier to get the probabilities of\n",
    "    each class label. Return the n documents that were misclassified, sorted by the\n",
    "    probability of the incorrect label. The returned value is a list of dicts, defined below.\n",
    "    Params:\n",
    "        X_test......the testing matrix\n",
    "        y_test......the true labels for each testing document\n",
    "        filenames...the filenames for each testing document\n",
    "        clf.........a trained LogisticRegression object\n",
    "        n...........the number of errors to return\n",
    "    Returns:\n",
    "        A list of n dicts containing the following key/value pairs:\n",
    "           index: the index of this document (in the filenames array)\n",
    "           probas: a numpy array containing the probability of class 0 and 1\n",
    "           truth: the true label\n",
    "           predicted: the predicted label\n",
    "           filename: the path to the file for this document\n",
    "    \"\"\"\n",
    "    ###TODO\n",
    "    ###\n",
    "   \n",
    "    \n",
    "    lst = []\n",
    "    newlist = []\n",
    "    predicted = clf.predict(X_test)\n",
    "    \n",
    "    predicted_proba = clf.predict_proba(X_test)\n",
    "    \n",
    "    for i in range(len(predicted)):\n",
    "        probability = predicted_proba[i][predicted[i]]\n",
    "        d = {}\n",
    "        dic = {}\n",
    "        \n",
    "        if predicted[i] != y_test[i]:\n",
    "            \n",
    "            if predicted[i] == 0:\n",
    "                dic['index'] = i\n",
    "                dic['probas'] = predicted_proba[i][0]\n",
    "            else:\n",
    "                dic['index'] = i\n",
    "                dic['probas'] = predicted_proba[i][1]\n",
    "            \n",
    "            lst.append(dic)\n",
    "    newlist = sorted(lst, key=itemgetter('probas'),reverse=True) \n",
    "    \n",
    "    #print ls\n",
    "    p = []            \n",
    "    for i in newlist[:n]:\n",
    "        p.append(i.values()[0])\n",
    "           \n",
    "    #print p\n",
    "    ls = []\n",
    "    for i in p:\n",
    "        d={}\n",
    "        d['filename'] = filenames[i]\n",
    "        d['index'] = i\n",
    "        d['predicted'] = predicted[i]\n",
    "        d['probas'] = predicted_proba[i]\n",
    "        d['truth'] = y_test[i]\n",
    "    \n",
    "        ls.append(d)\n",
    "    \n",
    "    \n",
    "    return ls "
   ]
  },
  {
   "cell_type": "code",
   "execution_count": 28,
   "metadata": {
    "collapsed": false
   },
   "outputs": [],
   "source": [
    "clf = LogisticRegression()"
   ]
  },
  {
   "cell_type": "code",
   "execution_count": 31,
   "metadata": {
    "collapsed": false
   },
   "outputs": [
    {
     "data": {
      "text/plain": [
       "LogisticRegression(C=1.0, class_weight=None, dual=False, fit_intercept=True,\n",
       "          intercept_scaling=1, max_iter=100, multi_class='ovr', n_jobs=1,\n",
       "          penalty='l2', random_state=None, solver='liblinear', tol=0.0001,\n",
       "          verbose=0, warm_start=False)"
      ]
     },
     "execution_count": 31,
     "metadata": {},
     "output_type": "execute_result"
    }
   ],
   "source": [
    "clf.fit(train_images, train_labels)"
   ]
  },
  {
   "cell_type": "code",
   "execution_count": 51,
   "metadata": {
    "collapsed": false
   },
   "outputs": [
    {
     "data": {
      "text/plain": [
       "[{'filename': './Label_Images_Gender/george-c-dozier-52a0431.1277.Male.jpg',\n",
       "  'index': 53,\n",
       "  'predicted': 1,\n",
       "  'probas': array([ 0.,  1.]),\n",
       "  'truth': 0},\n",
       " {'filename': './Label_Images_Gender/thomas-driscoll-304a3522.846.Male.jpg',\n",
       "  'index': 134,\n",
       "  'predicted': 1,\n",
       "  'probas': array([ 0.,  1.]),\n",
       "  'truth': 0},\n",
       " {'filename': './Label_Images_Gender/bobdorff.3314.Male.jpg',\n",
       "  'index': 145,\n",
       "  'predicted': 0,\n",
       "  'probas': array([  1.00000000e+00,   2.64253683e-27]),\n",
       "  'truth': 1},\n",
       " {'filename': './Label_Images_Gender/bingjun-xu-7610b427.2112.Male.jpg',\n",
       "  'index': 168,\n",
       "  'predicted': 1,\n",
       "  'probas': array([ 0.,  1.]),\n",
       "  'truth': 0},\n",
       " {'filename': './Label_Images_Gender/lindsay-casillas-2b266258.612.Female.jpg',\n",
       "  'index': 203,\n",
       "  'predicted': 0,\n",
       "  'probas': array([  1.00000000e+00,   1.88725223e-19]),\n",
       "  'truth': 1},\n",
       " {'filename': './Label_Images_Gender/julian-tamayo-56937b11a.891.Male.jpg',\n",
       "  'index': 272,\n",
       "  'predicted': 1,\n",
       "  'probas': array([ 0.,  1.]),\n",
       "  'truth': 0},\n",
       " {'filename': './Label_Images_Gender/shashankchourey.2731.Male.jpg',\n",
       "  'index': 287,\n",
       "  'predicted': 1,\n",
       "  'probas': array([ 0.,  1.]),\n",
       "  'truth': 0},\n",
       " {'filename': './Label_Images_Gender/kirsi-lehtinen-172b3717.3033.Female.jpg',\n",
       "  'index': 112,\n",
       "  'predicted': 0,\n",
       "  'probas': array([  1.00000000e+00,   6.79460308e-16]),\n",
       "  'truth': 1},\n",
       " {'filename': './Label_Images_Gender/shannon-barnard-612921107.1965.Female.jpg',\n",
       "  'index': 260,\n",
       "  'predicted': 1,\n",
       "  'probas': array([  2.14273044e-13,   1.00000000e+00]),\n",
       "  'truth': 0},\n",
       " {'filename': './Label_Images_Gender/nrupa-chitley-b760b65a.1403.Female.jpg',\n",
       "  'index': 72,\n",
       "  'predicted': 0,\n",
       "  'probas': array([  1.00000000e+00,   8.04127068e-13]),\n",
       "  'truth': 1}]"
      ]
     },
     "execution_count": 51,
     "metadata": {},
     "output_type": "execute_result"
    }
   ],
   "source": [
    "fileList = glob.glob(\"./Label_Images_Gender/*.*\")\n",
    "errors = get_top_errors(test_images, test_labels, fileList, clf)\n",
    "errors"
   ]
  },
  {
   "cell_type": "markdown",
   "metadata": {},
   "source": [
    "## Test the Model for Gender without Edge"
   ]
  },
  {
   "cell_type": "code",
   "execution_count": 23,
   "metadata": {
    "collapsed": false
   },
   "outputs": [
    {
     "data": {
      "text/plain": [
       "(2980, 10000)"
      ]
     },
     "execution_count": 23,
     "metadata": {},
     "output_type": "execute_result"
    }
   ],
   "source": [
    "X_without_edge,y = res_images[:,:10000],res_gender\n",
    "X_without_edge.shape"
   ]
  },
  {
   "cell_type": "code",
   "execution_count": 24,
   "metadata": {
    "collapsed": false
   },
   "outputs": [
    {
     "name": "stdout",
     "output_type": "stream",
     "text": [
      "\n",
      "Accuracy from inbuilt Method:  0.703579418345\n",
      "             precision    recall  f1-score   support\n",
      "\n",
      "          0       0.68      0.64      0.66      1192\n",
      "          1       0.72      0.76      0.74      1490\n",
      "\n",
      "avg / total       0.70      0.70      0.70      2682\n",
      "\n",
      "[[ 759  433]\n",
      " [ 365 1125]]\n"
     ]
    }
   ],
   "source": [
    "predict(X_without_edge,y)"
   ]
  },
  {
   "cell_type": "code",
   "execution_count": 42,
   "metadata": {
    "collapsed": true
   },
   "outputs": [],
   "source": [
    "train_images = X_without_edge[:-300]\n",
    "train_labels = y[:-300]\n",
    "test_images = X_without_edge[-300:]\n",
    "test_labels = y[-300:]"
   ]
  },
  {
   "cell_type": "code",
   "execution_count": 43,
   "metadata": {
    "collapsed": false
   },
   "outputs": [
    {
     "data": {
      "text/plain": [
       "LogisticRegression(C=1.0, class_weight=None, dual=False, fit_intercept=True,\n",
       "          intercept_scaling=1, max_iter=100, multi_class='ovr', n_jobs=1,\n",
       "          penalty='l2', random_state=None, solver='liblinear', tol=0.0001,\n",
       "          verbose=0, warm_start=False)"
      ]
     },
     "execution_count": 43,
     "metadata": {},
     "output_type": "execute_result"
    }
   ],
   "source": [
    "clf.fit(train_images, train_labels)"
   ]
  },
  {
   "cell_type": "code",
   "execution_count": 46,
   "metadata": {
    "collapsed": false
   },
   "outputs": [
    {
     "data": {
      "text/plain": [
       "[{'filename': './Label_Images_Gender/george-c-dozier-52a0431.1277.Male.jpg',\n",
       "  'index': 53,\n",
       "  'predicted': 1,\n",
       "  'probas': array([ 0.,  1.]),\n",
       "  'truth': 0},\n",
       " {'filename': './Label_Images_Gender/thomas-driscoll-304a3522.846.Male.jpg',\n",
       "  'index': 134,\n",
       "  'predicted': 1,\n",
       "  'probas': array([ 0.,  1.]),\n",
       "  'truth': 0},\n",
       " {'filename': './Label_Images_Gender/bobdorff.3314.Male.jpg',\n",
       "  'index': 145,\n",
       "  'predicted': 0,\n",
       "  'probas': array([  1.00000000e+00,   2.64253683e-27]),\n",
       "  'truth': 1},\n",
       " {'filename': './Label_Images_Gender/bingjun-xu-7610b427.2112.Male.jpg',\n",
       "  'index': 168,\n",
       "  'predicted': 1,\n",
       "  'probas': array([ 0.,  1.]),\n",
       "  'truth': 0},\n",
       " {'filename': './Label_Images_Gender/lindsay-casillas-2b266258.612.Female.jpg',\n",
       "  'index': 203,\n",
       "  'predicted': 0,\n",
       "  'probas': array([  1.00000000e+00,   1.88725223e-19]),\n",
       "  'truth': 1},\n",
       " {'filename': './Label_Images_Gender/julian-tamayo-56937b11a.891.Male.jpg',\n",
       "  'index': 272,\n",
       "  'predicted': 1,\n",
       "  'probas': array([ 0.,  1.]),\n",
       "  'truth': 0},\n",
       " {'filename': './Label_Images_Gender/shashankchourey.2731.Male.jpg',\n",
       "  'index': 287,\n",
       "  'predicted': 1,\n",
       "  'probas': array([ 0.,  1.]),\n",
       "  'truth': 0},\n",
       " {'filename': './Label_Images_Gender/kirsi-lehtinen-172b3717.3033.Female.jpg',\n",
       "  'index': 112,\n",
       "  'predicted': 0,\n",
       "  'probas': array([  1.00000000e+00,   6.79460308e-16]),\n",
       "  'truth': 1},\n",
       " {'filename': './Label_Images_Gender/shannon-barnard-612921107.1965.Female.jpg',\n",
       "  'index': 260,\n",
       "  'predicted': 1,\n",
       "  'probas': array([  2.14273044e-13,   1.00000000e+00]),\n",
       "  'truth': 0},\n",
       " {'filename': './Label_Images_Gender/nrupa-chitley-b760b65a.1403.Female.jpg',\n",
       "  'index': 72,\n",
       "  'predicted': 0,\n",
       "  'probas': array([  1.00000000e+00,   8.04127068e-13]),\n",
       "  'truth': 1}]"
      ]
     },
     "execution_count": 46,
     "metadata": {},
     "output_type": "execute_result"
    }
   ],
   "source": [
    "fileList = glob.glob(\"./Label_Images_Gender/*.*\")\n",
    "errors = get_top_errors(test_images, test_labels, fileList, clf)\n",
    "errors "
   ]
  },
  {
   "cell_type": "markdown",
   "metadata": {
    "collapsed": true
   },
   "source": [
    "## Sample of Edge"
   ]
  },
  {
   "cell_type": "code",
   "execution_count": 53,
   "metadata": {
    "collapsed": false
   },
   "outputs": [
    {
     "data": {
      "image/png": "[encoded data removed]",
      "text/plain": [
       "<matplotlib.figure.Figure at 0x7f12cf963c90>"
      ]
     },
     "metadata": {},
     "output_type": "display_data"
    }
   ],
   "source": [
    "import cv2\n",
    "import numpy as np\n",
    "from matplotlib import pyplot as plt\n",
    "\n",
    "img = cv2.imread('jeffweiner08.jpg',0)\n",
    "edges = cv2.Canny(img,100,200)\n",
    "\n",
    "plt.subplot(121),plt.imshow(img,cmap = 'gray')\n",
    "plt.title('Original Image'), plt.xticks([]), plt.yticks([])\n",
    "plt.subplot(122),plt.imshow(edges,cmap = 'gray')\n",
    "plt.title('Edge Image'), plt.xticks([]), plt.yticks([])\n",
    "\n",
    "plt.show()"
   ]
  },
  {
   "cell_type": "code",
   "execution_count": 52,
   "metadata": {
    "collapsed": false
   },
   "outputs": [
    {
     "name": "stdout",
     "output_type": "stream",
     "text": [
      "Counter({'Male': 1472, 'Female': 1137, 'Unknown': 1})\n"
     ]
    }
   ],
   "source": [
    "#!/usr/bin/env python\n",
    "import numpy as np\n",
    "import matplotlib.mlab as mlab\n",
    "import matplotlib.pyplot as plt\n",
    "import collections\n",
    "%matplotlib inline\n",
    "\n",
    "#mu, sigma = 100, 15\n",
    "#x = mu + sigma*np.random.randn(10000)\n",
    "gender = [prof['Gender'] for prof in my_original_list]\n",
    "#x= np.array(gender) \n",
    "x = collections.Counter(gender)\n",
    "print x"
   ]
  }
 ],
 "metadata": {
  "kernelspec": {
   "display_name": "Python 2",
   "language": "python",
   "name": "python2"
  },
  "language_info": {
   "codemirror_mode": {
    "name": "ipython",
    "version": 2
   },
   "file_extension": ".py",
   "mimetype": "text/x-python",
   "name": "python",
   "nbconvert_exporter": "python",
   "pygments_lexer": "ipython2",
   "version": "2.7.6"
  }
 },
 "nbformat": 4,
 "nbformat_minor": 0
}
